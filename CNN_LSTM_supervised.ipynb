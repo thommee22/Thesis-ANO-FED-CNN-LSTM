{
  "cells": [
    {
      "cell_type": "code",
      "execution_count": null,
      "metadata": {
        "colab": {
          "base_uri": "https://localhost:8080/"
        },
        "id": "19o65K4DiQ_k",
        "outputId": "609b8608-5f11-481d-c27b-c1395792a7c5"
      },
      "outputs": [
        {
          "output_type": "stream",
          "name": "stdout",
          "text": [
            "Mounted at /content/drive\n"
          ]
        }
      ],
      "source": [
        "from google.colab import drive\n",
        "\n",
        "# Mount Google Drive\n",
        "drive.mount('/content/drive')"
      ]
    },
    {
      "cell_type": "code",
      "source": [
        "import keras_cv"
      ],
      "metadata": {
        "colab": {
          "base_uri": "https://localhost:8080/"
        },
        "id": "tAals5IQX9Vf",
        "outputId": "6b073a75-14db-4fd0-e01f-08fb465646ac"
      },
      "execution_count": null,
      "outputs": [
        {
          "output_type": "stream",
          "name": "stdout",
          "text": [
            "Using TensorFlow backend\n"
          ]
        }
      ]
    },
    {
      "cell_type": "code",
      "execution_count": null,
      "metadata": {
        "id": "vYrq4I03ydy8"
      },
      "outputs": [],
      "source": [
        "import matplotlib.pyplot as plt\n",
        "import pandas as pd\n",
        "import numpy as np\n",
        "from sklearn.preprocessing import StandardScaler\n",
        "from tensorflow.keras.layers import LSTM, Dense, Dropout, BatchNormalization,GRU, Conv1D, MaxPooling1D, Flatten\n",
        "from tensorflow.keras.models import Sequential\n",
        "from tensorflow.keras.regularizers import l2\n",
        "from tensorflow.keras.callbacks import TensorBoard, ModelCheckpoint, EarlyStopping, LearningRateScheduler\n",
        "from tensorflow.keras.metrics import Recall\n",
        "from tensorflow.keras.optimizers import Adam\n",
        "from sklearn.metrics import precision_score, recall_score,accuracy_score\n",
        "from tensorflow.keras.initializers import HeUniform\n",
        "from tensorflow.keras import regularizers\n",
        "import os\n",
        "import sklearn.metrics\n",
        "import tensorflow as tf\n",
        "from sklearn.metrics import confusion_matrix\n",
        "import seaborn as sns\n",
        "import keras as ks\n",
        "from sklearn.preprocessing import MinMaxScaler\n",
        "from keras import layers\n",
        "from tensorflow.keras.models import Model"
      ]
    },
    {
      "cell_type": "code",
      "execution_count": null,
      "metadata": {
        "id": "NuDUAK-U6SeS"
      },
      "outputs": [],
      "source": [
        "dataset = pd.read_csv('/content/drive/MyDrive/merged_data.csv', index_col='ts', parse_dates=True)"
      ]
    },
    {
      "cell_type": "code",
      "execution_count": null,
      "metadata": {
        "colab": {
          "base_uri": "https://localhost:8080/",
          "height": 822
        },
        "id": "yU5FJCmtl_Ei",
        "outputId": "621f4594-2667-4b6e-9932-ca67a219ee80"
      },
      "outputs": [
        {
          "data": {
            "application/vnd.google.colaboratory.intrinsic+json": {
              "type": "dataframe",
              "variable_name": "dataset"
            },
            "text/html": [
              "\n",
              "  <div id=\"df-73507b5f-75d7-407e-ae62-dfccffa3d058\" class=\"colab-df-container\">\n",
              "    <div>\n",
              "<style scoped>\n",
              "    .dataframe tbody tr th:only-of-type {\n",
              "        vertical-align: middle;\n",
              "    }\n",
              "\n",
              "    .dataframe tbody tr th {\n",
              "        vertical-align: top;\n",
              "    }\n",
              "\n",
              "    .dataframe thead th {\n",
              "        text-align: right;\n",
              "    }\n",
              "</style>\n",
              "<table border=\"1\" class=\"dataframe\">\n",
              "  <thead>\n",
              "    <tr style=\"text-align: right;\">\n",
              "      <th></th>\n",
              "      <th>event_rssi</th>\n",
              "      <th>event_rsrp</th>\n",
              "      <th>event_rsrq</th>\n",
              "      <th>rtt</th>\n",
              "      <th>event_band</th>\n",
              "      <th>event_lte_freq</th>\n",
              "      <th>anomaly_label</th>\n",
              "      <th>node_id_4135</th>\n",
              "      <th>node_id_4137</th>\n",
              "      <th>node_id_4147</th>\n",
              "    </tr>\n",
              "    <tr>\n",
              "      <th>ts</th>\n",
              "      <th></th>\n",
              "      <th></th>\n",
              "      <th></th>\n",
              "      <th></th>\n",
              "      <th></th>\n",
              "      <th></th>\n",
              "      <th></th>\n",
              "      <th></th>\n",
              "      <th></th>\n",
              "      <th></th>\n",
              "    </tr>\n",
              "  </thead>\n",
              "  <tbody>\n",
              "    <tr>\n",
              "      <th>2023-11-01 00:00:00</th>\n",
              "      <td>-39.0</td>\n",
              "      <td>-62.0</td>\n",
              "      <td>-8.0</td>\n",
              "      <td>0.044847</td>\n",
              "      <td>20.0</td>\n",
              "      <td>800.0</td>\n",
              "      <td>0</td>\n",
              "      <td>0</td>\n",
              "      <td>1</td>\n",
              "      <td>0</td>\n",
              "    </tr>\n",
              "    <tr>\n",
              "      <th>2023-11-01 00:00:00</th>\n",
              "      <td>-45.0</td>\n",
              "      <td>-68.0</td>\n",
              "      <td>-7.0</td>\n",
              "      <td>0.057562</td>\n",
              "      <td>8.0</td>\n",
              "      <td>900.0</td>\n",
              "      <td>1</td>\n",
              "      <td>1</td>\n",
              "      <td>0</td>\n",
              "      <td>0</td>\n",
              "    </tr>\n",
              "    <tr>\n",
              "      <th>2023-11-01 00:00:00</th>\n",
              "      <td>-51.0</td>\n",
              "      <td>-81.0</td>\n",
              "      <td>-10.0</td>\n",
              "      <td>0.019667</td>\n",
              "      <td>20.0</td>\n",
              "      <td>800.0</td>\n",
              "      <td>0</td>\n",
              "      <td>0</td>\n",
              "      <td>0</td>\n",
              "      <td>1</td>\n",
              "    </tr>\n",
              "    <tr>\n",
              "      <th>2023-11-01 00:00:01</th>\n",
              "      <td>-51.0</td>\n",
              "      <td>-81.0</td>\n",
              "      <td>-10.0</td>\n",
              "      <td>0.011093</td>\n",
              "      <td>20.0</td>\n",
              "      <td>800.0</td>\n",
              "      <td>0</td>\n",
              "      <td>0</td>\n",
              "      <td>0</td>\n",
              "      <td>1</td>\n",
              "    </tr>\n",
              "    <tr>\n",
              "      <th>2023-11-01 00:00:01</th>\n",
              "      <td>-39.0</td>\n",
              "      <td>-62.0</td>\n",
              "      <td>-8.0</td>\n",
              "      <td>0.052272</td>\n",
              "      <td>20.0</td>\n",
              "      <td>800.0</td>\n",
              "      <td>1</td>\n",
              "      <td>0</td>\n",
              "      <td>1</td>\n",
              "      <td>0</td>\n",
              "    </tr>\n",
              "    <tr>\n",
              "      <th>...</th>\n",
              "      <td>...</td>\n",
              "      <td>...</td>\n",
              "      <td>...</td>\n",
              "      <td>...</td>\n",
              "      <td>...</td>\n",
              "      <td>...</td>\n",
              "      <td>...</td>\n",
              "      <td>...</td>\n",
              "      <td>...</td>\n",
              "      <td>...</td>\n",
              "    </tr>\n",
              "    <tr>\n",
              "      <th>2023-11-14 23:59:58</th>\n",
              "      <td>-55.0</td>\n",
              "      <td>-81.0</td>\n",
              "      <td>-10.0</td>\n",
              "      <td>0.046952</td>\n",
              "      <td>20.0</td>\n",
              "      <td>800.0</td>\n",
              "      <td>1</td>\n",
              "      <td>0</td>\n",
              "      <td>0</td>\n",
              "      <td>1</td>\n",
              "    </tr>\n",
              "    <tr>\n",
              "      <th>2023-11-14 23:59:58</th>\n",
              "      <td>-46.0</td>\n",
              "      <td>-69.0</td>\n",
              "      <td>-8.0</td>\n",
              "      <td>0.056164</td>\n",
              "      <td>8.0</td>\n",
              "      <td>900.0</td>\n",
              "      <td>1</td>\n",
              "      <td>1</td>\n",
              "      <td>0</td>\n",
              "      <td>0</td>\n",
              "    </tr>\n",
              "    <tr>\n",
              "      <th>2023-11-14 23:59:59</th>\n",
              "      <td>-46.0</td>\n",
              "      <td>-70.0</td>\n",
              "      <td>-8.0</td>\n",
              "      <td>0.036725</td>\n",
              "      <td>8.0</td>\n",
              "      <td>900.0</td>\n",
              "      <td>0</td>\n",
              "      <td>0</td>\n",
              "      <td>1</td>\n",
              "      <td>0</td>\n",
              "    </tr>\n",
              "    <tr>\n",
              "      <th>2023-11-14 23:59:59</th>\n",
              "      <td>-46.0</td>\n",
              "      <td>-69.0</td>\n",
              "      <td>-7.0</td>\n",
              "      <td>0.050223</td>\n",
              "      <td>8.0</td>\n",
              "      <td>900.0</td>\n",
              "      <td>1</td>\n",
              "      <td>1</td>\n",
              "      <td>0</td>\n",
              "      <td>0</td>\n",
              "    </tr>\n",
              "    <tr>\n",
              "      <th>2023-11-14 23:59:59</th>\n",
              "      <td>-55.0</td>\n",
              "      <td>-81.0</td>\n",
              "      <td>-11.0</td>\n",
              "      <td>0.028281</td>\n",
              "      <td>20.0</td>\n",
              "      <td>800.0</td>\n",
              "      <td>0</td>\n",
              "      <td>0</td>\n",
              "      <td>0</td>\n",
              "      <td>1</td>\n",
              "    </tr>\n",
              "  </tbody>\n",
              "</table>\n",
              "<p>3606412 rows × 10 columns</p>\n",
              "</div>\n",
              "    <div class=\"colab-df-buttons\">\n",
              "\n",
              "  <div class=\"colab-df-container\">\n",
              "    <button class=\"colab-df-convert\" onclick=\"convertToInteractive('df-73507b5f-75d7-407e-ae62-dfccffa3d058')\"\n",
              "            title=\"Convert this dataframe to an interactive table.\"\n",
              "            style=\"display:none;\">\n",
              "\n",
              "  <svg xmlns=\"http://www.w3.org/2000/svg\" height=\"24px\" viewBox=\"0 -960 960 960\">\n",
              "    <path d=\"M120-120v-720h720v720H120Zm60-500h600v-160H180v160Zm220 220h160v-160H400v160Zm0 220h160v-160H400v160ZM180-400h160v-160H180v160Zm440 0h160v-160H620v160ZM180-180h160v-160H180v160Zm440 0h160v-160H620v160Z\"/>\n",
              "  </svg>\n",
              "    </button>\n",
              "\n",
              "  <style>\n",
              "    .colab-df-container {\n",
              "      display:flex;\n",
              "      gap: 12px;\n",
              "    }\n",
              "\n",
              "    .colab-df-convert {\n",
              "      background-color: #E8F0FE;\n",
              "      border: none;\n",
              "      border-radius: 50%;\n",
              "      cursor: pointer;\n",
              "      display: none;\n",
              "      fill: #1967D2;\n",
              "      height: 32px;\n",
              "      padding: 0 0 0 0;\n",
              "      width: 32px;\n",
              "    }\n",
              "\n",
              "    .colab-df-convert:hover {\n",
              "      background-color: #E2EBFA;\n",
              "      box-shadow: 0px 1px 2px rgba(60, 64, 67, 0.3), 0px 1px 3px 1px rgba(60, 64, 67, 0.15);\n",
              "      fill: #174EA6;\n",
              "    }\n",
              "\n",
              "    .colab-df-buttons div {\n",
              "      margin-bottom: 4px;\n",
              "    }\n",
              "\n",
              "    [theme=dark] .colab-df-convert {\n",
              "      background-color: #3B4455;\n",
              "      fill: #D2E3FC;\n",
              "    }\n",
              "\n",
              "    [theme=dark] .colab-df-convert:hover {\n",
              "      background-color: #434B5C;\n",
              "      box-shadow: 0px 1px 3px 1px rgba(0, 0, 0, 0.15);\n",
              "      filter: drop-shadow(0px 1px 2px rgba(0, 0, 0, 0.3));\n",
              "      fill: #FFFFFF;\n",
              "    }\n",
              "  </style>\n",
              "\n",
              "    <script>\n",
              "      const buttonEl =\n",
              "        document.querySelector('#df-73507b5f-75d7-407e-ae62-dfccffa3d058 button.colab-df-convert');\n",
              "      buttonEl.style.display =\n",
              "        google.colab.kernel.accessAllowed ? 'block' : 'none';\n",
              "\n",
              "      async function convertToInteractive(key) {\n",
              "        const element = document.querySelector('#df-73507b5f-75d7-407e-ae62-dfccffa3d058');\n",
              "        const dataTable =\n",
              "          await google.colab.kernel.invokeFunction('convertToInteractive',\n",
              "                                                    [key], {});\n",
              "        if (!dataTable) return;\n",
              "\n",
              "        const docLinkHtml = 'Like what you see? Visit the ' +\n",
              "          '<a target=\"_blank\" href=https://colab.research.google.com/notebooks/data_table.ipynb>data table notebook</a>'\n",
              "          + ' to learn more about interactive tables.';\n",
              "        element.innerHTML = '';\n",
              "        dataTable['output_type'] = 'display_data';\n",
              "        await google.colab.output.renderOutput(dataTable, element);\n",
              "        const docLink = document.createElement('div');\n",
              "        docLink.innerHTML = docLinkHtml;\n",
              "        element.appendChild(docLink);\n",
              "      }\n",
              "    </script>\n",
              "  </div>\n",
              "\n",
              "\n",
              "<div id=\"df-9df65e15-9822-4121-90f5-a86e89c94225\">\n",
              "  <button class=\"colab-df-quickchart\" onclick=\"quickchart('df-9df65e15-9822-4121-90f5-a86e89c94225')\"\n",
              "            title=\"Suggest charts\"\n",
              "            style=\"display:none;\">\n",
              "\n",
              "<svg xmlns=\"http://www.w3.org/2000/svg\" height=\"24px\"viewBox=\"0 0 24 24\"\n",
              "     width=\"24px\">\n",
              "    <g>\n",
              "        <path d=\"M19 3H5c-1.1 0-2 .9-2 2v14c0 1.1.9 2 2 2h14c1.1 0 2-.9 2-2V5c0-1.1-.9-2-2-2zM9 17H7v-7h2v7zm4 0h-2V7h2v10zm4 0h-2v-4h2v4z\"/>\n",
              "    </g>\n",
              "</svg>\n",
              "  </button>\n",
              "\n",
              "<style>\n",
              "  .colab-df-quickchart {\n",
              "      --bg-color: #E8F0FE;\n",
              "      --fill-color: #1967D2;\n",
              "      --hover-bg-color: #E2EBFA;\n",
              "      --hover-fill-color: #174EA6;\n",
              "      --disabled-fill-color: #AAA;\n",
              "      --disabled-bg-color: #DDD;\n",
              "  }\n",
              "\n",
              "  [theme=dark] .colab-df-quickchart {\n",
              "      --bg-color: #3B4455;\n",
              "      --fill-color: #D2E3FC;\n",
              "      --hover-bg-color: #434B5C;\n",
              "      --hover-fill-color: #FFFFFF;\n",
              "      --disabled-bg-color: #3B4455;\n",
              "      --disabled-fill-color: #666;\n",
              "  }\n",
              "\n",
              "  .colab-df-quickchart {\n",
              "    background-color: var(--bg-color);\n",
              "    border: none;\n",
              "    border-radius: 50%;\n",
              "    cursor: pointer;\n",
              "    display: none;\n",
              "    fill: var(--fill-color);\n",
              "    height: 32px;\n",
              "    padding: 0;\n",
              "    width: 32px;\n",
              "  }\n",
              "\n",
              "  .colab-df-quickchart:hover {\n",
              "    background-color: var(--hover-bg-color);\n",
              "    box-shadow: 0 1px 2px rgba(60, 64, 67, 0.3), 0 1px 3px 1px rgba(60, 64, 67, 0.15);\n",
              "    fill: var(--button-hover-fill-color);\n",
              "  }\n",
              "\n",
              "  .colab-df-quickchart-complete:disabled,\n",
              "  .colab-df-quickchart-complete:disabled:hover {\n",
              "    background-color: var(--disabled-bg-color);\n",
              "    fill: var(--disabled-fill-color);\n",
              "    box-shadow: none;\n",
              "  }\n",
              "\n",
              "  .colab-df-spinner {\n",
              "    border: 2px solid var(--fill-color);\n",
              "    border-color: transparent;\n",
              "    border-bottom-color: var(--fill-color);\n",
              "    animation:\n",
              "      spin 1s steps(1) infinite;\n",
              "  }\n",
              "\n",
              "  @keyframes spin {\n",
              "    0% {\n",
              "      border-color: transparent;\n",
              "      border-bottom-color: var(--fill-color);\n",
              "      border-left-color: var(--fill-color);\n",
              "    }\n",
              "    20% {\n",
              "      border-color: transparent;\n",
              "      border-left-color: var(--fill-color);\n",
              "      border-top-color: var(--fill-color);\n",
              "    }\n",
              "    30% {\n",
              "      border-color: transparent;\n",
              "      border-left-color: var(--fill-color);\n",
              "      border-top-color: var(--fill-color);\n",
              "      border-right-color: var(--fill-color);\n",
              "    }\n",
              "    40% {\n",
              "      border-color: transparent;\n",
              "      border-right-color: var(--fill-color);\n",
              "      border-top-color: var(--fill-color);\n",
              "    }\n",
              "    60% {\n",
              "      border-color: transparent;\n",
              "      border-right-color: var(--fill-color);\n",
              "    }\n",
              "    80% {\n",
              "      border-color: transparent;\n",
              "      border-right-color: var(--fill-color);\n",
              "      border-bottom-color: var(--fill-color);\n",
              "    }\n",
              "    90% {\n",
              "      border-color: transparent;\n",
              "      border-bottom-color: var(--fill-color);\n",
              "    }\n",
              "  }\n",
              "</style>\n",
              "\n",
              "  <script>\n",
              "    async function quickchart(key) {\n",
              "      const quickchartButtonEl =\n",
              "        document.querySelector('#' + key + ' button');\n",
              "      quickchartButtonEl.disabled = true;  // To prevent multiple clicks.\n",
              "      quickchartButtonEl.classList.add('colab-df-spinner');\n",
              "      try {\n",
              "        const charts = await google.colab.kernel.invokeFunction(\n",
              "            'suggestCharts', [key], {});\n",
              "      } catch (error) {\n",
              "        console.error('Error during call to suggestCharts:', error);\n",
              "      }\n",
              "      quickchartButtonEl.classList.remove('colab-df-spinner');\n",
              "      quickchartButtonEl.classList.add('colab-df-quickchart-complete');\n",
              "    }\n",
              "    (() => {\n",
              "      let quickchartButtonEl =\n",
              "        document.querySelector('#df-9df65e15-9822-4121-90f5-a86e89c94225 button');\n",
              "      quickchartButtonEl.style.display =\n",
              "        google.colab.kernel.accessAllowed ? 'block' : 'none';\n",
              "    })();\n",
              "  </script>\n",
              "</div>\n",
              "    </div>\n",
              "  </div>\n"
            ],
            "text/plain": [
              "                     event_rssi  event_rsrp  event_rsrq       rtt  event_band  \\\n",
              "ts                                                                              \n",
              "2023-11-01 00:00:00       -39.0       -62.0        -8.0  0.044847        20.0   \n",
              "2023-11-01 00:00:00       -45.0       -68.0        -7.0  0.057562         8.0   \n",
              "2023-11-01 00:00:00       -51.0       -81.0       -10.0  0.019667        20.0   \n",
              "2023-11-01 00:00:01       -51.0       -81.0       -10.0  0.011093        20.0   \n",
              "2023-11-01 00:00:01       -39.0       -62.0        -8.0  0.052272        20.0   \n",
              "...                         ...         ...         ...       ...         ...   \n",
              "2023-11-14 23:59:58       -55.0       -81.0       -10.0  0.046952        20.0   \n",
              "2023-11-14 23:59:58       -46.0       -69.0        -8.0  0.056164         8.0   \n",
              "2023-11-14 23:59:59       -46.0       -70.0        -8.0  0.036725         8.0   \n",
              "2023-11-14 23:59:59       -46.0       -69.0        -7.0  0.050223         8.0   \n",
              "2023-11-14 23:59:59       -55.0       -81.0       -11.0  0.028281        20.0   \n",
              "\n",
              "                     event_lte_freq  anomaly_label  node_id_4135  \\\n",
              "ts                                                                 \n",
              "2023-11-01 00:00:00           800.0              0             0   \n",
              "2023-11-01 00:00:00           900.0              1             1   \n",
              "2023-11-01 00:00:00           800.0              0             0   \n",
              "2023-11-01 00:00:01           800.0              0             0   \n",
              "2023-11-01 00:00:01           800.0              1             0   \n",
              "...                             ...            ...           ...   \n",
              "2023-11-14 23:59:58           800.0              1             0   \n",
              "2023-11-14 23:59:58           900.0              1             1   \n",
              "2023-11-14 23:59:59           900.0              0             0   \n",
              "2023-11-14 23:59:59           900.0              1             1   \n",
              "2023-11-14 23:59:59           800.0              0             0   \n",
              "\n",
              "                     node_id_4137  node_id_4147  \n",
              "ts                                               \n",
              "2023-11-01 00:00:00             1             0  \n",
              "2023-11-01 00:00:00             0             0  \n",
              "2023-11-01 00:00:00             0             1  \n",
              "2023-11-01 00:00:01             0             1  \n",
              "2023-11-01 00:00:01             1             0  \n",
              "...                           ...           ...  \n",
              "2023-11-14 23:59:58             0             1  \n",
              "2023-11-14 23:59:58             0             0  \n",
              "2023-11-14 23:59:59             1             0  \n",
              "2023-11-14 23:59:59             0             0  \n",
              "2023-11-14 23:59:59             0             1  \n",
              "\n",
              "[3606412 rows x 10 columns]"
            ]
          },
          "execution_count": 9,
          "metadata": {},
          "output_type": "execute_result"
        }
      ],
      "source": [
        "dataset"
      ]
    },
    {
      "cell_type": "code",
      "execution_count": null,
      "metadata": {
        "id": "0y4SbmStC6_X"
      },
      "outputs": [],
      "source": [
        "dataset_try = dataset.drop(columns=['event_rsrp','event_device_state','event_rssi','event_band','event_lte_freq','event_rsrq'])"
      ]
    },
    {
      "cell_type": "code",
      "execution_count": null,
      "metadata": {
        "id": "aXHwxh9w1ewR"
      },
      "outputs": [],
      "source": [
        "data = dataset[['rtt','anomaly_label', 'node_id_4147','node_id_4135','node_id_4137']]"
      ]
    },
    {
      "cell_type": "code",
      "execution_count": null,
      "metadata": {
        "id": "crnEzmCD3izb",
        "colab": {
          "base_uri": "https://localhost:8080/"
        },
        "outputId": "67c4b67d-3889-496b-9ccb-d5d8bbad1cf3"
      },
      "outputs": [
        {
          "output_type": "stream",
          "name": "stderr",
          "text": [
            "<ipython-input-6-487ea060f9f1>:2: SettingWithCopyWarning: \n",
            "A value is trying to be set on a copy of a slice from a DataFrame.\n",
            "Try using .loc[row_indexer,col_indexer] = value instead\n",
            "\n",
            "See the caveats in the documentation: https://pandas.pydata.org/pandas-docs/stable/user_guide/indexing.html#returning-a-view-versus-a-copy\n",
            "  data['rtt_mean'] = data['rtt'].rolling(window=window_size).mean()\n",
            "<ipython-input-6-487ea060f9f1>:3: SettingWithCopyWarning: \n",
            "A value is trying to be set on a copy of a slice from a DataFrame.\n",
            "Try using .loc[row_indexer,col_indexer] = value instead\n",
            "\n",
            "See the caveats in the documentation: https://pandas.pydata.org/pandas-docs/stable/user_guide/indexing.html#returning-a-view-versus-a-copy\n",
            "  data['rtt_std'] = data['rtt'].rolling(window=window_size).std()\n",
            "<ipython-input-6-487ea060f9f1>:4: SettingWithCopyWarning: \n",
            "A value is trying to be set on a copy of a slice from a DataFrame.\n",
            "Try using .loc[row_indexer,col_indexer] = value instead\n",
            "\n",
            "See the caveats in the documentation: https://pandas.pydata.org/pandas-docs/stable/user_guide/indexing.html#returning-a-view-versus-a-copy\n",
            "  data['rtt_max'] = data['rtt'].rolling(window=window_size).max()\n",
            "<ipython-input-6-487ea060f9f1>:5: SettingWithCopyWarning: \n",
            "A value is trying to be set on a copy of a slice from a DataFrame.\n",
            "Try using .loc[row_indexer,col_indexer] = value instead\n",
            "\n",
            "See the caveats in the documentation: https://pandas.pydata.org/pandas-docs/stable/user_guide/indexing.html#returning-a-view-versus-a-copy\n",
            "  data['rtt_min'] = data['rtt'].rolling(window=window_size).min()\n"
          ]
        }
      ],
      "source": [
        "window_size = 10  # Adjust as needed\n",
        "data['rtt_mean'] = data['rtt'].rolling(window=window_size).mean()\n",
        "data['rtt_std'] = data['rtt'].rolling(window=window_size).std()\n",
        "data['rtt_max'] = data['rtt'].rolling(window=window_size).max()\n",
        "data['rtt_min'] = data['rtt'].rolling(window=window_size).min()"
      ]
    },
    {
      "cell_type": "code",
      "execution_count": null,
      "metadata": {
        "id": "8fT2REEh3yeM"
      },
      "outputs": [],
      "source": [
        "dataset['hour'] = dataset.index.hour\n",
        "dataset['day_of_week'] = dataset.index.dayofweek\n",
        "dataset['is_weekend'] = dataset.index.dayofweek.isin([5, 6]).astype(int)"
      ]
    },
    {
      "cell_type": "code",
      "execution_count": null,
      "metadata": {
        "colab": {
          "base_uri": "https://localhost:8080/"
        },
        "id": "d8MXouNR4VrV",
        "outputId": "a9aca0f7-472c-4267-a5f4-19a3ab9c5a2e"
      },
      "outputs": [
        {
          "output_type": "stream",
          "name": "stderr",
          "text": [
            "<ipython-input-54-7d868cbb080f>:2: SettingWithCopyWarning: \n",
            "A value is trying to be set on a copy of a slice from a DataFrame\n",
            "\n",
            "See the caveats in the documentation: https://pandas.pydata.org/pandas-docs/stable/user_guide/indexing.html#returning-a-view-versus-a-copy\n",
            "  data.dropna(inplace=True)\n"
          ]
        }
      ],
      "source": [
        "# Fill NaNs with 0\n",
        "data.dropna(inplace=True)"
      ]
    },
    {
      "cell_type": "code",
      "source": [],
      "metadata": {
        "id": "dBndkae1xG3t"
      },
      "execution_count": null,
      "outputs": []
    },
    {
      "cell_type": "code",
      "execution_count": null,
      "metadata": {
        "colab": {
          "base_uri": "https://localhost:8080/",
          "height": 628
        },
        "id": "7OVZ65824rFc",
        "outputId": "f2fb64ac-d88e-4a29-ac7b-914cbd45119d"
      },
      "outputs": [
        {
          "output_type": "execute_result",
          "data": {
            "text/plain": [
              "                     event_rssi  event_rsrp  event_rsrq       rtt  event_band  \\\n",
              "ts                                                                              \n",
              "2023-11-01 00:00:00       -39.0       -62.0        -8.0  0.044847        20.0   \n",
              "2023-11-01 00:00:00       -45.0       -68.0        -7.0  0.057562         8.0   \n",
              "2023-11-01 00:00:00       -51.0       -81.0       -10.0  0.019667        20.0   \n",
              "2023-11-01 00:00:01       -51.0       -81.0       -10.0  0.011093        20.0   \n",
              "2023-11-01 00:00:01       -39.0       -62.0        -8.0  0.052272        20.0   \n",
              "...                         ...         ...         ...       ...         ...   \n",
              "2023-11-14 23:59:58       -55.0       -81.0       -10.0  0.046952        20.0   \n",
              "2023-11-14 23:59:58       -46.0       -69.0        -8.0  0.056164         8.0   \n",
              "2023-11-14 23:59:59       -46.0       -70.0        -8.0  0.036725         8.0   \n",
              "2023-11-14 23:59:59       -46.0       -69.0        -7.0  0.050223         8.0   \n",
              "2023-11-14 23:59:59       -55.0       -81.0       -11.0  0.028281        20.0   \n",
              "\n",
              "                     event_lte_freq  anomaly_label  node_id_4135  \\\n",
              "ts                                                                 \n",
              "2023-11-01 00:00:00           800.0              0             0   \n",
              "2023-11-01 00:00:00           900.0              1             1   \n",
              "2023-11-01 00:00:00           800.0              0             0   \n",
              "2023-11-01 00:00:01           800.0              0             0   \n",
              "2023-11-01 00:00:01           800.0              1             0   \n",
              "...                             ...            ...           ...   \n",
              "2023-11-14 23:59:58           800.0              1             0   \n",
              "2023-11-14 23:59:58           900.0              1             1   \n",
              "2023-11-14 23:59:59           900.0              0             0   \n",
              "2023-11-14 23:59:59           900.0              1             1   \n",
              "2023-11-14 23:59:59           800.0              0             0   \n",
              "\n",
              "                     node_id_4137  node_id_4147  hour  day_of_week  is_weekend  \n",
              "ts                                                                              \n",
              "2023-11-01 00:00:00             1             0     0            2           0  \n",
              "2023-11-01 00:00:00             0             0     0            2           0  \n",
              "2023-11-01 00:00:00             0             1     0            2           0  \n",
              "2023-11-01 00:00:01             0             1     0            2           0  \n",
              "2023-11-01 00:00:01             1             0     0            2           0  \n",
              "...                           ...           ...   ...          ...         ...  \n",
              "2023-11-14 23:59:58             0             1    23            1           0  \n",
              "2023-11-14 23:59:58             0             0    23            1           0  \n",
              "2023-11-14 23:59:59             1             0    23            1           0  \n",
              "2023-11-14 23:59:59             0             0    23            1           0  \n",
              "2023-11-14 23:59:59             0             1    23            1           0  \n",
              "\n",
              "[3606412 rows x 13 columns]"
            ],
            "text/html": [
              "\n",
              "  <div id=\"df-41819d92-02f2-4908-896f-eb7582ed45f6\" class=\"colab-df-container\">\n",
              "    <div>\n",
              "<style scoped>\n",
              "    .dataframe tbody tr th:only-of-type {\n",
              "        vertical-align: middle;\n",
              "    }\n",
              "\n",
              "    .dataframe tbody tr th {\n",
              "        vertical-align: top;\n",
              "    }\n",
              "\n",
              "    .dataframe thead th {\n",
              "        text-align: right;\n",
              "    }\n",
              "</style>\n",
              "<table border=\"1\" class=\"dataframe\">\n",
              "  <thead>\n",
              "    <tr style=\"text-align: right;\">\n",
              "      <th></th>\n",
              "      <th>event_rssi</th>\n",
              "      <th>event_rsrp</th>\n",
              "      <th>event_rsrq</th>\n",
              "      <th>rtt</th>\n",
              "      <th>event_band</th>\n",
              "      <th>event_lte_freq</th>\n",
              "      <th>anomaly_label</th>\n",
              "      <th>node_id_4135</th>\n",
              "      <th>node_id_4137</th>\n",
              "      <th>node_id_4147</th>\n",
              "      <th>hour</th>\n",
              "      <th>day_of_week</th>\n",
              "      <th>is_weekend</th>\n",
              "    </tr>\n",
              "    <tr>\n",
              "      <th>ts</th>\n",
              "      <th></th>\n",
              "      <th></th>\n",
              "      <th></th>\n",
              "      <th></th>\n",
              "      <th></th>\n",
              "      <th></th>\n",
              "      <th></th>\n",
              "      <th></th>\n",
              "      <th></th>\n",
              "      <th></th>\n",
              "      <th></th>\n",
              "      <th></th>\n",
              "      <th></th>\n",
              "    </tr>\n",
              "  </thead>\n",
              "  <tbody>\n",
              "    <tr>\n",
              "      <th>2023-11-01 00:00:00</th>\n",
              "      <td>-39.0</td>\n",
              "      <td>-62.0</td>\n",
              "      <td>-8.0</td>\n",
              "      <td>0.044847</td>\n",
              "      <td>20.0</td>\n",
              "      <td>800.0</td>\n",
              "      <td>0</td>\n",
              "      <td>0</td>\n",
              "      <td>1</td>\n",
              "      <td>0</td>\n",
              "      <td>0</td>\n",
              "      <td>2</td>\n",
              "      <td>0</td>\n",
              "    </tr>\n",
              "    <tr>\n",
              "      <th>2023-11-01 00:00:00</th>\n",
              "      <td>-45.0</td>\n",
              "      <td>-68.0</td>\n",
              "      <td>-7.0</td>\n",
              "      <td>0.057562</td>\n",
              "      <td>8.0</td>\n",
              "      <td>900.0</td>\n",
              "      <td>1</td>\n",
              "      <td>1</td>\n",
              "      <td>0</td>\n",
              "      <td>0</td>\n",
              "      <td>0</td>\n",
              "      <td>2</td>\n",
              "      <td>0</td>\n",
              "    </tr>\n",
              "    <tr>\n",
              "      <th>2023-11-01 00:00:00</th>\n",
              "      <td>-51.0</td>\n",
              "      <td>-81.0</td>\n",
              "      <td>-10.0</td>\n",
              "      <td>0.019667</td>\n",
              "      <td>20.0</td>\n",
              "      <td>800.0</td>\n",
              "      <td>0</td>\n",
              "      <td>0</td>\n",
              "      <td>0</td>\n",
              "      <td>1</td>\n",
              "      <td>0</td>\n",
              "      <td>2</td>\n",
              "      <td>0</td>\n",
              "    </tr>\n",
              "    <tr>\n",
              "      <th>2023-11-01 00:00:01</th>\n",
              "      <td>-51.0</td>\n",
              "      <td>-81.0</td>\n",
              "      <td>-10.0</td>\n",
              "      <td>0.011093</td>\n",
              "      <td>20.0</td>\n",
              "      <td>800.0</td>\n",
              "      <td>0</td>\n",
              "      <td>0</td>\n",
              "      <td>0</td>\n",
              "      <td>1</td>\n",
              "      <td>0</td>\n",
              "      <td>2</td>\n",
              "      <td>0</td>\n",
              "    </tr>\n",
              "    <tr>\n",
              "      <th>2023-11-01 00:00:01</th>\n",
              "      <td>-39.0</td>\n",
              "      <td>-62.0</td>\n",
              "      <td>-8.0</td>\n",
              "      <td>0.052272</td>\n",
              "      <td>20.0</td>\n",
              "      <td>800.0</td>\n",
              "      <td>1</td>\n",
              "      <td>0</td>\n",
              "      <td>1</td>\n",
              "      <td>0</td>\n",
              "      <td>0</td>\n",
              "      <td>2</td>\n",
              "      <td>0</td>\n",
              "    </tr>\n",
              "    <tr>\n",
              "      <th>...</th>\n",
              "      <td>...</td>\n",
              "      <td>...</td>\n",
              "      <td>...</td>\n",
              "      <td>...</td>\n",
              "      <td>...</td>\n",
              "      <td>...</td>\n",
              "      <td>...</td>\n",
              "      <td>...</td>\n",
              "      <td>...</td>\n",
              "      <td>...</td>\n",
              "      <td>...</td>\n",
              "      <td>...</td>\n",
              "      <td>...</td>\n",
              "    </tr>\n",
              "    <tr>\n",
              "      <th>2023-11-14 23:59:58</th>\n",
              "      <td>-55.0</td>\n",
              "      <td>-81.0</td>\n",
              "      <td>-10.0</td>\n",
              "      <td>0.046952</td>\n",
              "      <td>20.0</td>\n",
              "      <td>800.0</td>\n",
              "      <td>1</td>\n",
              "      <td>0</td>\n",
              "      <td>0</td>\n",
              "      <td>1</td>\n",
              "      <td>23</td>\n",
              "      <td>1</td>\n",
              "      <td>0</td>\n",
              "    </tr>\n",
              "    <tr>\n",
              "      <th>2023-11-14 23:59:58</th>\n",
              "      <td>-46.0</td>\n",
              "      <td>-69.0</td>\n",
              "      <td>-8.0</td>\n",
              "      <td>0.056164</td>\n",
              "      <td>8.0</td>\n",
              "      <td>900.0</td>\n",
              "      <td>1</td>\n",
              "      <td>1</td>\n",
              "      <td>0</td>\n",
              "      <td>0</td>\n",
              "      <td>23</td>\n",
              "      <td>1</td>\n",
              "      <td>0</td>\n",
              "    </tr>\n",
              "    <tr>\n",
              "      <th>2023-11-14 23:59:59</th>\n",
              "      <td>-46.0</td>\n",
              "      <td>-70.0</td>\n",
              "      <td>-8.0</td>\n",
              "      <td>0.036725</td>\n",
              "      <td>8.0</td>\n",
              "      <td>900.0</td>\n",
              "      <td>0</td>\n",
              "      <td>0</td>\n",
              "      <td>1</td>\n",
              "      <td>0</td>\n",
              "      <td>23</td>\n",
              "      <td>1</td>\n",
              "      <td>0</td>\n",
              "    </tr>\n",
              "    <tr>\n",
              "      <th>2023-11-14 23:59:59</th>\n",
              "      <td>-46.0</td>\n",
              "      <td>-69.0</td>\n",
              "      <td>-7.0</td>\n",
              "      <td>0.050223</td>\n",
              "      <td>8.0</td>\n",
              "      <td>900.0</td>\n",
              "      <td>1</td>\n",
              "      <td>1</td>\n",
              "      <td>0</td>\n",
              "      <td>0</td>\n",
              "      <td>23</td>\n",
              "      <td>1</td>\n",
              "      <td>0</td>\n",
              "    </tr>\n",
              "    <tr>\n",
              "      <th>2023-11-14 23:59:59</th>\n",
              "      <td>-55.0</td>\n",
              "      <td>-81.0</td>\n",
              "      <td>-11.0</td>\n",
              "      <td>0.028281</td>\n",
              "      <td>20.0</td>\n",
              "      <td>800.0</td>\n",
              "      <td>0</td>\n",
              "      <td>0</td>\n",
              "      <td>0</td>\n",
              "      <td>1</td>\n",
              "      <td>23</td>\n",
              "      <td>1</td>\n",
              "      <td>0</td>\n",
              "    </tr>\n",
              "  </tbody>\n",
              "</table>\n",
              "<p>3606412 rows × 13 columns</p>\n",
              "</div>\n",
              "    <div class=\"colab-df-buttons\">\n",
              "\n",
              "  <div class=\"colab-df-container\">\n",
              "    <button class=\"colab-df-convert\" onclick=\"convertToInteractive('df-41819d92-02f2-4908-896f-eb7582ed45f6')\"\n",
              "            title=\"Convert this dataframe to an interactive table.\"\n",
              "            style=\"display:none;\">\n",
              "\n",
              "  <svg xmlns=\"http://www.w3.org/2000/svg\" height=\"24px\" viewBox=\"0 -960 960 960\">\n",
              "    <path d=\"M120-120v-720h720v720H120Zm60-500h600v-160H180v160Zm220 220h160v-160H400v160Zm0 220h160v-160H400v160ZM180-400h160v-160H180v160Zm440 0h160v-160H620v160ZM180-180h160v-160H180v160Zm440 0h160v-160H620v160Z\"/>\n",
              "  </svg>\n",
              "    </button>\n",
              "\n",
              "  <style>\n",
              "    .colab-df-container {\n",
              "      display:flex;\n",
              "      gap: 12px;\n",
              "    }\n",
              "\n",
              "    .colab-df-convert {\n",
              "      background-color: #E8F0FE;\n",
              "      border: none;\n",
              "      border-radius: 50%;\n",
              "      cursor: pointer;\n",
              "      display: none;\n",
              "      fill: #1967D2;\n",
              "      height: 32px;\n",
              "      padding: 0 0 0 0;\n",
              "      width: 32px;\n",
              "    }\n",
              "\n",
              "    .colab-df-convert:hover {\n",
              "      background-color: #E2EBFA;\n",
              "      box-shadow: 0px 1px 2px rgba(60, 64, 67, 0.3), 0px 1px 3px 1px rgba(60, 64, 67, 0.15);\n",
              "      fill: #174EA6;\n",
              "    }\n",
              "\n",
              "    .colab-df-buttons div {\n",
              "      margin-bottom: 4px;\n",
              "    }\n",
              "\n",
              "    [theme=dark] .colab-df-convert {\n",
              "      background-color: #3B4455;\n",
              "      fill: #D2E3FC;\n",
              "    }\n",
              "\n",
              "    [theme=dark] .colab-df-convert:hover {\n",
              "      background-color: #434B5C;\n",
              "      box-shadow: 0px 1px 3px 1px rgba(0, 0, 0, 0.15);\n",
              "      filter: drop-shadow(0px 1px 2px rgba(0, 0, 0, 0.3));\n",
              "      fill: #FFFFFF;\n",
              "    }\n",
              "  </style>\n",
              "\n",
              "    <script>\n",
              "      const buttonEl =\n",
              "        document.querySelector('#df-41819d92-02f2-4908-896f-eb7582ed45f6 button.colab-df-convert');\n",
              "      buttonEl.style.display =\n",
              "        google.colab.kernel.accessAllowed ? 'block' : 'none';\n",
              "\n",
              "      async function convertToInteractive(key) {\n",
              "        const element = document.querySelector('#df-41819d92-02f2-4908-896f-eb7582ed45f6');\n",
              "        const dataTable =\n",
              "          await google.colab.kernel.invokeFunction('convertToInteractive',\n",
              "                                                    [key], {});\n",
              "        if (!dataTable) return;\n",
              "\n",
              "        const docLinkHtml = 'Like what you see? Visit the ' +\n",
              "          '<a target=\"_blank\" href=https://colab.research.google.com/notebooks/data_table.ipynb>data table notebook</a>'\n",
              "          + ' to learn more about interactive tables.';\n",
              "        element.innerHTML = '';\n",
              "        dataTable['output_type'] = 'display_data';\n",
              "        await google.colab.output.renderOutput(dataTable, element);\n",
              "        const docLink = document.createElement('div');\n",
              "        docLink.innerHTML = docLinkHtml;\n",
              "        element.appendChild(docLink);\n",
              "      }\n",
              "    </script>\n",
              "  </div>\n",
              "\n",
              "\n",
              "<div id=\"df-bbaa354c-364d-41d6-8fa8-d27bb1893786\">\n",
              "  <button class=\"colab-df-quickchart\" onclick=\"quickchart('df-bbaa354c-364d-41d6-8fa8-d27bb1893786')\"\n",
              "            title=\"Suggest charts\"\n",
              "            style=\"display:none;\">\n",
              "\n",
              "<svg xmlns=\"http://www.w3.org/2000/svg\" height=\"24px\"viewBox=\"0 0 24 24\"\n",
              "     width=\"24px\">\n",
              "    <g>\n",
              "        <path d=\"M19 3H5c-1.1 0-2 .9-2 2v14c0 1.1.9 2 2 2h14c1.1 0 2-.9 2-2V5c0-1.1-.9-2-2-2zM9 17H7v-7h2v7zm4 0h-2V7h2v10zm4 0h-2v-4h2v4z\"/>\n",
              "    </g>\n",
              "</svg>\n",
              "  </button>\n",
              "\n",
              "<style>\n",
              "  .colab-df-quickchart {\n",
              "      --bg-color: #E8F0FE;\n",
              "      --fill-color: #1967D2;\n",
              "      --hover-bg-color: #E2EBFA;\n",
              "      --hover-fill-color: #174EA6;\n",
              "      --disabled-fill-color: #AAA;\n",
              "      --disabled-bg-color: #DDD;\n",
              "  }\n",
              "\n",
              "  [theme=dark] .colab-df-quickchart {\n",
              "      --bg-color: #3B4455;\n",
              "      --fill-color: #D2E3FC;\n",
              "      --hover-bg-color: #434B5C;\n",
              "      --hover-fill-color: #FFFFFF;\n",
              "      --disabled-bg-color: #3B4455;\n",
              "      --disabled-fill-color: #666;\n",
              "  }\n",
              "\n",
              "  .colab-df-quickchart {\n",
              "    background-color: var(--bg-color);\n",
              "    border: none;\n",
              "    border-radius: 50%;\n",
              "    cursor: pointer;\n",
              "    display: none;\n",
              "    fill: var(--fill-color);\n",
              "    height: 32px;\n",
              "    padding: 0;\n",
              "    width: 32px;\n",
              "  }\n",
              "\n",
              "  .colab-df-quickchart:hover {\n",
              "    background-color: var(--hover-bg-color);\n",
              "    box-shadow: 0 1px 2px rgba(60, 64, 67, 0.3), 0 1px 3px 1px rgba(60, 64, 67, 0.15);\n",
              "    fill: var(--button-hover-fill-color);\n",
              "  }\n",
              "\n",
              "  .colab-df-quickchart-complete:disabled,\n",
              "  .colab-df-quickchart-complete:disabled:hover {\n",
              "    background-color: var(--disabled-bg-color);\n",
              "    fill: var(--disabled-fill-color);\n",
              "    box-shadow: none;\n",
              "  }\n",
              "\n",
              "  .colab-df-spinner {\n",
              "    border: 2px solid var(--fill-color);\n",
              "    border-color: transparent;\n",
              "    border-bottom-color: var(--fill-color);\n",
              "    animation:\n",
              "      spin 1s steps(1) infinite;\n",
              "  }\n",
              "\n",
              "  @keyframes spin {\n",
              "    0% {\n",
              "      border-color: transparent;\n",
              "      border-bottom-color: var(--fill-color);\n",
              "      border-left-color: var(--fill-color);\n",
              "    }\n",
              "    20% {\n",
              "      border-color: transparent;\n",
              "      border-left-color: var(--fill-color);\n",
              "      border-top-color: var(--fill-color);\n",
              "    }\n",
              "    30% {\n",
              "      border-color: transparent;\n",
              "      border-left-color: var(--fill-color);\n",
              "      border-top-color: var(--fill-color);\n",
              "      border-right-color: var(--fill-color);\n",
              "    }\n",
              "    40% {\n",
              "      border-color: transparent;\n",
              "      border-right-color: var(--fill-color);\n",
              "      border-top-color: var(--fill-color);\n",
              "    }\n",
              "    60% {\n",
              "      border-color: transparent;\n",
              "      border-right-color: var(--fill-color);\n",
              "    }\n",
              "    80% {\n",
              "      border-color: transparent;\n",
              "      border-right-color: var(--fill-color);\n",
              "      border-bottom-color: var(--fill-color);\n",
              "    }\n",
              "    90% {\n",
              "      border-color: transparent;\n",
              "      border-bottom-color: var(--fill-color);\n",
              "    }\n",
              "  }\n",
              "</style>\n",
              "\n",
              "  <script>\n",
              "    async function quickchart(key) {\n",
              "      const quickchartButtonEl =\n",
              "        document.querySelector('#' + key + ' button');\n",
              "      quickchartButtonEl.disabled = true;  // To prevent multiple clicks.\n",
              "      quickchartButtonEl.classList.add('colab-df-spinner');\n",
              "      try {\n",
              "        const charts = await google.colab.kernel.invokeFunction(\n",
              "            'suggestCharts', [key], {});\n",
              "      } catch (error) {\n",
              "        console.error('Error during call to suggestCharts:', error);\n",
              "      }\n",
              "      quickchartButtonEl.classList.remove('colab-df-spinner');\n",
              "      quickchartButtonEl.classList.add('colab-df-quickchart-complete');\n",
              "    }\n",
              "    (() => {\n",
              "      let quickchartButtonEl =\n",
              "        document.querySelector('#df-bbaa354c-364d-41d6-8fa8-d27bb1893786 button');\n",
              "      quickchartButtonEl.style.display =\n",
              "        google.colab.kernel.accessAllowed ? 'block' : 'none';\n",
              "    })();\n",
              "  </script>\n",
              "</div>\n",
              "    </div>\n",
              "  </div>\n"
            ],
            "application/vnd.google.colaboratory.intrinsic+json": {
              "type": "dataframe",
              "variable_name": "dataset"
            }
          },
          "metadata": {},
          "execution_count": 8
        }
      ],
      "source": [
        "dataset"
      ]
    },
    {
      "cell_type": "code",
      "execution_count": null,
      "metadata": {
        "id": "eOm85gw2FaNH"
      },
      "outputs": [],
      "source": [
        "# Class weights calculation\n",
        "neg, pos = np.bincount(dataset['anomaly_label'])\n",
        "total = neg + pos\n",
        "weight_for_0 = (1 / neg) * (total / 2.0)\n",
        "weight_for_1 = (1 / pos) * (total / 2.0)\n",
        "adjusted_weight_for_0 = weight_for_0 * 1.0  # Example: decrease if too many false positives\n",
        "adjusted_weight_for_1 = weight_for_1 * 1.0  # Example: increase if too many false negatives\n",
        "\n",
        "class_weight = {0: adjusted_weight_for_0, 1: adjusted_weight_for_1}\n",
        "time_steps = 30  # Adjust based on your sequence length\n",
        "batch_size = 128 # Adjust based on your batch size preference\n",
        "output_size = 1"
      ]
    },
    {
      "cell_type": "code",
      "source": [
        "neg"
      ],
      "metadata": {
        "colab": {
          "base_uri": "https://localhost:8080/"
        },
        "id": "ck9US5vDzLTl",
        "outputId": "6488634e-97be-4ca8-e3f9-eaa93ba25677"
      },
      "execution_count": null,
      "outputs": [
        {
          "output_type": "execute_result",
          "data": {
            "text/plain": [
              "2502441"
            ]
          },
          "metadata": {},
          "execution_count": 10
        }
      ]
    },
    {
      "cell_type": "code",
      "source": [
        "pos"
      ],
      "metadata": {
        "colab": {
          "base_uri": "https://localhost:8080/"
        },
        "id": "Y2wJGqJ3zOON",
        "outputId": "789278fe-649d-4480-f657-2b0ec3c3d827"
      },
      "execution_count": null,
      "outputs": [
        {
          "output_type": "execute_result",
          "data": {
            "text/plain": [
              "1103971"
            ]
          },
          "metadata": {},
          "execution_count": 11
        }
      ]
    },
    {
      "cell_type": "code",
      "execution_count": null,
      "metadata": {
        "id": "Ddt1wTTt62w0"
      },
      "outputs": [],
      "source": [
        "def split_data_chronologically(data, test_ratio=0.2, val_ratio=0.2, target_column='anomaly_label'):\n",
        "    total_samples = len(data)\n",
        "    test_split_idx = int(total_samples * (1 - test_ratio))\n",
        "    val_split_idx = int(test_split_idx * (1 - val_ratio / (1 - test_ratio)))\n",
        "\n",
        "    train_data = data.iloc[:val_split_idx]\n",
        "    val_data = data.iloc[val_split_idx:test_split_idx]\n",
        "    test_data = data.iloc[test_split_idx:]\n",
        "\n",
        "    train_labels = train_data[target_column].values\n",
        "    val_labels = val_data[target_column].values\n",
        "    test_labels = test_data[target_column].values\n",
        "\n",
        "    train_data =train_data.drop(columns=[target_column])\n",
        "    test_data =test_data.drop(columns=[target_column])\n",
        "    val_data =val_data.drop(columns=[target_column])\n",
        "\n",
        "    return train_data, val_data, test_data, train_labels, test_labels, val_labels"
      ]
    },
    {
      "cell_type": "code",
      "execution_count": null,
      "metadata": {
        "id": "HJtvgNwy-AN5"
      },
      "outputs": [],
      "source": [
        "train_data, val_data, test_data, train_labels, test_labels, val_labels = split_data_chronologically(dataset)"
      ]
    },
    {
      "cell_type": "code",
      "execution_count": null,
      "metadata": {
        "colab": {
          "base_uri": "https://localhost:8080/"
        },
        "id": "WRG-VIACZlBm",
        "outputId": "0316e18f-1ce4-4d29-c2bb-781d21073700"
      },
      "outputs": [
        {
          "data": {
            "text/plain": [
              "(2163846, 7)"
            ]
          },
          "execution_count": 12,
          "metadata": {},
          "output_type": "execute_result"
        }
      ],
      "source": [
        "train_data.shape"
      ]
    },
    {
      "cell_type": "code",
      "execution_count": null,
      "metadata": {
        "colab": {
          "base_uri": "https://localhost:8080/"
        },
        "id": "SZUb0VN_Zohk",
        "outputId": "6013da19-5057-4eed-aa20-c74ae97f01fa"
      },
      "outputs": [
        {
          "data": {
            "text/plain": [
              "(2163846,)"
            ]
          },
          "execution_count": 71,
          "metadata": {},
          "output_type": "execute_result"
        }
      ],
      "source": [
        "train_labels.shape"
      ]
    },
    {
      "cell_type": "code",
      "execution_count": null,
      "metadata": {
        "id": "CoSarb2G9teu"
      },
      "outputs": [],
      "source": [
        "train_data = train_data.to_numpy()\n",
        "val_data = val_data.to_numpy()\n",
        "test_data = test_data.to_numpy()"
      ]
    },
    {
      "cell_type": "code",
      "execution_count": null,
      "metadata": {
        "colab": {
          "base_uri": "https://localhost:8080/",
          "height": 74
        },
        "id": "9uTO-UBf-g8V",
        "outputId": "178ce12d-d5a5-40d5-b13a-dad4a0fab57d"
      },
      "outputs": [
        {
          "output_type": "execute_result",
          "data": {
            "text/plain": [
              "StandardScaler()"
            ],
            "text/html": [
              "<style>#sk-container-id-1 {color: black;background-color: white;}#sk-container-id-1 pre{padding: 0;}#sk-container-id-1 div.sk-toggleable {background-color: white;}#sk-container-id-1 label.sk-toggleable__label {cursor: pointer;display: block;width: 100%;margin-bottom: 0;padding: 0.3em;box-sizing: border-box;text-align: center;}#sk-container-id-1 label.sk-toggleable__label-arrow:before {content: \"▸\";float: left;margin-right: 0.25em;color: #696969;}#sk-container-id-1 label.sk-toggleable__label-arrow:hover:before {color: black;}#sk-container-id-1 div.sk-estimator:hover label.sk-toggleable__label-arrow:before {color: black;}#sk-container-id-1 div.sk-toggleable__content {max-height: 0;max-width: 0;overflow: hidden;text-align: left;background-color: #f0f8ff;}#sk-container-id-1 div.sk-toggleable__content pre {margin: 0.2em;color: black;border-radius: 0.25em;background-color: #f0f8ff;}#sk-container-id-1 input.sk-toggleable__control:checked~div.sk-toggleable__content {max-height: 200px;max-width: 100%;overflow: auto;}#sk-container-id-1 input.sk-toggleable__control:checked~label.sk-toggleable__label-arrow:before {content: \"▾\";}#sk-container-id-1 div.sk-estimator input.sk-toggleable__control:checked~label.sk-toggleable__label {background-color: #d4ebff;}#sk-container-id-1 div.sk-label input.sk-toggleable__control:checked~label.sk-toggleable__label {background-color: #d4ebff;}#sk-container-id-1 input.sk-hidden--visually {border: 0;clip: rect(1px 1px 1px 1px);clip: rect(1px, 1px, 1px, 1px);height: 1px;margin: -1px;overflow: hidden;padding: 0;position: absolute;width: 1px;}#sk-container-id-1 div.sk-estimator {font-family: monospace;background-color: #f0f8ff;border: 1px dotted black;border-radius: 0.25em;box-sizing: border-box;margin-bottom: 0.5em;}#sk-container-id-1 div.sk-estimator:hover {background-color: #d4ebff;}#sk-container-id-1 div.sk-parallel-item::after {content: \"\";width: 100%;border-bottom: 1px solid gray;flex-grow: 1;}#sk-container-id-1 div.sk-label:hover label.sk-toggleable__label {background-color: #d4ebff;}#sk-container-id-1 div.sk-serial::before {content: \"\";position: absolute;border-left: 1px solid gray;box-sizing: border-box;top: 0;bottom: 0;left: 50%;z-index: 0;}#sk-container-id-1 div.sk-serial {display: flex;flex-direction: column;align-items: center;background-color: white;padding-right: 0.2em;padding-left: 0.2em;position: relative;}#sk-container-id-1 div.sk-item {position: relative;z-index: 1;}#sk-container-id-1 div.sk-parallel {display: flex;align-items: stretch;justify-content: center;background-color: white;position: relative;}#sk-container-id-1 div.sk-item::before, #sk-container-id-1 div.sk-parallel-item::before {content: \"\";position: absolute;border-left: 1px solid gray;box-sizing: border-box;top: 0;bottom: 0;left: 50%;z-index: -1;}#sk-container-id-1 div.sk-parallel-item {display: flex;flex-direction: column;z-index: 1;position: relative;background-color: white;}#sk-container-id-1 div.sk-parallel-item:first-child::after {align-self: flex-end;width: 50%;}#sk-container-id-1 div.sk-parallel-item:last-child::after {align-self: flex-start;width: 50%;}#sk-container-id-1 div.sk-parallel-item:only-child::after {width: 0;}#sk-container-id-1 div.sk-dashed-wrapped {border: 1px dashed gray;margin: 0 0.4em 0.5em 0.4em;box-sizing: border-box;padding-bottom: 0.4em;background-color: white;}#sk-container-id-1 div.sk-label label {font-family: monospace;font-weight: bold;display: inline-block;line-height: 1.2em;}#sk-container-id-1 div.sk-label-container {text-align: center;}#sk-container-id-1 div.sk-container {/* jupyter's `normalize.less` sets `[hidden] { display: none; }` but bootstrap.min.css set `[hidden] { display: none !important; }` so we also need the `!important` here to be able to override the default hidden behavior on the sphinx rendered scikit-learn.org. See: https://github.com/scikit-learn/scikit-learn/issues/21755 */display: inline-block !important;position: relative;}#sk-container-id-1 div.sk-text-repr-fallback {display: none;}</style><div id=\"sk-container-id-1\" class=\"sk-top-container\"><div class=\"sk-text-repr-fallback\"><pre>StandardScaler()</pre><b>In a Jupyter environment, please rerun this cell to show the HTML representation or trust the notebook. <br />On GitHub, the HTML representation is unable to render, please try loading this page with nbviewer.org.</b></div><div class=\"sk-container\" hidden><div class=\"sk-item\"><div class=\"sk-estimator sk-toggleable\"><input class=\"sk-toggleable__control sk-hidden--visually\" id=\"sk-estimator-id-1\" type=\"checkbox\" checked><label for=\"sk-estimator-id-1\" class=\"sk-toggleable__label sk-toggleable__label-arrow\">StandardScaler</label><div class=\"sk-toggleable__content\"><pre>StandardScaler()</pre></div></div></div></div></div>"
            ]
          },
          "metadata": {},
          "execution_count": 8
        }
      ],
      "source": [
        "scaler = StandardScaler()\n",
        "# Fit on training data\n",
        "scaler.fit(train_data)"
      ]
    },
    {
      "cell_type": "code",
      "execution_count": null,
      "metadata": {
        "id": "x3n_Jjal_S2B"
      },
      "outputs": [],
      "source": [
        "train_data = scaler.transform(train_data)\n",
        "test_data = scaler.transform(test_data)\n",
        "val_data = scaler.transform(val_data)"
      ]
    },
    {
      "cell_type": "code",
      "execution_count": null,
      "metadata": {
        "id": "d521qf0t_z51"
      },
      "outputs": [],
      "source": [
        "train_data = tf.cast(train_data, tf.float32)\n",
        "test_data = tf.cast(test_data, tf.float32)\n",
        "val_data = tf.cast(val_data, tf.float32)"
      ]
    },
    {
      "cell_type": "code",
      "execution_count": null,
      "metadata": {
        "id": "4FR0nEEcDq6f"
      },
      "outputs": [],
      "source": [
        "train_labels = train_labels.astype(bool)\n",
        "test_labels = test_labels.astype(bool)\n",
        "val_labels = val_labels.astype(bool)"
      ]
    },
    {
      "cell_type": "code",
      "execution_count": null,
      "metadata": {
        "id": "pv_hHbVTA8me"
      },
      "outputs": [],
      "source": [
        "normal_train_data = train_data[train_labels == False]\n",
        "normal_val_data = val_data[val_labels == False]\n",
        "\n",
        "anomaly_train_data = train_data[train_labels == True]\n",
        "anomaly_val_data = val_data[val_labels == True]"
      ]
    },
    {
      "cell_type": "code",
      "execution_count": null,
      "metadata": {
        "id": "CJnnaVl_cMYe"
      },
      "outputs": [],
      "source": [
        "def create_sequences(values, time_steps=10):\n",
        "    output = []\n",
        "    for i in range(len(values) - time_steps + 1):\n",
        "        output.append(values[i : (i + time_steps)])\n",
        "    return np.stack(output)"
      ]
    },
    {
      "cell_type": "code",
      "execution_count": null,
      "metadata": {
        "id": "NCIeJer7LMCo"
      },
      "outputs": [],
      "source": [
        "def create_tf_dataset(features, labels, time_steps=100, batch_size=32, shuffle=False):\n",
        "    dataset = tf.keras.preprocessing.timeseries_dataset_from_array(\n",
        "        data=features,\n",
        "        targets=labels,\n",
        "        sequence_length=time_steps,\n",
        "        sequence_stride=1,\n",
        "        shuffle=shuffle,\n",
        "        batch_size=batch_size,\n",
        "    )\n",
        "    return dataset"
      ]
    },
    {
      "cell_type": "code",
      "execution_count": null,
      "metadata": {
        "id": "9HAeY7a0LU0A"
      },
      "outputs": [],
      "source": [
        "train_dataset = create_tf_dataset(train_data,train_labels,time_steps=100, batch_size=128)\n",
        "val_dataset = create_tf_dataset(val_data,val_labels,time_steps=100,batch_size=128)"
      ]
    },
    {
      "cell_type": "code",
      "execution_count": null,
      "metadata": {
        "id": "OP_LfVzxbxyS"
      },
      "outputs": [],
      "source": [
        "train_dataset"
      ]
    },
    {
      "cell_type": "code",
      "execution_count": null,
      "metadata": {
        "id": "spdwHwE_RmzH"
      },
      "outputs": [],
      "source": [
        "pip install keras_cv"
      ]
    },
    {
      "cell_type": "code",
      "execution_count": null,
      "metadata": {
        "id": "hBp5fLLLXHJi"
      },
      "outputs": [],
      "source": [
        "import keras_cv"
      ]
    },
    {
      "cell_type": "code",
      "execution_count": null,
      "metadata": {
        "id": "lUcwkLwiWcCj"
      },
      "outputs": [],
      "source": [
        "num_features = train_data.shape[-1]"
      ]
    },
    {
      "cell_type": "code",
      "source": [
        "num_features"
      ],
      "metadata": {
        "colab": {
          "base_uri": "https://localhost:8080/"
        },
        "id": "c5B9nCjhyJu3",
        "outputId": "75b1db13-93b8-4d09-869c-c500cca9052e"
      },
      "execution_count": null,
      "outputs": [
        {
          "output_type": "execute_result",
          "data": {
            "text/plain": [
              "12"
            ]
          },
          "metadata": {},
          "execution_count": 93
        }
      ]
    },
    {
      "cell_type": "code",
      "execution_count": null,
      "metadata": {
        "id": "bimGVq-_Wql-"
      },
      "outputs": [],
      "source": [
        "timesteps= 100"
      ]
    },
    {
      "cell_type": "code",
      "source": [
        "\n",
        "\n",
        "# Assuming train_dataset, val_dataset have shape (batch_size, timesteps, num_features)\n",
        "train_dataset = tf.expand_dims(train_dataset, axis=-1)\n",
        "val_dataset = tf.expand_dims(val_dataset, axis=-1)\n"
      ],
      "metadata": {
        "colab": {
          "base_uri": "https://localhost:8080/",
          "height": 373
        },
        "id": "lVluqtPxuvYx",
        "outputId": "ca0603c5-f11d-41e3-819a-b44c94872b0b"
      },
      "execution_count": null,
      "outputs": [
        {
          "output_type": "error",
          "ename": "ValueError",
          "evalue": "Attempt to convert a value (<_BatchDataset element_spec=(TensorSpec(shape=(None, None, 7), dtype=tf.float64, name=None), TensorSpec(shape=(None,), dtype=tf.int64, name=None))>) with an unsupported type (<class 'tensorflow.python.data.ops.batch_op._BatchDataset'>) to a Tensor.",
          "traceback": [
            "\u001b[0;31m---------------------------------------------------------------------------\u001b[0m",
            "\u001b[0;31mValueError\u001b[0m                                Traceback (most recent call last)",
            "\u001b[0;32m<ipython-input-116-5b769c7c9ca1>\u001b[0m in \u001b[0;36m<cell line: 2>\u001b[0;34m()\u001b[0m\n\u001b[1;32m      1\u001b[0m \u001b[0;31m# Assuming train_dataset, val_dataset have shape (batch_size, timesteps, num_features)\u001b[0m\u001b[0;34m\u001b[0m\u001b[0;34m\u001b[0m\u001b[0m\n\u001b[0;32m----> 2\u001b[0;31m \u001b[0mtrain_dataset\u001b[0m \u001b[0;34m=\u001b[0m \u001b[0mtf\u001b[0m\u001b[0;34m.\u001b[0m\u001b[0mexpand_dims\u001b[0m\u001b[0;34m(\u001b[0m\u001b[0mtrain_dataset\u001b[0m\u001b[0;34m,\u001b[0m \u001b[0maxis\u001b[0m\u001b[0;34m=\u001b[0m\u001b[0;34m-\u001b[0m\u001b[0;36m1\u001b[0m\u001b[0;34m)\u001b[0m\u001b[0;34m\u001b[0m\u001b[0;34m\u001b[0m\u001b[0m\n\u001b[0m\u001b[1;32m      3\u001b[0m \u001b[0mval_dataset\u001b[0m \u001b[0;34m=\u001b[0m \u001b[0mtf\u001b[0m\u001b[0;34m.\u001b[0m\u001b[0mexpand_dims\u001b[0m\u001b[0;34m(\u001b[0m\u001b[0mval_dataset\u001b[0m\u001b[0;34m,\u001b[0m \u001b[0maxis\u001b[0m\u001b[0;34m=\u001b[0m\u001b[0;34m-\u001b[0m\u001b[0;36m1\u001b[0m\u001b[0;34m)\u001b[0m\u001b[0;34m\u001b[0m\u001b[0;34m\u001b[0m\u001b[0m\n",
            "\u001b[0;32m/usr/local/lib/python3.10/dist-packages/tensorflow/python/ops/weak_tensor_ops.py\u001b[0m in \u001b[0;36mwrapper\u001b[0;34m(*args, **kwargs)\u001b[0m\n\u001b[1;32m     86\u001b[0m   \u001b[0;32mdef\u001b[0m \u001b[0mwrapper\u001b[0m\u001b[0;34m(\u001b[0m\u001b[0;34m*\u001b[0m\u001b[0margs\u001b[0m\u001b[0;34m,\u001b[0m \u001b[0;34m**\u001b[0m\u001b[0mkwargs\u001b[0m\u001b[0;34m)\u001b[0m\u001b[0;34m:\u001b[0m\u001b[0;34m\u001b[0m\u001b[0;34m\u001b[0m\u001b[0m\n\u001b[1;32m     87\u001b[0m     \u001b[0;32mif\u001b[0m \u001b[0;32mnot\u001b[0m \u001b[0mops\u001b[0m\u001b[0;34m.\u001b[0m\u001b[0mis_auto_dtype_conversion_enabled\u001b[0m\u001b[0;34m(\u001b[0m\u001b[0;34m)\u001b[0m\u001b[0;34m:\u001b[0m\u001b[0;34m\u001b[0m\u001b[0;34m\u001b[0m\u001b[0m\n\u001b[0;32m---> 88\u001b[0;31m       \u001b[0;32mreturn\u001b[0m \u001b[0mop\u001b[0m\u001b[0;34m(\u001b[0m\u001b[0;34m*\u001b[0m\u001b[0margs\u001b[0m\u001b[0;34m,\u001b[0m \u001b[0;34m**\u001b[0m\u001b[0mkwargs\u001b[0m\u001b[0;34m)\u001b[0m\u001b[0;34m\u001b[0m\u001b[0;34m\u001b[0m\u001b[0m\n\u001b[0m\u001b[1;32m     89\u001b[0m     \u001b[0mbound_arguments\u001b[0m \u001b[0;34m=\u001b[0m \u001b[0msignature\u001b[0m\u001b[0;34m.\u001b[0m\u001b[0mbind\u001b[0m\u001b[0;34m(\u001b[0m\u001b[0;34m*\u001b[0m\u001b[0margs\u001b[0m\u001b[0;34m,\u001b[0m \u001b[0;34m**\u001b[0m\u001b[0mkwargs\u001b[0m\u001b[0;34m)\u001b[0m\u001b[0;34m\u001b[0m\u001b[0;34m\u001b[0m\u001b[0m\n\u001b[1;32m     90\u001b[0m     \u001b[0mbound_arguments\u001b[0m\u001b[0;34m.\u001b[0m\u001b[0mapply_defaults\u001b[0m\u001b[0;34m(\u001b[0m\u001b[0;34m)\u001b[0m\u001b[0;34m\u001b[0m\u001b[0;34m\u001b[0m\u001b[0m\n",
            "\u001b[0;32m/usr/local/lib/python3.10/dist-packages/tensorflow/python/util/traceback_utils.py\u001b[0m in \u001b[0;36merror_handler\u001b[0;34m(*args, **kwargs)\u001b[0m\n\u001b[1;32m    151\u001b[0m     \u001b[0;32mexcept\u001b[0m \u001b[0mException\u001b[0m \u001b[0;32mas\u001b[0m \u001b[0me\u001b[0m\u001b[0;34m:\u001b[0m\u001b[0;34m\u001b[0m\u001b[0;34m\u001b[0m\u001b[0m\n\u001b[1;32m    152\u001b[0m       \u001b[0mfiltered_tb\u001b[0m \u001b[0;34m=\u001b[0m \u001b[0m_process_traceback_frames\u001b[0m\u001b[0;34m(\u001b[0m\u001b[0me\u001b[0m\u001b[0;34m.\u001b[0m\u001b[0m__traceback__\u001b[0m\u001b[0;34m)\u001b[0m\u001b[0;34m\u001b[0m\u001b[0;34m\u001b[0m\u001b[0m\n\u001b[0;32m--> 153\u001b[0;31m       \u001b[0;32mraise\u001b[0m \u001b[0me\u001b[0m\u001b[0;34m.\u001b[0m\u001b[0mwith_traceback\u001b[0m\u001b[0;34m(\u001b[0m\u001b[0mfiltered_tb\u001b[0m\u001b[0;34m)\u001b[0m \u001b[0;32mfrom\u001b[0m \u001b[0;32mNone\u001b[0m\u001b[0;34m\u001b[0m\u001b[0;34m\u001b[0m\u001b[0m\n\u001b[0m\u001b[1;32m    154\u001b[0m     \u001b[0;32mfinally\u001b[0m\u001b[0;34m:\u001b[0m\u001b[0;34m\u001b[0m\u001b[0;34m\u001b[0m\u001b[0m\n\u001b[1;32m    155\u001b[0m       \u001b[0;32mdel\u001b[0m \u001b[0mfiltered_tb\u001b[0m\u001b[0;34m\u001b[0m\u001b[0;34m\u001b[0m\u001b[0m\n",
            "\u001b[0;32m/usr/local/lib/python3.10/dist-packages/tensorflow/python/framework/constant_op.py\u001b[0m in \u001b[0;36mconvert_to_eager_tensor\u001b[0;34m(value, ctx, dtype)\u001b[0m\n\u001b[1;32m    101\u001b[0m       \u001b[0mdtype\u001b[0m \u001b[0;34m=\u001b[0m \u001b[0mdtypes\u001b[0m\u001b[0;34m.\u001b[0m\u001b[0mas_dtype\u001b[0m\u001b[0;34m(\u001b[0m\u001b[0mdtype\u001b[0m\u001b[0;34m)\u001b[0m\u001b[0;34m.\u001b[0m\u001b[0mas_datatype_enum\u001b[0m\u001b[0;34m\u001b[0m\u001b[0;34m\u001b[0m\u001b[0m\n\u001b[1;32m    102\u001b[0m   \u001b[0mctx\u001b[0m\u001b[0;34m.\u001b[0m\u001b[0mensure_initialized\u001b[0m\u001b[0;34m(\u001b[0m\u001b[0;34m)\u001b[0m\u001b[0;34m\u001b[0m\u001b[0;34m\u001b[0m\u001b[0m\n\u001b[0;32m--> 103\u001b[0;31m   \u001b[0;32mreturn\u001b[0m \u001b[0mops\u001b[0m\u001b[0;34m.\u001b[0m\u001b[0mEagerTensor\u001b[0m\u001b[0;34m(\u001b[0m\u001b[0mvalue\u001b[0m\u001b[0;34m,\u001b[0m \u001b[0mctx\u001b[0m\u001b[0;34m.\u001b[0m\u001b[0mdevice_name\u001b[0m\u001b[0;34m,\u001b[0m \u001b[0mdtype\u001b[0m\u001b[0;34m)\u001b[0m\u001b[0;34m\u001b[0m\u001b[0;34m\u001b[0m\u001b[0m\n\u001b[0m\u001b[1;32m    104\u001b[0m \u001b[0;34m\u001b[0m\u001b[0m\n\u001b[1;32m    105\u001b[0m \u001b[0;34m\u001b[0m\u001b[0m\n",
            "\u001b[0;31mValueError\u001b[0m: Attempt to convert a value (<_BatchDataset element_spec=(TensorSpec(shape=(None, None, 7), dtype=tf.float64, name=None), TensorSpec(shape=(None,), dtype=tf.int64, name=None))>) with an unsupported type (<class 'tensorflow.python.data.ops.batch_op._BatchDataset'>) to a Tensor."
          ]
        }
      ]
    },
    {
      "cell_type": "code",
      "source": [
        "input_shape = (timesteps, num_features)"
      ],
      "metadata": {
        "id": "fN1_PMdg0C1x"
      },
      "execution_count": null,
      "outputs": []
    },
    {
      "cell_type": "code",
      "source": [
        "METRICS = [\n",
        "      ks.metrics.TruePositives(name='tp'),\n",
        "      ks.metrics.FalsePositives(name='fp'),\n",
        "      ks.metrics.TrueNegatives(name='tn'),\n",
        "      ks.metrics.FalseNegatives(name='fn'),\n",
        "      ks.metrics.BinaryAccuracy(name='accuracy'),\n",
        "      ks.metrics.Precision(name='precision'),\n",
        "      ks.metrics.Recall(name='recall'),\n",
        "      ks.metrics.AUC(name='auc'),\n",
        "      ks.metrics.AUC(name='prc', curve='PR'), # precision-recall curve\n",
        "]"
      ],
      "metadata": {
        "id": "Clej0T4i8eqV"
      },
      "execution_count": null,
      "outputs": []
    },
    {
      "cell_type": "code",
      "execution_count": null,
      "metadata": {
        "colab": {
          "base_uri": "https://localhost:8080/"
        },
        "id": "7CjC0kGPop2n",
        "outputId": "b82065c7-33a9-48d3-8ccf-e6fd64165892"
      },
      "outputs": [
        {
          "output_type": "stream",
          "name": "stderr",
          "text": [
            "WARNING:tensorflow:Layer lstm_22 will not use cuDNN kernels since it doesn't meet the criteria. It will use a generic GPU kernel as fallback when running on GPU.\n"
          ]
        }
      ],
      "source": [
        "# define model\n",
        "\n",
        "from keras.layers import Input,Conv1D,BatchNormalization,MaxPooling1D,LSTM,Dense,Activation,Layer\n",
        "model5 = Sequential([\n",
        "    Conv1D(filters=32, kernel_size=3, activation='relu', input_shape=input_shape, padding='same', kernel_regularizer=regularizers.l2(0.001)),\n",
        "    MaxPooling1D(pool_size=2),\n",
        "    BatchNormalization(),\n",
        "    Dropout(0.5),\n",
        "\n",
        "    Conv1D(filters=64, kernel_size=3, activation='relu', padding='same', kernel_regularizer=regularizers.l2(0.001)),\n",
        "    MaxPooling1D(pool_size=2),\n",
        "    BatchNormalization(),\n",
        "    Dropout(0.5),\n",
        "\n",
        "    Conv1D(filters=128, kernel_size=3, activation='relu', padding='same', kernel_regularizer=regularizers.l2(0.001)),\n",
        "    MaxPooling1D(pool_size=2),\n",
        "    BatchNormalization(),\n",
        "    Dropout(0.5),\n",
        "\n",
        "    LSTM(128, activation='relu', kernel_regularizer=regularizers.l2(0.001)),\n",
        "\n",
        "    Dense(1, activation='sigmoid')\n",
        "])"
      ]
    },
    {
      "cell_type": "code",
      "source": [
        "model5.compile(optimizer=tf.keras.optimizers.Adam(learning_rate=0.00001), loss=keras_cv.losses.FocalLoss(\n",
        "    alpha=0.8, gamma=2), metrics= METRICS)"
      ],
      "metadata": {
        "id": "KNpb0I3b7vjk"
      },
      "execution_count": null,
      "outputs": []
    },
    {
      "cell_type": "code",
      "source": [
        "early_stopping = EarlyStopping(monitor='val_loss', patience=5, restore_best_weights=True)"
      ],
      "metadata": {
        "id": "VNq3W6XBav6x"
      },
      "execution_count": null,
      "outputs": []
    },
    {
      "cell_type": "code",
      "execution_count": null,
      "metadata": {
        "colab": {
          "base_uri": "https://localhost:8080/"
        },
        "id": "AM-kOwlHXgy8",
        "outputId": "dafe5a48-da5a-4053-fc2b-15c705924b47"
      },
      "outputs": [
        {
          "output_type": "stream",
          "name": "stdout",
          "text": [
            "Epoch 1/20\n",
            "16905/16905 [==============================] - 389s 23ms/step - loss: 0.2391 - tp: 893042.0000 - fp: 1784670.0000 - tn: 206460.0000 - fn: 81367.0000 - accuracy: 0.3708 - precision: 0.3335 - recall: 0.9165 - auc: 0.5884 - prc: 0.4146 - val_loss: 0.1224 - val_tp: 184142.0000 - val_fp: 536997.0000 - val_tn: 32.0000 - val_fn: 13.0000 - val_accuracy: 0.2554 - val_precision: 0.2553 - val_recall: 0.9999 - val_auc: 0.5108 - val_prc: 0.2629 - lr: 1.0000e-05\n",
            "Epoch 2/20\n",
            "16905/16905 [==============================] - 390s 23ms/step - loss: 0.0919 - tp: 666746.0000 - fp: 1460330.0000 - tn: 28454.0000 - fn: 8217.0000 - accuracy: 0.3213 - precision: 0.3135 - recall: 0.9878 - auc: 0.5995 - prc: 0.4084 - val_loss: 0.0729 - val_tp: 184155.0000 - val_fp: 537021.0000 - val_tn: 8.0000 - val_fn: 0.0000e+00 - val_accuracy: 0.2554 - val_precision: 0.2554 - val_recall: 1.0000 - val_auc: 0.5164 - val_prc: 0.2695 - lr: 1.0000e-05\n",
            "Epoch 3/20\n",
            "16905/16905 [==============================] - 382s 23ms/step - loss: 0.0623 - tp: 612547.0000 - fp: 833499.0000 - tn: 655285.0000 - fn: 62416.0000 - accuracy: 0.5859 - precision: 0.4236 - recall: 0.9075 - auc: 0.7637 - prc: 0.5581 - val_loss: 0.0489 - val_tp: 164861.0000 - val_fp: 146059.0000 - val_tn: 390970.0000 - val_fn: 19294.0000 - val_accuracy: 0.7707 - val_precision: 0.5302 - val_recall: 0.8952 - val_auc: 0.8739 - val_prc: 0.6428 - lr: 1.0000e-05\n",
            "Epoch 4/20\n",
            "16905/16905 [==============================] - 384s 23ms/step - loss: 0.0519 - tp: 610628.0000 - fp: 614759.0000 - tn: 874025.0000 - fn: 64335.0000 - accuracy: 0.6861 - precision: 0.4983 - recall: 0.9047 - auc: 0.8363 - prc: 0.6457 - val_loss: 0.0422 - val_tp: 159964.0000 - val_fp: 95518.0000 - val_tn: 441511.0000 - val_fn: 24191.0000 - val_accuracy: 0.8340 - val_precision: 0.6261 - val_recall: 0.8686 - val_auc: 0.8868 - val_prc: 0.6883 - lr: 1.0000e-05\n",
            "Epoch 5/20\n",
            "16905/16905 [==============================] - 381s 23ms/step - loss: 0.0481 - tp: 604632.0000 - fp: 554595.0000 - tn: 934189.0000 - fn: 70331.0000 - accuracy: 0.7112 - precision: 0.5216 - recall: 0.8958 - auc: 0.8476 - prc: 0.6621 - val_loss: 0.0407 - val_tp: 159555.0000 - val_fp: 96523.0000 - val_tn: 440506.0000 - val_fn: 24600.0000 - val_accuracy: 0.8320 - val_precision: 0.6231 - val_recall: 0.8664 - val_auc: 0.8885 - val_prc: 0.7022 - lr: 1.0000e-05\n",
            "Epoch 6/20\n",
            "16905/16905 [==============================] - 383s 23ms/step - loss: 0.0459 - tp: 599379.0000 - fp: 512312.0000 - tn: 976472.0000 - fn: 75584.0000 - accuracy: 0.7283 - precision: 0.5392 - recall: 0.8880 - auc: 0.8524 - prc: 0.6724 - val_loss: 0.0397 - val_tp: 158835.0000 - val_fp: 86975.0000 - val_tn: 450054.0000 - val_fn: 25320.0000 - val_accuracy: 0.8443 - val_precision: 0.6462 - val_recall: 0.8625 - val_auc: 0.8895 - val_prc: 0.7043 - lr: 1.0000e-05\n",
            "Epoch 7/20\n",
            "16905/16905 [==============================] - 377s 22ms/step - loss: 0.0451 - tp: 603700.0000 - fp: 527024.0000 - tn: 961760.0000 - fn: 71263.0000 - accuracy: 0.7235 - precision: 0.5339 - recall: 0.8944 - auc: 0.8546 - prc: 0.6806 - val_loss: 0.0404 - val_tp: 159210.0000 - val_fp: 86625.0000 - val_tn: 450404.0000 - val_fn: 24945.0000 - val_accuracy: 0.8453 - val_precision: 0.6476 - val_recall: 0.8645 - val_auc: 0.8969 - val_prc: 0.7404 - lr: 1.0000e-05\n",
            "Epoch 8/20\n",
            "16905/16905 [==============================] - 381s 23ms/step - loss: 0.0423 - tp: 600379.0000 - fp: 448562.0000 - tn: 1040222.0000 - fn: 74584.0000 - accuracy: 0.7582 - precision: 0.5724 - recall: 0.8895 - auc: 0.8762 - prc: 0.7359 - val_loss: 0.0437 - val_tp: 174912.0000 - val_fp: 208138.0000 - val_tn: 328891.0000 - val_fn: 9243.0000 - val_accuracy: 0.6986 - val_precision: 0.4566 - val_recall: 0.9498 - val_auc: 0.9142 - val_prc: 0.7993 - lr: 9.0484e-06\n",
            "Epoch 9/20\n",
            "16905/16905 [==============================] - 385s 23ms/step - loss: 0.0325 - tp: 611862.0000 - fp: 302873.0000 - tn: 1185911.0000 - fn: 63101.0000 - accuracy: 0.8309 - precision: 0.6689 - recall: 0.9065 - auc: 0.9377 - prc: 0.8848 - val_loss: 0.0359 - val_tp: 168314.0000 - val_fp: 139990.0000 - val_tn: 397039.0000 - val_fn: 15841.0000 - val_accuracy: 0.7839 - val_precision: 0.5459 - val_recall: 0.9140 - val_auc: 0.9279 - val_prc: 0.8745 - lr: 8.1873e-06\n",
            "Epoch 10/20\n",
            "16905/16905 [==============================] - 380s 22ms/step - loss: 0.0255 - tp: 625657.0000 - fp: 216976.0000 - tn: 1271808.0000 - fn: 49306.0000 - accuracy: 0.8769 - precision: 0.7425 - recall: 0.9270 - auc: 0.9653 - prc: 0.9390 - val_loss: 0.0325 - val_tp: 161143.0000 - val_fp: 91402.0000 - val_tn: 445627.0000 - val_fn: 23012.0000 - val_accuracy: 0.8414 - val_precision: 0.6381 - val_recall: 0.8750 - val_auc: 0.9326 - val_prc: 0.8857 - lr: 7.4082e-06\n",
            "Epoch 11/20\n",
            "16905/16905 [==============================] - 377s 22ms/step - loss: 0.0222 - tp: 635641.0000 - fp: 184097.0000 - tn: 1304687.0000 - fn: 39322.0000 - accuracy: 0.8967 - precision: 0.7754 - recall: 0.9417 - auc: 0.9751 - prc: 0.9554 - val_loss: 0.0399 - val_tp: 154638.0000 - val_fp: 97928.0000 - val_tn: 439101.0000 - val_fn: 29517.0000 - val_accuracy: 0.8233 - val_precision: 0.6123 - val_recall: 0.8397 - val_auc: 0.9168 - val_prc: 0.8666 - lr: 6.7032e-06\n",
            "Epoch 12/20\n",
            "16905/16905 [==============================] - 377s 22ms/step - loss: 0.0197 - tp: 641859.0000 - fp: 157676.0000 - tn: 1331108.0000 - fn: 33104.0000 - accuracy: 0.9118 - precision: 0.8028 - recall: 0.9510 - auc: 0.9815 - prc: 0.9662 - val_loss: 0.0426 - val_tp: 148711.0000 - val_fp: 81043.0000 - val_tn: 455986.0000 - val_fn: 35444.0000 - val_accuracy: 0.8385 - val_precision: 0.6473 - val_recall: 0.8075 - val_auc: 0.9188 - val_prc: 0.8657 - lr: 6.0653e-06\n",
            "Epoch 13/20\n",
            "16905/16905 [==============================] - 379s 22ms/step - loss: 0.0182 - tp: 645412.0000 - fp: 141666.0000 - tn: 1347118.0000 - fn: 29551.0000 - accuracy: 0.9209 - precision: 0.8200 - recall: 0.9562 - auc: 0.9848 - prc: 0.9717 - val_loss: 0.0400 - val_tp: 149527.0000 - val_fp: 70376.0000 - val_tn: 466653.0000 - val_fn: 34628.0000 - val_accuracy: 0.8544 - val_precision: 0.6800 - val_recall: 0.8120 - val_auc: 0.9311 - val_prc: 0.8796 - lr: 5.4881e-06\n",
            "Epoch 14/20\n",
            "16905/16905 [==============================] - 382s 23ms/step - loss: 0.0170 - tp: 647770.0000 - fp: 130505.0000 - tn: 1358279.0000 - fn: 27193.0000 - accuracy: 0.9271 - precision: 0.8323 - recall: 0.9597 - auc: 0.9870 - prc: 0.9756 - val_loss: 0.0393 - val_tp: 151530.0000 - val_fp: 61611.0000 - val_tn: 475418.0000 - val_fn: 32625.0000 - val_accuracy: 0.8693 - val_precision: 0.7109 - val_recall: 0.8228 - val_auc: 0.9364 - val_prc: 0.8877 - lr: 4.9659e-06\n",
            "Epoch 15/20\n",
            "16905/16905 [==============================] - 378s 22ms/step - loss: 0.0161 - tp: 650015.0000 - fp: 122040.0000 - tn: 1366744.0000 - fn: 24948.0000 - accuracy: 0.9321 - precision: 0.8419 - recall: 0.9630 - auc: 0.9886 - prc: 0.9784 - val_loss: 0.0406 - val_tp: 152083.0000 - val_fp: 51911.0000 - val_tn: 485118.0000 - val_fn: 32072.0000 - val_accuracy: 0.8835 - val_precision: 0.7455 - val_recall: 0.8258 - val_auc: 0.9389 - val_prc: 0.8953 - lr: 4.4933e-06\n"
          ]
        }
      ],
      "source": [
        "history = model5.fit(train_dataset, epochs=20, batch_size= 128,validation_data=val_dataset,callbacks=[lr_callback, early_stopping])"
      ]
    },
    {
      "cell_type": "code",
      "source": [
        "plt.plot(history.history[\"loss\"], label=\"Training Loss\")\n",
        "plt.plot(history.history[\"val_loss\"], label=\"Validation Loss\")\n",
        "plt.legend()\n",
        "plt.show()"
      ],
      "metadata": {
        "colab": {
          "base_uri": "https://localhost:8080/",
          "height": 435
        },
        "id": "JnTziiIZvnRP",
        "outputId": "567d7c89-6673-4214-a787-b61d4c07925a"
      },
      "execution_count": null,
      "outputs": [
        {
          "output_type": "display_data",
          "data": {
            "text/plain": [
              "<Figure size 640x480 with 1 Axes>"
            ],
            "image/png": "[encoded data removed]"
          },
          "metadata": {}
        }
      ]
    },
    {
      "cell_type": "code",
      "source": [
        "history2 = model5.fit(train_dataset, epochs=20, batch_size= 128,validation_data=val_dataset,callbacks=[lr_callback, early_stopping])"
      ],
      "metadata": {
        "colab": {
          "base_uri": "https://localhost:8080/"
        },
        "id": "2heZZcSfKD_3",
        "outputId": "afdc8466-f052-474b-f4e4-4dc11f265680"
      },
      "execution_count": null,
      "outputs": [
        {
          "output_type": "stream",
          "name": "stdout",
          "text": [
            "Epoch 1/20\n",
            "16905/16905 [==============================] - 378s 22ms/step - loss: 0.0232 - tp: 633021.0000 - fp: 192473.0000 - tn: 1296311.0000 - fn: 41942.0000 - accuracy: 0.8917 - precision: 0.7668 - recall: 0.9379 - auc: 0.9726 - prc: 0.9515 - val_loss: 0.0361 - val_tp: 162177.0000 - val_fp: 112265.0000 - val_tn: 424764.0000 - val_fn: 21978.0000 - val_accuracy: 0.8139 - val_precision: 0.5909 - val_recall: 0.8807 - val_auc: 0.9265 - val_prc: 0.8817 - lr: 4.4933e-06\n",
            "Epoch 2/20\n",
            "16905/16905 [==============================] - 390s 23ms/step - loss: 0.0209 - tp: 638734.0000 - fp: 168858.0000 - tn: 1319926.0000 - fn: 36229.0000 - accuracy: 0.9052 - precision: 0.7909 - recall: 0.9463 - auc: 0.9787 - prc: 0.9616 - val_loss: 0.0343 - val_tp: 163603.0000 - val_fp: 99393.0000 - val_tn: 437636.0000 - val_fn: 20552.0000 - val_accuracy: 0.8337 - val_precision: 0.6221 - val_recall: 0.8884 - val_auc: 0.9391 - val_prc: 0.8949 - lr: 4.4933e-06\n",
            "Epoch 3/20\n",
            "16905/16905 [==============================] - 389s 23ms/step - loss: 0.0192 - tp: 642758.0000 - fp: 151655.0000 - tn: 1337129.0000 - fn: 32205.0000 - accuracy: 0.9150 - precision: 0.8091 - recall: 0.9523 - auc: 0.9826 - prc: 0.9682 - val_loss: 0.0350 - val_tp: 164269.0000 - val_fp: 90293.0000 - val_tn: 446736.0000 - val_fn: 19886.0000 - val_accuracy: 0.8472 - val_precision: 0.6453 - val_recall: 0.8920 - val_auc: 0.9422 - val_prc: 0.8998 - lr: 4.4933e-06\n",
            "Epoch 4/20\n",
            "16905/16905 [==============================] - 390s 23ms/step - loss: 0.0179 - tp: 646003.0000 - fp: 139914.0000 - tn: 1348870.0000 - fn: 28960.0000 - accuracy: 0.9220 - precision: 0.8220 - recall: 0.9571 - auc: 0.9853 - prc: 0.9728 - val_loss: 0.0276 - val_tp: 169759.0000 - val_fp: 91027.0000 - val_tn: 446002.0000 - val_fn: 14396.0000 - val_accuracy: 0.8538 - val_precision: 0.6510 - val_recall: 0.9218 - val_auc: 0.9631 - val_prc: 0.9282 - lr: 4.4933e-06\n",
            "Epoch 5/20\n",
            "16905/16905 [==============================] - 385s 23ms/step - loss: 0.0168 - tp: 648438.0000 - fp: 129665.0000 - tn: 1359119.0000 - fn: 26525.0000 - accuracy: 0.9278 - precision: 0.8334 - recall: 0.9607 - auc: 0.9873 - prc: 0.9762 - val_loss: 0.0266 - val_tp: 172011.0000 - val_fp: 93099.0000 - val_tn: 443930.0000 - val_fn: 12144.0000 - val_accuracy: 0.8541 - val_precision: 0.6488 - val_recall: 0.9341 - val_auc: 0.9677 - val_prc: 0.9367 - lr: 4.4933e-06\n",
            "Epoch 6/20\n",
            "16905/16905 [==============================] - 405s 24ms/step - loss: 0.0158 - tp: 650455.0000 - fp: 120566.0000 - tn: 1368218.0000 - fn: 24508.0000 - accuracy: 0.9330 - precision: 0.8436 - recall: 0.9637 - auc: 0.9890 - prc: 0.9791 - val_loss: 0.0246 - val_tp: 174294.0000 - val_fp: 90134.0000 - val_tn: 446895.0000 - val_fn: 9861.0000 - val_accuracy: 0.8613 - val_precision: 0.6591 - val_recall: 0.9465 - val_auc: 0.9736 - val_prc: 0.9475 - lr: 4.4933e-06\n",
            "Epoch 7/20\n",
            "16905/16905 [==============================] - 401s 24ms/step - loss: 0.0150 - tp: 652181.0000 - fp: 113355.0000 - tn: 1375429.0000 - fn: 22782.0000 - accuracy: 0.9371 - precision: 0.8519 - recall: 0.9662 - auc: 0.9903 - prc: 0.9814 - val_loss: 0.0224 - val_tp: 175120.0000 - val_fp: 73128.0000 - val_tn: 463901.0000 - val_fn: 9035.0000 - val_accuracy: 0.8861 - val_precision: 0.7054 - val_recall: 0.9509 - val_auc: 0.9773 - val_prc: 0.9528 - lr: 4.4933e-06\n",
            "Epoch 8/20\n",
            "16905/16905 [==============================] - 379s 22ms/step - loss: 0.0144 - tp: 653126.0000 - fp: 107957.0000 - tn: 1380827.0000 - fn: 21837.0000 - accuracy: 0.9400 - precision: 0.8582 - recall: 0.9676 - auc: 0.9911 - prc: 0.9830 - val_loss: 0.0212 - val_tp: 177114.0000 - val_fp: 72648.0000 - val_tn: 464381.0000 - val_fn: 7041.0000 - val_accuracy: 0.8895 - val_precision: 0.7091 - val_recall: 0.9618 - val_auc: 0.9807 - val_prc: 0.9596 - lr: 4.0657e-06\n",
            "Epoch 9/20\n",
            "16905/16905 [==============================] - 382s 23ms/step - loss: 0.0139 - tp: 654225.0000 - fp: 102904.0000 - tn: 1385880.0000 - fn: 20738.0000 - accuracy: 0.9429 - precision: 0.8641 - recall: 0.9693 - auc: 0.9918 - prc: 0.9843 - val_loss: 0.0204 - val_tp: 177856.0000 - val_fp: 71659.0000 - val_tn: 465370.0000 - val_fn: 6299.0000 - val_accuracy: 0.8919 - val_precision: 0.7128 - val_recall: 0.9658 - val_auc: 0.9829 - val_prc: 0.9648 - lr: 3.6788e-06\n",
            "Epoch 10/20\n",
            "16905/16905 [==============================] - 382s 23ms/step - loss: 0.0134 - tp: 654963.0000 - fp: 99249.0000 - tn: 1389535.0000 - fn: 20000.0000 - accuracy: 0.9449 - precision: 0.8684 - recall: 0.9704 - auc: 0.9924 - prc: 0.9854 - val_loss: 0.0200 - val_tp: 178587.0000 - val_fp: 73294.0000 - val_tn: 463735.0000 - val_fn: 5568.0000 - val_accuracy: 0.8906 - val_precision: 0.7090 - val_recall: 0.9698 - val_auc: 0.9850 - val_prc: 0.9701 - lr: 3.3287e-06\n",
            "Epoch 11/20\n",
            "16905/16905 [==============================] - 380s 22ms/step - loss: 0.0131 - tp: 655471.0000 - fp: 97151.0000 - tn: 1391633.0000 - fn: 19492.0000 - accuracy: 0.9461 - precision: 0.8709 - recall: 0.9711 - auc: 0.9928 - prc: 0.9860 - val_loss: 0.0187 - val_tp: 176843.0000 - val_fp: 52965.0000 - val_tn: 484064.0000 - val_fn: 7312.0000 - val_accuracy: 0.9164 - val_precision: 0.7695 - val_recall: 0.9603 - val_auc: 0.9845 - val_prc: 0.9686 - lr: 3.0119e-06\n",
            "Epoch 12/20\n",
            "16905/16905 [==============================] - 379s 22ms/step - loss: 0.0128 - tp: 656005.0000 - fp: 94774.0000 - tn: 1394010.0000 - fn: 18958.0000 - accuracy: 0.9474 - precision: 0.8738 - recall: 0.9719 - auc: 0.9931 - prc: 0.9867 - val_loss: 0.0185 - val_tp: 178531.0000 - val_fp: 60810.0000 - val_tn: 476219.0000 - val_fn: 5624.0000 - val_accuracy: 0.9079 - val_precision: 0.7459 - val_recall: 0.9695 - val_auc: 0.9863 - val_prc: 0.9728 - lr: 2.7253e-06\n",
            "Epoch 13/20\n",
            "16905/16905 [==============================] - 377s 22ms/step - loss: 0.0126 - tp: 656257.0000 - fp: 93080.0000 - tn: 1395704.0000 - fn: 18706.0000 - accuracy: 0.9483 - precision: 0.8758 - recall: 0.9723 - auc: 0.9934 - prc: 0.9872 - val_loss: 0.0177 - val_tp: 175393.0000 - val_fp: 38941.0000 - val_tn: 498088.0000 - val_fn: 8762.0000 - val_accuracy: 0.9339 - val_precision: 0.8183 - val_recall: 0.9524 - val_auc: 0.9855 - val_prc: 0.9704 - lr: 2.4660e-06\n",
            "Epoch 14/20\n",
            "16905/16905 [==============================] - 386s 23ms/step - loss: 0.0124 - tp: 656804.0000 - fp: 90769.0000 - tn: 1398015.0000 - fn: 18159.0000 - accuracy: 0.9497 - precision: 0.8786 - recall: 0.9731 - auc: 0.9936 - prc: 0.9876 - val_loss: 0.0173 - val_tp: 175451.0000 - val_fp: 36702.0000 - val_tn: 500327.0000 - val_fn: 8704.0000 - val_accuracy: 0.9370 - val_precision: 0.8270 - val_recall: 0.9527 - val_auc: 0.9860 - val_prc: 0.9714 - lr: 2.2313e-06\n",
            "Epoch 15/20\n",
            "16905/16905 [==============================] - 397s 23ms/step - loss: 0.0122 - tp: 656775.0000 - fp: 89608.0000 - tn: 1399176.0000 - fn: 18188.0000 - accuracy: 0.9502 - precision: 0.8799 - recall: 0.9731 - auc: 0.9939 - prc: 0.9881 - val_loss: 0.0169 - val_tp: 176291.0000 - val_fp: 38123.0000 - val_tn: 498906.0000 - val_fn: 7864.0000 - val_accuracy: 0.9362 - val_precision: 0.8222 - val_recall: 0.9573 - val_auc: 0.9866 - val_prc: 0.9726 - lr: 2.0190e-06\n",
            "Epoch 16/20\n",
            "16905/16905 [==============================] - 389s 23ms/step - loss: 0.0120 - tp: 657306.0000 - fp: 88733.0000 - tn: 1400051.0000 - fn: 17657.0000 - accuracy: 0.9508 - precision: 0.8811 - recall: 0.9738 - auc: 0.9940 - prc: 0.9883 - val_loss: 0.0165 - val_tp: 177087.0000 - val_fp: 39696.0000 - val_tn: 497333.0000 - val_fn: 7068.0000 - val_accuracy: 0.9352 - val_precision: 0.8169 - val_recall: 0.9616 - val_auc: 0.9872 - val_prc: 0.9733 - lr: 1.8268e-06\n",
            "Epoch 17/20\n",
            "16905/16905 [==============================] - 383s 23ms/step - loss: 0.0119 - tp: 657418.0000 - fp: 87311.0000 - tn: 1401473.0000 - fn: 17545.0000 - accuracy: 0.9515 - precision: 0.8828 - recall: 0.9740 - auc: 0.9942 - prc: 0.9886 - val_loss: 0.0161 - val_tp: 177913.0000 - val_fp: 40065.0000 - val_tn: 496964.0000 - val_fn: 6242.0000 - val_accuracy: 0.9358 - val_precision: 0.8162 - val_recall: 0.9661 - val_auc: 0.9881 - val_prc: 0.9756 - lr: 1.6530e-06\n",
            "Epoch 18/20\n",
            "16905/16905 [==============================] - 380s 22ms/step - loss: 0.0118 - tp: 657463.0000 - fp: 86589.0000 - tn: 1402195.0000 - fn: 17500.0000 - accuracy: 0.9519 - precision: 0.8836 - recall: 0.9741 - auc: 0.9942 - prc: 0.9888 - val_loss: 0.0162 - val_tp: 177110.0000 - val_fp: 35428.0000 - val_tn: 501601.0000 - val_fn: 7045.0000 - val_accuracy: 0.9411 - val_precision: 0.8333 - val_recall: 0.9617 - val_auc: 0.9876 - val_prc: 0.9735 - lr: 1.4957e-06\n",
            "Epoch 19/20\n",
            "16905/16905 [==============================] - 382s 23ms/step - loss: 0.0117 - tp: 657560.0000 - fp: 85543.0000 - tn: 1403241.0000 - fn: 17403.0000 - accuracy: 0.9524 - precision: 0.8849 - recall: 0.9742 - auc: 0.9943 - prc: 0.9890 - val_loss: 0.0158 - val_tp: 176452.0000 - val_fp: 30325.0000 - val_tn: 506704.0000 - val_fn: 7703.0000 - val_accuracy: 0.9473 - val_precision: 0.8533 - val_recall: 0.9582 - val_auc: 0.9881 - val_prc: 0.9753 - lr: 1.3534e-06\n",
            "Epoch 20/20\n",
            "16905/16905 [==============================] - 376s 22ms/step - loss: 0.0116 - tp: 657736.0000 - fp: 84710.0000 - tn: 1404074.0000 - fn: 17227.0000 - accuracy: 0.9529 - precision: 0.8859 - recall: 0.9745 - auc: 0.9944 - prc: 0.9891 - val_loss: 0.0163 - val_tp: 175422.0000 - val_fp: 27856.0000 - val_tn: 509173.0000 - val_fn: 8733.0000 - val_accuracy: 0.9493 - val_precision: 0.8630 - val_recall: 0.9526 - val_auc: 0.9874 - val_prc: 0.9727 - lr: 1.2246e-06\n"
          ]
        }
      ]
    },
    {
      "cell_type": "code",
      "execution_count": null,
      "metadata": {
        "colab": {
          "base_uri": "https://localhost:8080/",
          "height": 430
        },
        "id": "ObxgLmcwvQrT",
        "outputId": "e39922cc-b03a-4de9-bd4e-827276eb57ef"
      },
      "outputs": [
        {
          "output_type": "display_data",
          "data": {
            "text/plain": [
              "<Figure size 640x480 with 1 Axes>"
            ],
            "image/png": "[encoded data removed]"
          },
          "metadata": {}
        }
      ],
      "source": [
        "plt.plot(history2.history[\"loss\"], label=\"Training Loss\")\n",
        "plt.plot(history2.history[\"val_loss\"], label=\"Validation Loss\")\n",
        "plt.legend()\n",
        "plt.show()"
      ]
    },
    {
      "cell_type": "code",
      "source": [
        "def lr_scheduler(epoch, lr):\n",
        "    if epoch < 7:\n",
        "        return lr\n",
        "    else:\n",
        "        return lr * tf.math.exp(-0.1)\n",
        "\n",
        "lr_callback = LearningRateScheduler(lr_scheduler)"
      ],
      "metadata": {
        "id": "hAJjgcxkn44V"
      },
      "execution_count": null,
      "outputs": []
    },
    {
      "cell_type": "code",
      "source": [
        "test_dataset = create_tf_dataset(test_data,test_labels,time_steps=100,batch_size=128)"
      ],
      "metadata": {
        "id": "RZfH1IlgoIbH"
      },
      "execution_count": null,
      "outputs": []
    },
    {
      "cell_type": "code",
      "source": [
        "import tensorflow as tf\n",
        "\n",
        "# Load the model\n",
        "loaded_model = tf.keras.models.load_model('/content/drive/MyDrive/90prec72recall88acc.keras')\n",
        "\n",
        "# Now you can use the loaded model for predictions or any other tasks\n"
      ],
      "metadata": {
        "colab": {
          "base_uri": "https://localhost:8080/"
        },
        "id": "zGkJ9IqQX2Gw",
        "outputId": "d7c02bf5-03b7-471d-b85e-24998a29c69c"
      },
      "execution_count": null,
      "outputs": [
        {
          "output_type": "stream",
          "name": "stderr",
          "text": [
            "WARNING:tensorflow:Layer lstm_22 will not use cuDNN kernels since it doesn't meet the criteria. It will use a generic GPU kernel as fallback when running on GPU.\n"
          ]
        }
      ]
    },
    {
      "cell_type": "code",
      "source": [
        "preds = loaded_model.predict(test_dataset)"
      ],
      "metadata": {
        "colab": {
          "base_uri": "https://localhost:8080/"
        },
        "id": "cW6d8TD9ZuT3",
        "outputId": "c967118d-34b8-44ea-9d07-d7b634cd251d"
      },
      "execution_count": null,
      "outputs": [
        {
          "output_type": "stream",
          "name": "stdout",
          "text": [
            "5635/5635 [==============================] - 30s 5ms/step\n"
          ]
        }
      ]
    },
    {
      "cell_type": "code",
      "source": [
        "def create_sequences_test(values, labels, time_steps=10):\n",
        "    output_values = []\n",
        "    output_labels = []\n",
        "    for i in range(len(values) - time_steps + 1):\n",
        "        output_values.append(values[i : (i + time_steps)])\n",
        "        output_labels.append(labels[i + time_steps - 1])  # Assuming labels indicate the anomaly at the last timestep of each sequence\n",
        "    return np.stack(output_values), np.array(output_labels)"
      ],
      "metadata": {
        "id": "IQD5IKU2cIu0"
      },
      "execution_count": null,
      "outputs": []
    },
    {
      "cell_type": "code",
      "source": [
        "x_test, test_labels1=create_sequences(test_labels,time_steps=100)"
      ],
      "metadata": {
        "id": "G5VvQyPlcMtv"
      },
      "execution_count": null,
      "outputs": []
    },
    {
      "cell_type": "code",
      "source": [
        "preds = loaded_model.predict(x_test)"
      ],
      "metadata": {
        "colab": {
          "base_uri": "https://localhost:8080/"
        },
        "id": "R8St2ajDeoqq",
        "outputId": "c22afd57-6b9f-490e-a68f-0f93b06c12db"
      },
      "execution_count": null,
      "outputs": [
        {
          "output_type": "stream",
          "name": "stdout",
          "text": [
            "22537/22537 [==============================] - 77s 3ms/step\n"
          ]
        }
      ]
    },
    {
      "cell_type": "code",
      "source": [
        "preds.shape"
      ],
      "metadata": {
        "colab": {
          "base_uri": "https://localhost:8080/"
        },
        "id": "6bD9B4JmfMv7",
        "outputId": "7464f898-58ec-428f-e2cd-88772c198560"
      },
      "execution_count": null,
      "outputs": [
        {
          "output_type": "execute_result",
          "data": {
            "text/plain": [
              "(721184, 1)"
            ]
          },
          "metadata": {},
          "execution_count": 54
        }
      ]
    },
    {
      "cell_type": "code",
      "source": [
        "preds_reshaped = preds.flatten()"
      ],
      "metadata": {
        "id": "COlhO3eqg0tc"
      },
      "execution_count": null,
      "outputs": []
    },
    {
      "cell_type": "code",
      "source": [
        "preds_reshaped.shape"
      ],
      "metadata": {
        "colab": {
          "base_uri": "https://localhost:8080/"
        },
        "id": "qGD24Fi6g13X",
        "outputId": "2cdc9ca0-3763-4afb-c5ee-aeace5ba1f19"
      },
      "execution_count": null,
      "outputs": [
        {
          "output_type": "execute_result",
          "data": {
            "text/plain": [
              "(721184,)"
            ]
          },
          "metadata": {},
          "execution_count": 51
        }
      ]
    },
    {
      "cell_type": "code",
      "source": [
        "preds_re= tf.reshape(preds, [-1]).numpy()"
      ],
      "metadata": {
        "id": "InqiqLjmfYy2"
      },
      "execution_count": null,
      "outputs": []
    },
    {
      "cell_type": "code",
      "source": [
        "preds_re.shape"
      ],
      "metadata": {
        "colab": {
          "base_uri": "https://localhost:8080/"
        },
        "id": "o6nMthE9ffUP",
        "outputId": "b06777a4-a2f2-48ca-fe61-00a3ab4336eb"
      },
      "execution_count": null,
      "outputs": [
        {
          "output_type": "execute_result",
          "data": {
            "text/plain": [
              "(721184,)"
            ]
          },
          "metadata": {},
          "execution_count": 47
        }
      ]
    },
    {
      "cell_type": "code",
      "source": [
        "test_labels1.shape"
      ],
      "metadata": {
        "colab": {
          "base_uri": "https://localhost:8080/"
        },
        "id": "MaHN7707fPEu",
        "outputId": "cf7c0ed4-31f5-4438-86ed-832b7d4116f5"
      },
      "execution_count": null,
      "outputs": [
        {
          "output_type": "execute_result",
          "data": {
            "text/plain": [
              "(721184,)"
            ]
          },
          "metadata": {},
          "execution_count": 44
        }
      ]
    },
    {
      "cell_type": "code",
      "source": [
        "#test_dataset2 = create_tf_dataset(test_data,None,time_steps=100,batch_size=128)\n",
        "test_labels2 = create_sequences(test_labels,time_steps=100)"
      ],
      "metadata": {
        "id": "AYEvRDx2sMl7"
      },
      "execution_count": null,
      "outputs": []
    },
    {
      "cell_type": "code",
      "source": [
        "test_labels2.shape"
      ],
      "metadata": {
        "colab": {
          "base_uri": "https://localhost:8080/"
        },
        "id": "FOVS5mxdh5f7",
        "outputId": "b43fbff7-0772-4a02-fe67-6909b8f1d1e6"
      },
      "execution_count": null,
      "outputs": [
        {
          "output_type": "execute_result",
          "data": {
            "text/plain": [
              "(721184, 100)"
            ]
          },
          "metadata": {},
          "execution_count": 59
        }
      ]
    },
    {
      "cell_type": "code",
      "source": [
        "preds_flat = preds.flatten()"
      ],
      "metadata": {
        "id": "HaRjAdbcd5sB"
      },
      "execution_count": null,
      "outputs": []
    },
    {
      "cell_type": "code",
      "source": [
        "preds_flat.shape"
      ],
      "metadata": {
        "colab": {
          "base_uri": "https://localhost:8080/"
        },
        "id": "dmZd-Qjbeheh",
        "outputId": "270c5aeb-bab5-4390-c8a4-22fef3d4021f"
      },
      "execution_count": null,
      "outputs": [
        {
          "output_type": "execute_result",
          "data": {
            "text/plain": [
              "(721184,)"
            ]
          },
          "metadata": {},
          "execution_count": 38
        }
      ]
    },
    {
      "cell_type": "code",
      "source": [
        "y_flat = tf.reshape(y_true, [-1]).numpy()"
      ],
      "metadata": {
        "id": "C3nRrpt8bG4V"
      },
      "execution_count": null,
      "outputs": []
    },
    {
      "cell_type": "code",
      "source": [
        "y_flat.shape"
      ],
      "metadata": {
        "colab": {
          "base_uri": "https://localhost:8080/"
        },
        "id": "cY5AhM5XeAbc",
        "outputId": "04d82832-49b7-4210-aef5-9eff7b48ebaa"
      },
      "execution_count": null,
      "outputs": [
        {
          "output_type": "execute_result",
          "data": {
            "text/plain": [
              "(72118400,)"
            ]
          },
          "metadata": {},
          "execution_count": 39
        }
      ]
    },
    {
      "cell_type": "code",
      "source": [
        "import tensorflow as tf\n",
        "import numpy as np\n",
        "from sklearn.metrics import roc_curve, confusion_matrix, ConfusionMatrixDisplay, roc_auc_score\n",
        "import matplotlib.pyplot as plt\n",
        "import seaborn as sns\n",
        "y_true = np.array(test_labels2)  # Convert test labels to numpy array if not already\n",
        "\n",
        "# Step 3: Plot ROC Curve\n",
        "fpr, tpr, thresholds = roc_curve(test_labels1, preds_reshaped)\n",
        "auc_score = roc_auc_score(test_labels1, preds_reshaped)\n",
        "\n",
        "plt.figure()\n",
        "plt.plot(fpr, tpr, label=f'AUC = {auc_score:.2f}')\n",
        "plt.plot([0, 1], [0, 1], linestyle='--', color='gray')\n",
        "plt.xlabel('False Positive Rate')\n",
        "plt.ylabel('True Positive Rate')\n",
        "plt.title('Receiver Operating Characteristic (ROC) Curve')\n",
        "plt.legend()\n",
        "plt.show()\n",
        "\n",
        "# Step 4: Plot Confusion Matrix\n",
        "cm = confusion_matrix(test_labels1, preds_reshaped.round())\n",
        "sns.heatmap(cm, annot=True, fmt='d', cmap='Blues')\n",
        "plt.xlabel('Predicted Label')\n",
        "plt.ylabel('True Label')\n",
        "plt.title('Confusion Matrix')\n",
        "plt.show()"
      ],
      "metadata": {
        "colab": {
          "base_uri": "https://localhost:8080/",
          "height": 927
        },
        "id": "67VP8BzTaFQ2",
        "outputId": "b33c61d0-9060-4f20-be29-1fdcdc7ff17c"
      },
      "execution_count": null,
      "outputs": [
        {
          "output_type": "display_data",
          "data": {
            "text/plain": [
              "<Figure size 640x480 with 1 Axes>"
            ],
            "image/png": "[encoded data removed]"
          },
          "metadata": {}
        },
        {
          "output_type": "display_data",
          "data": {
            "text/plain": [
              "<Figure size 640x480 with 2 Axes>"
            ],
            "image/png": "[encoded data removed]"
          },
          "metadata": {}
        }
      ]
    },
    {
      "cell_type": "code",
      "source": [
        "evaluation_results = loaded_model.evaluate(test_dataset)\n",
        "\n",
        "# Display the evaluation results\n",
        "for metric_name, metric_value in zip(loaded_model.metrics_names, evaluation_results):\n",
        "    print(metric_name, ':', metric_value)"
      ],
      "metadata": {
        "colab": {
          "base_uri": "https://localhost:8080/"
        },
        "id": "kQQCR2QZYP99",
        "outputId": "a4482258-75fb-42cd-aa22-c2d6ce3a2963"
      },
      "execution_count": null,
      "outputs": [
        {
          "output_type": "stream",
          "name": "stdout",
          "text": [
            "5635/5635 [==============================] - 42s 7ms/step - loss: 0.0887 - tp: 174711.0000 - fp: 18535.0000 - tn: 457884.0000 - fn: 70054.0000 - accuracy: 0.8772 - precision: 0.9041 - recall: 0.7138 - auc: 0.9322 - prc: 0.9054\n",
            "loss : 0.08868059515953064\n",
            "tp : 174711.0\n",
            "fp : 18535.0\n",
            "tn : 457884.0\n",
            "fn : 70054.0\n",
            "accuracy : 0.8771617412567139\n",
            "precision : 0.9040859937667847\n",
            "recall : 0.713790774345398\n",
            "auc : 0.9322291016578674\n",
            "prc : 0.9054117202758789\n"
          ]
        }
      ]
    },
    {
      "cell_type": "code",
      "source": [
        "evaluation_results = loaded_model.evaluate(test_dataset)\n",
        "\n",
        "# Display the evaluation results\n",
        "for metric_name, metric_value in zip(model5.metrics_names, evaluation_results):\n",
        "    print(metric_name, ':', metric_value)"
      ],
      "metadata": {
        "id": "KOY0OfL8b17Z"
      },
      "execution_count": null,
      "outputs": []
    },
    {
      "cell_type": "code",
      "source": [
        "evaluation_results_dict = {}\n",
        "\n",
        "for metric_name, metric_value in zip(model5.metrics_names, evaluation_results):\n",
        "    print(metric_name, ':', metric_value)\n",
        "    evaluation_results_dict[metric_name] = metric_value\n",
        "\n",
        "# Now you have the metric names and values stored in evaluation_results_dict\n",
        "print(evaluation_results_dict)"
      ],
      "metadata": {
        "colab": {
          "base_uri": "https://localhost:8080/"
        },
        "id": "dJd07u8Qqw_J",
        "outputId": "141adbc7-85d5-4b57-b057-39ad3f5a1a47"
      },
      "execution_count": null,
      "outputs": [
        {
          "output_type": "stream",
          "name": "stdout",
          "text": [
            "loss : 0.08868059515953064\n",
            "tp : 174711.0\n",
            "fp : 18535.0\n",
            "tn : 457884.0\n",
            "fn : 70054.0\n",
            "accuracy : 0.8771617412567139\n",
            "precision : 0.9040859937667847\n",
            "recall : 0.713790774345398\n",
            "auc : 0.9322291016578674\n",
            "prc : 0.9054117202758789\n",
            "{'loss': 0.08868059515953064, 'tp': 174711.0, 'fp': 18535.0, 'tn': 457884.0, 'fn': 70054.0, 'accuracy': 0.8771617412567139, 'precision': 0.9040859937667847, 'recall': 0.713790774345398, 'auc': 0.9322291016578674, 'prc': 0.9054117202758789}\n"
          ]
        }
      ]
    },
    {
      "cell_type": "code",
      "source": [
        "model5.save('/content/drive/MyDrive/90prec72recall88acc.keras')"
      ],
      "metadata": {
        "id": "SeLMGxLKcqo3"
      },
      "execution_count": null,
      "outputs": []
    },
    {
      "cell_type": "code",
      "source": [
        "import tensorflow_datasets as tfds\n"
      ],
      "metadata": {
        "id": "vlO2fkx8w9UB"
      },
      "execution_count": null,
      "outputs": []
    },
    {
      "cell_type": "code",
      "source": [
        "X_test = tfds.load(test_dataset, split='test_data[:100%]')"
      ],
      "metadata": {
        "colab": {
          "base_uri": "https://localhost:8080/",
          "height": 287
        },
        "id": "Ov55aRvswyIY",
        "outputId": "58d5ca15-8bcb-4dad-c0d9-09819cc009db"
      },
      "execution_count": null,
      "outputs": [
        {
          "output_type": "error",
          "ename": "TypeError",
          "evalue": "expected string or bytes-like object",
          "traceback": [
            "\u001b[0;31m---------------------------------------------------------------------------\u001b[0m",
            "\u001b[0;31mTypeError\u001b[0m                                 Traceback (most recent call last)",
            "\u001b[0;32m<ipython-input-156-1c9c968bc2bb>\u001b[0m in \u001b[0;36m<cell line: 1>\u001b[0;34m()\u001b[0m\n\u001b[0;32m----> 1\u001b[0;31m \u001b[0mX_test\u001b[0m \u001b[0;34m=\u001b[0m \u001b[0mtfds\u001b[0m\u001b[0;34m.\u001b[0m\u001b[0mload\u001b[0m\u001b[0;34m(\u001b[0m\u001b[0mtest_dataset\u001b[0m\u001b[0;34m,\u001b[0m \u001b[0msplit\u001b[0m\u001b[0;34m=\u001b[0m\u001b[0;34m'test_data[:100%]'\u001b[0m\u001b[0;34m)\u001b[0m\u001b[0;34m\u001b[0m\u001b[0;34m\u001b[0m\u001b[0m\n\u001b[0m",
            "\u001b[0;32m/usr/local/lib/python3.10/dist-packages/tensorflow_datasets/core/logging/__init__.py\u001b[0m in \u001b[0;36m__call__\u001b[0;34m(self, function, instance, args, kwargs)\u001b[0m\n\u001b[1;32m    166\u001b[0m     \u001b[0mmetadata\u001b[0m \u001b[0;34m=\u001b[0m \u001b[0mself\u001b[0m\u001b[0;34m.\u001b[0m\u001b[0m_start_call\u001b[0m\u001b[0;34m(\u001b[0m\u001b[0;34m)\u001b[0m\u001b[0;34m\u001b[0m\u001b[0;34m\u001b[0m\u001b[0m\n\u001b[1;32m    167\u001b[0m     \u001b[0;32mtry\u001b[0m\u001b[0;34m:\u001b[0m\u001b[0;34m\u001b[0m\u001b[0;34m\u001b[0m\u001b[0m\n\u001b[0;32m--> 168\u001b[0;31m       \u001b[0;32mreturn\u001b[0m \u001b[0mfunction\u001b[0m\u001b[0;34m(\u001b[0m\u001b[0;34m*\u001b[0m\u001b[0margs\u001b[0m\u001b[0;34m,\u001b[0m \u001b[0;34m**\u001b[0m\u001b[0mkwargs\u001b[0m\u001b[0;34m)\u001b[0m\u001b[0;34m\u001b[0m\u001b[0;34m\u001b[0m\u001b[0m\n\u001b[0m\u001b[1;32m    169\u001b[0m     \u001b[0;32mexcept\u001b[0m \u001b[0mException\u001b[0m\u001b[0;34m:\u001b[0m\u001b[0;34m\u001b[0m\u001b[0;34m\u001b[0m\u001b[0m\n\u001b[1;32m    170\u001b[0m       \u001b[0mmetadata\u001b[0m\u001b[0;34m.\u001b[0m\u001b[0mmark_error\u001b[0m\u001b[0;34m(\u001b[0m\u001b[0;34m)\u001b[0m\u001b[0;34m\u001b[0m\u001b[0;34m\u001b[0m\u001b[0m\n",
            "\u001b[0;32m/usr/local/lib/python3.10/dist-packages/tensorflow_datasets/core/load.py\u001b[0m in \u001b[0;36mload\u001b[0;34m(name, split, data_dir, batch_size, shuffle_files, download, as_supervised, decoders, read_config, with_info, builder_kwargs, download_and_prepare_kwargs, as_dataset_kwargs, try_gcs)\u001b[0m\n\u001b[1;32m    641\u001b[0m       \u001b[0mSplit\u001b[0m\u001b[0;34m-\u001b[0m\u001b[0mspecific\u001b[0m \u001b[0minformation\u001b[0m \u001b[0;32mis\u001b[0m \u001b[0mavailable\u001b[0m \u001b[0;32min\u001b[0m\u001b[0;31m \u001b[0m\u001b[0;31m`\u001b[0m\u001b[0mds_info\u001b[0m\u001b[0;34m.\u001b[0m\u001b[0msplits\u001b[0m\u001b[0;31m`\u001b[0m\u001b[0;34m.\u001b[0m\u001b[0;34m\u001b[0m\u001b[0;34m\u001b[0m\u001b[0m\n\u001b[1;32m    642\u001b[0m   \"\"\"\n\u001b[0;32m--> 643\u001b[0;31m   dbuilder = _fetch_builder(\n\u001b[0m\u001b[1;32m    644\u001b[0m       \u001b[0mname\u001b[0m\u001b[0;34m,\u001b[0m\u001b[0;34m\u001b[0m\u001b[0;34m\u001b[0m\u001b[0m\n\u001b[1;32m    645\u001b[0m       \u001b[0mdata_dir\u001b[0m\u001b[0;34m,\u001b[0m\u001b[0;34m\u001b[0m\u001b[0;34m\u001b[0m\u001b[0m\n",
            "\u001b[0;32m/usr/local/lib/python3.10/dist-packages/tensorflow_datasets/core/load.py\u001b[0m in \u001b[0;36m_fetch_builder\u001b[0;34m(name, data_dir, builder_kwargs, try_gcs)\u001b[0m\n\u001b[1;32m    496\u001b[0m   \u001b[0;32mif\u001b[0m \u001b[0mbuilder_kwargs\u001b[0m \u001b[0;32mis\u001b[0m \u001b[0;32mNone\u001b[0m\u001b[0;34m:\u001b[0m\u001b[0;34m\u001b[0m\u001b[0;34m\u001b[0m\u001b[0m\n\u001b[1;32m    497\u001b[0m     \u001b[0mbuilder_kwargs\u001b[0m \u001b[0;34m=\u001b[0m \u001b[0;34m{\u001b[0m\u001b[0;34m}\u001b[0m\u001b[0;34m\u001b[0m\u001b[0;34m\u001b[0m\u001b[0m\n\u001b[0;32m--> 498\u001b[0;31m   \u001b[0;32mreturn\u001b[0m \u001b[0mbuilder\u001b[0m\u001b[0;34m(\u001b[0m\u001b[0mname\u001b[0m\u001b[0;34m,\u001b[0m \u001b[0mdata_dir\u001b[0m\u001b[0;34m=\u001b[0m\u001b[0mdata_dir\u001b[0m\u001b[0;34m,\u001b[0m \u001b[0mtry_gcs\u001b[0m\u001b[0;34m=\u001b[0m\u001b[0mtry_gcs\u001b[0m\u001b[0;34m,\u001b[0m \u001b[0;34m**\u001b[0m\u001b[0mbuilder_kwargs\u001b[0m\u001b[0;34m)\u001b[0m\u001b[0;34m\u001b[0m\u001b[0;34m\u001b[0m\u001b[0m\n\u001b[0m\u001b[1;32m    499\u001b[0m \u001b[0;34m\u001b[0m\u001b[0m\n\u001b[1;32m    500\u001b[0m \u001b[0;34m\u001b[0m\u001b[0m\n",
            "\u001b[0;32m/usr/lib/python3.10/contextlib.py\u001b[0m in \u001b[0;36minner\u001b[0;34m(*args, **kwds)\u001b[0m\n\u001b[1;32m     77\u001b[0m         \u001b[0;32mdef\u001b[0m \u001b[0minner\u001b[0m\u001b[0;34m(\u001b[0m\u001b[0;34m*\u001b[0m\u001b[0margs\u001b[0m\u001b[0;34m,\u001b[0m \u001b[0;34m**\u001b[0m\u001b[0mkwds\u001b[0m\u001b[0;34m)\u001b[0m\u001b[0;34m:\u001b[0m\u001b[0;34m\u001b[0m\u001b[0;34m\u001b[0m\u001b[0m\n\u001b[1;32m     78\u001b[0m             \u001b[0;32mwith\u001b[0m \u001b[0mself\u001b[0m\u001b[0;34m.\u001b[0m\u001b[0m_recreate_cm\u001b[0m\u001b[0;34m(\u001b[0m\u001b[0;34m)\u001b[0m\u001b[0;34m:\u001b[0m\u001b[0;34m\u001b[0m\u001b[0;34m\u001b[0m\u001b[0m\n\u001b[0;32m---> 79\u001b[0;31m                 \u001b[0;32mreturn\u001b[0m \u001b[0mfunc\u001b[0m\u001b[0;34m(\u001b[0m\u001b[0;34m*\u001b[0m\u001b[0margs\u001b[0m\u001b[0;34m,\u001b[0m \u001b[0;34m**\u001b[0m\u001b[0mkwds\u001b[0m\u001b[0;34m)\u001b[0m\u001b[0;34m\u001b[0m\u001b[0;34m\u001b[0m\u001b[0m\n\u001b[0m\u001b[1;32m     80\u001b[0m         \u001b[0;32mreturn\u001b[0m \u001b[0minner\u001b[0m\u001b[0;34m\u001b[0m\u001b[0;34m\u001b[0m\u001b[0m\n\u001b[1;32m     81\u001b[0m \u001b[0;34m\u001b[0m\u001b[0m\n",
            "\u001b[0;32m/usr/local/lib/python3.10/dist-packages/tensorflow_datasets/core/logging/__init__.py\u001b[0m in \u001b[0;36m__call__\u001b[0;34m(self, function, instance, args, kwargs)\u001b[0m\n\u001b[1;32m    166\u001b[0m     \u001b[0mmetadata\u001b[0m \u001b[0;34m=\u001b[0m \u001b[0mself\u001b[0m\u001b[0;34m.\u001b[0m\u001b[0m_start_call\u001b[0m\u001b[0;34m(\u001b[0m\u001b[0;34m)\u001b[0m\u001b[0;34m\u001b[0m\u001b[0;34m\u001b[0m\u001b[0m\n\u001b[1;32m    167\u001b[0m     \u001b[0;32mtry\u001b[0m\u001b[0;34m:\u001b[0m\u001b[0;34m\u001b[0m\u001b[0;34m\u001b[0m\u001b[0m\n\u001b[0;32m--> 168\u001b[0;31m       \u001b[0;32mreturn\u001b[0m \u001b[0mfunction\u001b[0m\u001b[0;34m(\u001b[0m\u001b[0;34m*\u001b[0m\u001b[0margs\u001b[0m\u001b[0;34m,\u001b[0m \u001b[0;34m**\u001b[0m\u001b[0mkwargs\u001b[0m\u001b[0;34m)\u001b[0m\u001b[0;34m\u001b[0m\u001b[0;34m\u001b[0m\u001b[0m\n\u001b[0m\u001b[1;32m    169\u001b[0m     \u001b[0;32mexcept\u001b[0m \u001b[0mException\u001b[0m\u001b[0;34m:\u001b[0m\u001b[0;34m\u001b[0m\u001b[0;34m\u001b[0m\u001b[0m\n\u001b[1;32m    170\u001b[0m       \u001b[0mmetadata\u001b[0m\u001b[0;34m.\u001b[0m\u001b[0mmark_error\u001b[0m\u001b[0;34m(\u001b[0m\u001b[0;34m)\u001b[0m\u001b[0;34m\u001b[0m\u001b[0;34m\u001b[0m\u001b[0m\n",
            "\u001b[0;32m/usr/local/lib/python3.10/dist-packages/tensorflow_datasets/core/load.py\u001b[0m in \u001b[0;36mbuilder\u001b[0;34m(name, try_gcs, **builder_kwargs)\u001b[0m\n\u001b[1;32m    172\u001b[0m   \u001b[0;31m#     DatasetName('kaggle:my_ds'), {'version': '1.0.0', 'config': 'conf0'}\u001b[0m\u001b[0;34m\u001b[0m\u001b[0;34m\u001b[0m\u001b[0m\n\u001b[1;32m    173\u001b[0m   \u001b[0;31m# )\u001b[0m\u001b[0;34m\u001b[0m\u001b[0;34m\u001b[0m\u001b[0m\n\u001b[0;32m--> 174\u001b[0;31m   name, builder_kwargs = naming.parse_builder_name_kwargs(\n\u001b[0m\u001b[1;32m    175\u001b[0m       \u001b[0mname\u001b[0m\u001b[0;34m,\u001b[0m \u001b[0;34m**\u001b[0m\u001b[0mbuilder_kwargs\u001b[0m\u001b[0;34m\u001b[0m\u001b[0;34m\u001b[0m\u001b[0m\n\u001b[1;32m    176\u001b[0m   )\n",
            "\u001b[0;32m/usr/local/lib/python3.10/dist-packages/tensorflow_datasets/core/naming.py\u001b[0m in \u001b[0;36mparse_builder_name_kwargs\u001b[0;34m(name, **builder_kwargs)\u001b[0m\n\u001b[1;32m    139\u001b[0m     \u001b[0mbuilder_kwargs\u001b[0m\u001b[0;34m:\u001b[0m \u001b[0mBuilder\u001b[0m \u001b[0mkwargs\u001b[0m \u001b[0;34m(\u001b[0m\u001b[0mversion\u001b[0m\u001b[0;34m,\u001b[0m \u001b[0mconfig\u001b[0m\u001b[0;34m,\u001b[0m \u001b[0mdata_dir\u001b[0m\u001b[0;34m,\u001b[0m\u001b[0;34m...\u001b[0m\u001b[0;34m)\u001b[0m\u001b[0;34m\u001b[0m\u001b[0;34m\u001b[0m\u001b[0m\n\u001b[1;32m    140\u001b[0m   \"\"\"\n\u001b[0;32m--> 141\u001b[0;31m   \u001b[0mname\u001b[0m\u001b[0;34m,\u001b[0m \u001b[0mparsed_builder_kwargs\u001b[0m \u001b[0;34m=\u001b[0m \u001b[0m_dataset_name_and_kwargs_from_name_str\u001b[0m\u001b[0;34m(\u001b[0m\u001b[0mname\u001b[0m\u001b[0;34m)\u001b[0m\u001b[0;34m\u001b[0m\u001b[0;34m\u001b[0m\u001b[0m\n\u001b[0m\u001b[1;32m    142\u001b[0m   \u001b[0mbuilder_kwargs\u001b[0m \u001b[0;34m=\u001b[0m \u001b[0mdict\u001b[0m\u001b[0;34m(\u001b[0m\u001b[0;34m**\u001b[0m\u001b[0mparsed_builder_kwargs\u001b[0m\u001b[0;34m,\u001b[0m \u001b[0;34m**\u001b[0m\u001b[0mbuilder_kwargs\u001b[0m\u001b[0;34m)\u001b[0m\u001b[0;34m\u001b[0m\u001b[0;34m\u001b[0m\u001b[0m\n\u001b[1;32m    143\u001b[0m   \u001b[0;32mreturn\u001b[0m \u001b[0mDatasetName\u001b[0m\u001b[0;34m(\u001b[0m\u001b[0mname\u001b[0m\u001b[0;34m)\u001b[0m\u001b[0;34m,\u001b[0m \u001b[0mbuilder_kwargs\u001b[0m\u001b[0;34m\u001b[0m\u001b[0;34m\u001b[0m\u001b[0m\n",
            "\u001b[0;32m/usr/local/lib/python3.10/dist-packages/tensorflow_datasets/core/naming.py\u001b[0m in \u001b[0;36m_dataset_name_and_kwargs_from_name_str\u001b[0;34m(name_str)\u001b[0m\n\u001b[1;32m    169\u001b[0m       \"\"\")\n\u001b[1;32m    170\u001b[0m \u001b[0;34m\u001b[0m\u001b[0m\n\u001b[0;32m--> 171\u001b[0;31m   \u001b[0mres\u001b[0m \u001b[0;34m=\u001b[0m \u001b[0m_NAME_REG\u001b[0m\u001b[0;34m.\u001b[0m\u001b[0mmatch\u001b[0m\u001b[0;34m(\u001b[0m\u001b[0mname_str\u001b[0m\u001b[0;34m)\u001b[0m\u001b[0;34m\u001b[0m\u001b[0;34m\u001b[0m\u001b[0m\n\u001b[0m\u001b[1;32m    172\u001b[0m   \u001b[0;32mif\u001b[0m \u001b[0;32mnot\u001b[0m \u001b[0mres\u001b[0m\u001b[0;34m:\u001b[0m\u001b[0;34m\u001b[0m\u001b[0;34m\u001b[0m\u001b[0m\n\u001b[1;32m    173\u001b[0m     \u001b[0;32mraise\u001b[0m \u001b[0mValueError\u001b[0m\u001b[0;34m(\u001b[0m\u001b[0merr_msg\u001b[0m\u001b[0;34m)\u001b[0m\u001b[0;34m\u001b[0m\u001b[0;34m\u001b[0m\u001b[0m\n",
            "\u001b[0;31mTypeError\u001b[0m: expected string or bytes-like object"
          ]
        }
      ]
    },
    {
      "cell_type": "code",
      "source": [
        "import numpy as np\n",
        "from sklearn.metrics import roc_curve, precision_recall_curve, confusion_matrix, f1_score\n",
        "import matplotlib.pyplot as plt\n",
        "\n",
        "# Assuming test_dataset contains both features and labels together\n",
        "\n",
        "# Convert the dataset to a NumPy array\n",
        "test_data = np.array(list(test_dataset.take(-1).as_numpy_iterator()))\n",
        "\n",
        "# Extract features and labels\n",
        "X_test = test_data[:, 0]  # Assuming features are in the first column\n",
        "y_test = test_data[:, 1]  # Assuming labels are in the second column\n",
        "\n",
        "# Predict probabilities for the positive class\n",
        "y_probs = model5.predict(X_test)\n",
        "\n",
        "# Assuming the model predicts probabilities rather than hard labels\n",
        "# Convert probabilities to binary predictions based on a threshold (e.g., 0.5)\n",
        "y_pred = (y_probs > 0.5).astype(int)\n",
        "\n",
        "# Calculate ROC curve\n",
        "fpr, tpr, _ = roc_curve(y_test, y_probs)\n",
        "\n",
        "# Calculate precision-recall curve\n",
        "precision, recall, _ = precision_recall_curve(y_test, y_probs)\n",
        "\n",
        "# Calculate F1 score\n",
        "f1 = f1_score(y_test, y_pred)\n",
        "\n",
        "# Calculate confusion matrix\n",
        "conf_mat = confusion_matrix(y_test, y_pred)\n",
        "\n",
        "# Plot ROC curve\n",
        "plt.figure(figsize=(8, 6))\n",
        "plt.plot(fpr, tpr, label='ROC Curve')\n",
        "plt.xlabel('False Positive Rate')\n",
        "plt.ylabel('True Positive Rate')\n",
        "plt.title('Receiver Operating Characteristic (ROC) Curve')\n",
        "plt.legend()\n",
        "plt.show()\n",
        "\n",
        "# Plot precision-recall curve\n",
        "plt.figure(figsize=(8, 6))\n",
        "plt.plot(recall, precision, label='PRC Curve')\n",
        "plt.xlabel('Recall')\n",
        "plt.ylabel('Precision')\n",
        "plt.title('Precision-Recall Curve')\n",
        "plt.legend()\n",
        "plt.show()\n",
        "\n",
        "# Display confusion matrix\n",
        "print(\"Confusion Matrix:\")\n",
        "print(conf_mat)\n",
        "\n",
        "# Display F1 score\n",
        "print(\"F1 Score:\", f1)\n",
        "\n"
      ],
      "metadata": {
        "colab": {
          "base_uri": "https://localhost:8080/",
          "height": 211
        },
        "id": "_o2oavnPv5Ir",
        "outputId": "c095acf0-b8ec-4548-8bcc-83b845ddf6a1"
      },
      "execution_count": null,
      "outputs": [
        {
          "output_type": "error",
          "ename": "ValueError",
          "evalue": "setting an array element with a sequence. The requested array has an inhomogeneous shape after 2 dimensions. The detected shape was (5635, 2) + inhomogeneous part.",
          "traceback": [
            "\u001b[0;31m---------------------------------------------------------------------------\u001b[0m",
            "\u001b[0;31mValueError\u001b[0m                                Traceback (most recent call last)",
            "\u001b[0;32m<ipython-input-152-51cb83443fff>\u001b[0m in \u001b[0;36m<cell line: 8>\u001b[0;34m()\u001b[0m\n\u001b[1;32m      6\u001b[0m \u001b[0;34m\u001b[0m\u001b[0m\n\u001b[1;32m      7\u001b[0m \u001b[0;31m# Convert the dataset to a NumPy array\u001b[0m\u001b[0;34m\u001b[0m\u001b[0;34m\u001b[0m\u001b[0m\n\u001b[0;32m----> 8\u001b[0;31m \u001b[0mtest_data\u001b[0m \u001b[0;34m=\u001b[0m \u001b[0mnp\u001b[0m\u001b[0;34m.\u001b[0m\u001b[0marray\u001b[0m\u001b[0;34m(\u001b[0m\u001b[0mlist\u001b[0m\u001b[0;34m(\u001b[0m\u001b[0mtest_dataset\u001b[0m\u001b[0;34m.\u001b[0m\u001b[0mtake\u001b[0m\u001b[0;34m(\u001b[0m\u001b[0;34m-\u001b[0m\u001b[0;36m1\u001b[0m\u001b[0;34m)\u001b[0m\u001b[0;34m.\u001b[0m\u001b[0mas_numpy_iterator\u001b[0m\u001b[0;34m(\u001b[0m\u001b[0;34m)\u001b[0m\u001b[0;34m)\u001b[0m\u001b[0;34m)\u001b[0m\u001b[0;34m\u001b[0m\u001b[0;34m\u001b[0m\u001b[0m\n\u001b[0m\u001b[1;32m      9\u001b[0m \u001b[0;34m\u001b[0m\u001b[0m\n\u001b[1;32m     10\u001b[0m \u001b[0;31m# Extract features and labels\u001b[0m\u001b[0;34m\u001b[0m\u001b[0;34m\u001b[0m\u001b[0m\n",
            "\u001b[0;31mValueError\u001b[0m: setting an array element with a sequence. The requested array has an inhomogeneous shape after 2 dimensions. The detected shape was (5635, 2) + inhomogeneous part."
          ]
        }
      ]
    }
  ],
  "metadata": {
    "accelerator": "GPU",
    "colab": {
      "gpuType": "T4",
      "machine_shape": "hm",
      "provenance": []
    },
    "kernelspec": {
      "display_name": "Python 3",
      "name": "python3"
    },
    "language_info": {
      "name": "python"
    }
  },
  "nbformat": 4,
  "nbformat_minor": 0
}
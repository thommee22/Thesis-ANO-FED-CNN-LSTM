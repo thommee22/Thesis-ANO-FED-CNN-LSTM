{
  "nbformat": 4,
  "nbformat_minor": 0,
  "metadata": {
    "colab": {
      "provenance": [],
      "gpuType": "T4"
    },
    "kernelspec": {
      "name": "python3",
      "display_name": "Python 3"
    },
    "language_info": {
      "name": "python"
    },
    "accelerator": "GPU"
  },
  "cells": [
    {
      "cell_type": "code",
      "execution_count": null,
      "metadata": {
        "colab": {
          "base_uri": "https://localhost:8080/"
        },
        "id": "19o65K4DiQ_k",
        "outputId": "2433bd43-e5b2-4074-a122-5ab7a88fa471"
      },
      "outputs": [
        {
          "output_type": "stream",
          "name": "stdout",
          "text": [
            "Mounted at /content/drive\n"
          ]
        }
      ],
      "source": [
        "from google.colab import drive\n",
        "\n",
        "# Mount Google Drive\n",
        "drive.mount('/content/drive')"
      ]
    },
    {
      "cell_type": "code",
      "execution_count": null,
      "metadata": {
        "id": "vYrq4I03ydy8"
      },
      "outputs": [],
      "source": [
        "import matplotlib.pyplot as plt\n",
        "import pandas as pd\n",
        "import numpy as np\n",
        "from sklearn.preprocessing import StandardScaler\n",
        "from tensorflow.keras.layers import LSTM, Dense, Dropout, BatchNormalization, GRU\n",
        "from tensorflow.keras.models import Sequential\n",
        "from tensorflow.keras.regularizers import l2\n",
        "from tensorflow.keras.callbacks import TensorBoard, ModelCheckpoint, EarlyStopping, LearningRateScheduler\n",
        "from tensorflow.keras.metrics import Recall\n",
        "from tensorflow.keras.optimizers import Adam\n",
        "from sklearn.metrics import precision_score, recall_score\n",
        "from tensorflow.keras.initializers import HeUniform\n",
        "from tensorflow.keras import regularizers\n",
        "import os\n",
        "import sklearn.metrics\n",
        "import tensorflow as tf\n",
        "from sklearn.metrics import confusion_matrix\n",
        "import seaborn as sns\n",
        "import keras as ks\n"
      ]
    },
    {
      "cell_type": "code",
      "source": [
        "dataset = pd.read_csv('/content/drive/MyDrive/merged_data.csv', index_col='ts', parse_dates=True)"
      ],
      "metadata": {
        "id": "Ys19kGU9E-Wz"
      },
      "execution_count": null,
      "outputs": []
    },
    {
      "cell_type": "code",
      "source": [
        "# Class weights calculation\n",
        "neg, pos = np.bincount(dataset['anomaly_label'])\n",
        "total = neg + pos\n",
        "weight_for_0 = (1 / neg) * (total / 2.0)\n",
        "weight_for_1 = (1 / pos) * (total / 2.0)\n",
        "adjusted_weight_for_0 = weight_for_0 * 1.0  # Example: decrease if too many false positives\n",
        "adjusted_weight_for_1 = weight_for_1 * 1.0  # Example: increase if too many false negatives\n",
        "\n",
        "class_weight = {0: adjusted_weight_for_0, 1: adjusted_weight_for_1}\n",
        "time_steps = 50  # Adjust based on your sequence length\n",
        "batch_size = 128 # Adjust based on your batch size preference\n",
        "output_size = 1"
      ],
      "metadata": {
        "id": "eOm85gw2FaNH"
      },
      "execution_count": null,
      "outputs": []
    },
    {
      "cell_type": "code",
      "execution_count": null,
      "metadata": {
        "id": "dfeyg4xJyZro"
      },
      "outputs": [],
      "source": [
        "# Split data function\n",
        "def split_data_chronologically(data, test_ratio=0.2, val_ratio=0.2, target_column='anomaly_label'):\n",
        "    total_samples = len(data)\n",
        "    test_split_idx = int(total_samples * (1 - test_ratio))\n",
        "    val_split_idx = int(test_split_idx * (1 - val_ratio / (1 - test_ratio)))\n",
        "\n",
        "    train_data = data.iloc[:val_split_idx]\n",
        "    val_data = data.iloc[val_split_idx:test_split_idx]\n",
        "    test_data = data.iloc[test_split_idx:]\n",
        "\n",
        "    return train_data, val_data, test_data\n",
        "\n",
        "# Scale data function\n",
        "def scale_data(train_data, val_data, test_data, target_column='anomaly_label'):\n",
        "    scaler = StandardScaler()\n",
        "\n",
        "    # Fit on training data\n",
        "    train_features = train_data.drop(columns=[target_column])\n",
        "    scaler.fit(train_features)\n",
        "\n",
        "    # Transform features\n",
        "    train_scaled = scaler.transform(train_features)\n",
        "    val_scaled = scaler.transform(val_data.drop(columns=[target_column]))\n",
        "    test_scaled = scaler.transform(test_data.drop(columns=[target_column]))\n",
        "\n",
        "    # Extract labels\n",
        "    train_labels = train_data[target_column].values\n",
        "    val_labels = val_data[target_column].values\n",
        "    test_labels = test_data[target_column].values\n",
        "\n",
        "    return train_scaled, train_labels, val_scaled, val_labels, test_scaled, test_labels\n",
        "\n",
        "# Create TensorFlow dataset function\n",
        "def create_tf_dataset(features, labels, time_steps=100, batch_size=32, shuffle=False):\n",
        "    dataset = tf.keras.preprocessing.timeseries_dataset_from_array(\n",
        "        data=features,\n",
        "        targets=np.roll(labels, -time_steps),\n",
        "        sequence_length=time_steps,\n",
        "        sequence_stride=1,\n",
        "        shuffle=shuffle,\n",
        "        batch_size=batch_size,\n",
        "    )\n",
        "    return dataset\n",
        "\n",
        "# Define metrics\n",
        "METRICS = [\n",
        "      ks.metrics.MeanSquaredError(name='MSE'),\n",
        "      ks.metrics.TruePositives(name='tp'),\n",
        "      ks.metrics.FalsePositives(name='fp'),\n",
        "      ks.metrics.TrueNegatives(name='tn'),\n",
        "      ks.metrics.FalseNegatives(name='fn'),\n",
        "      ks.metrics.BinaryAccuracy(name='accuracy'),\n",
        "      ks.metrics.Precision(name='precision'),\n",
        "      ks.metrics.Recall(name='recall'),\n",
        "      ks.metrics.AUC(name='auc'),\n",
        "      ks.metrics.AUC(name='prc', curve='PR'), # precision-recall curve\n",
        "]"
      ]
    },
    {
      "cell_type": "code",
      "execution_count": null,
      "metadata": {
        "id": "3OhIEqx9hVb8"
      },
      "outputs": [],
      "source": [
        "train_data, val_data, test_data = split_data_chronologically(dataset)\n",
        "train_scaled, train_labels, val_scaled, val_labels, test_scaled, test_labels = scale_data(train_data, val_data, test_data)\n",
        "\n",
        "    # Dataset Creation\n",
        "train_dataset = create_tf_dataset(train_scaled, train_labels, time_steps=time_steps, batch_size=batch_size, shuffle=False)\n",
        "val_dataset = create_tf_dataset(val_scaled, val_labels, time_steps=time_steps, batch_size=batch_size, shuffle=False)\n",
        "test_dataset = create_tf_dataset(test_scaled, test_labels, time_steps=time_steps, batch_size=batch_size, shuffle=False)\n",
        "input_shape = (time_steps, train_scaled.shape[-1])"
      ]
    },
    {
      "cell_type": "code",
      "execution_count": null,
      "metadata": {
        "colab": {
          "base_uri": "https://localhost:8080/"
        },
        "id": "e43Ie_Kf7Ify",
        "outputId": "a5805af1-c301-4c4a-c8d0-b80cf0ea7035"
      },
      "outputs": [
        {
          "output_type": "stream",
          "name": "stdout",
          "text": [
            "Epoch 1/50\n",
            "16905/16905 [==============================] - 1195s 70ms/step - loss: 1.7449 - accuracy: 0.6354 - recall_2: 0.6756 - precision_2: 0.4444 - val_loss: 0.5934 - val_accuracy: 0.6891 - val_recall_2: 0.6360 - val_precision_2: 0.4270\n",
            "Epoch 2/50\n",
            "16905/16905 [==============================] - 1187s 70ms/step - loss: 0.6172 - accuracy: 0.6561 - recall_2: 0.7112 - precision_2: 0.4664 - val_loss: 0.6259 - val_accuracy: 0.6577 - val_recall_2: 0.7341 - val_precision_2: 0.4059\n",
            "Epoch 3/50\n",
            "16905/16905 [==============================] - 1185s 70ms/step - loss: 0.6118 - accuracy: 0.6622 - recall_2: 0.7122 - precision_2: 0.4725 - val_loss: 0.5953 - val_accuracy: 0.6851 - val_recall_2: 0.6770 - val_precision_2: 0.4265\n",
            "Epoch 4/50\n",
            "16905/16905 [==============================] - 1185s 70ms/step - loss: 0.6079 - accuracy: 0.6656 - recall_2: 0.7112 - precision_2: 0.4759 - val_loss: 0.6172 - val_accuracy: 0.6432 - val_recall_2: 0.7562 - val_precision_2: 0.3959\n",
            "Epoch 5/50\n",
            "16905/16905 [==============================] - 1183s 70ms/step - loss: 0.6133 - accuracy: 0.6669 - recall_2: 0.7076 - precision_2: 0.4772 - val_loss: 0.6405 - val_accuracy: 0.6821 - val_recall_2: 0.6291 - val_precision_2: 0.4185\n",
            "Epoch 6/50\n",
            "16905/16905 [==============================] - 1182s 70ms/step - loss: 0.6197 - accuracy: 0.6657 - recall_2: 0.7088 - precision_2: 0.4759 - val_loss: 0.6934 - val_accuracy: 0.5826 - val_recall_2: 0.8634 - val_precision_2: 0.3656\n",
            "Epoch 7/50\n",
            "16905/16905 [==============================] - 1183s 70ms/step - loss: 0.6218 - accuracy: 0.6639 - recall_2: 0.7114 - precision_2: 0.4742 - val_loss: 0.8648 - val_accuracy: 0.5111 - val_recall_2: 0.8735 - val_precision_2: 0.3282\n",
            "Epoch 8/50\n",
            "16905/16905 [==============================] - 1186s 70ms/step - loss: 0.6358 - accuracy: 0.6647 - recall_2: 0.7083 - precision_2: 0.4749 - val_loss: 0.5745 - val_accuracy: 0.7178 - val_recall_2: 0.5899 - val_precision_2: 0.4590\n",
            "Epoch 9/50\n",
            "16905/16905 [==============================] - 1184s 70ms/step - loss: 0.6331 - accuracy: 0.6645 - recall_2: 0.7106 - precision_2: 0.4748 - val_loss: 0.6278 - val_accuracy: 0.6338 - val_recall_2: 0.7897 - val_precision_2: 0.3922\n",
            "Epoch 10/50\n",
            "16905/16905 [==============================] - 1185s 70ms/step - loss: 0.6185 - accuracy: 0.6658 - recall_2: 0.7119 - precision_2: 0.4762 - val_loss: 0.5920 - val_accuracy: 0.6972 - val_recall_2: 0.6398 - val_precision_2: 0.4366\n",
            "Epoch 11/50\n",
            "16905/16905 [==============================] - 1183s 70ms/step - loss: 0.6243 - accuracy: 0.6679 - recall_2: 0.7106 - precision_2: 0.4783 - val_loss: 0.6451 - val_accuracy: 0.6453 - val_recall_2: 0.7685 - val_precision_2: 0.3990\n",
            "Epoch 12/50\n",
            "16905/16905 [==============================] - 1183s 70ms/step - loss: 0.6387 - accuracy: 0.6642 - recall_2: 0.7077 - precision_2: 0.4744 - val_loss: 0.6918 - val_accuracy: 0.6049 - val_recall_2: 0.8117 - val_precision_2: 0.3739\n",
            "Epoch 13/50\n",
            "16905/16905 [==============================] - 1183s 70ms/step - loss: 0.6192 - accuracy: 0.6651 - recall_2: 0.7109 - precision_2: 0.4754 - val_loss: 0.5831 - val_accuracy: 0.6795 - val_recall_2: 0.6870 - val_precision_2: 0.4217\n",
            "Epoch 14/50\n",
            "16905/16905 [==============================] - 1182s 70ms/step - loss: 0.6341 - accuracy: 0.6660 - recall_2: 0.7111 - precision_2: 0.4763 - val_loss: 0.6249 - val_accuracy: 0.6951 - val_recall_2: 0.6415 - val_precision_2: 0.4344\n",
            "Epoch 15/50\n",
            "16905/16905 [==============================] - 1192s 70ms/step - loss: 0.6490 - accuracy: 0.6665 - recall_2: 0.7110 - precision_2: 0.4768 - val_loss: 0.5876 - val_accuracy: 0.6742 - val_recall_2: 0.7028 - val_precision_2: 0.4180\n",
            "Epoch 16/50\n",
            "16905/16905 [==============================] - 1187s 70ms/step - loss: 0.6177 - accuracy: 0.6656 - recall_2: 0.7131 - precision_2: 0.4760 - val_loss: 0.6116 - val_accuracy: 0.7011 - val_recall_2: 0.6175 - val_precision_2: 0.4393\n",
            "Epoch 17/50\n",
            "16905/16905 [==============================] - 1194s 71ms/step - loss: 0.6242 - accuracy: 0.6661 - recall_2: 0.7166 - precision_2: 0.4765 - val_loss: 0.6537 - val_accuracy: 0.6434 - val_recall_2: 0.7674 - val_precision_2: 0.3973\n",
            "Epoch 18/50\n",
            "16905/16905 [==============================] - 1183s 70ms/step - loss: 0.6077 - accuracy: 0.6686 - recall_2: 0.7158 - precision_2: 0.4791 - val_loss: 0.6867 - val_accuracy: 0.6494 - val_recall_2: 0.7490 - val_precision_2: 0.4003\n",
            "Epoch 19/50\n",
            "16905/16905 [==============================] - 1190s 70ms/step - loss: 0.6438 - accuracy: 0.6654 - recall_2: 0.7167 - precision_2: 0.4759 - val_loss: 0.5966 - val_accuracy: 0.6823 - val_recall_2: 0.6659 - val_precision_2: 0.4225\n",
            "Epoch 20/50\n",
            "16905/16905 [==============================] - 1185s 70ms/step - loss: 0.6065 - accuracy: 0.6689 - recall_2: 0.7150 - precision_2: 0.4794 - val_loss: 0.5514 - val_accuracy: 0.7156 - val_recall_2: 0.5764 - val_precision_2: 0.4550\n",
            "Epoch 21/50\n",
            "16905/16905 [==============================] - 1187s 70ms/step - loss: 0.6292 - accuracy: 0.6670 - recall_2: 0.7133 - precision_2: 0.4774 - val_loss: 0.5839 - val_accuracy: 0.6898 - val_recall_2: 0.6352 - val_precision_2: 0.4276\n",
            "Epoch 22/50\n",
            "16905/16905 [==============================] - 1189s 70ms/step - loss: 0.6111 - accuracy: 0.6699 - recall_2: 0.7145 - precision_2: 0.4804 - val_loss: 0.5786 - val_accuracy: 0.6925 - val_recall_2: 0.6535 - val_precision_2: 0.4324\n",
            "Epoch 23/50\n",
            "16905/16905 [==============================] - 1187s 70ms/step - loss: 0.6119 - accuracy: 0.6710 - recall_2: 0.7169 - precision_2: 0.4817 - val_loss: 0.5607 - val_accuracy: 0.7044 - val_recall_2: 0.6479 - val_precision_2: 0.4457\n",
            "Epoch 24/50\n",
            "16905/16905 [==============================] - 1184s 70ms/step - loss: 0.6134 - accuracy: 0.6717 - recall_2: 0.7152 - precision_2: 0.4823 - val_loss: 0.5607 - val_accuracy: 0.7058 - val_recall_2: 0.6350 - val_precision_2: 0.4465\n",
            "Epoch 25/50\n",
            "16905/16905 [==============================] - 1186s 70ms/step - loss: 0.6082 - accuracy: 0.6708 - recall_2: 0.7168 - precision_2: 0.4814 - val_loss: 0.5658 - val_accuracy: 0.6992 - val_recall_2: 0.6578 - val_precision_2: 0.4404\n",
            "Epoch 26/50\n",
            "16905/16905 [==============================] - 1188s 70ms/step - loss: 0.6235 - accuracy: 0.6717 - recall_2: 0.7161 - precision_2: 0.4824 - val_loss: 0.5866 - val_accuracy: 0.7169 - val_recall_2: 0.5495 - val_precision_2: 0.4550\n",
            "Epoch 27/50\n",
            "16905/16905 [==============================] - 1186s 70ms/step - loss: 0.6186 - accuracy: 0.6713 - recall_2: 0.7147 - precision_2: 0.4818 - val_loss: 0.6842 - val_accuracy: 0.6473 - val_recall_2: 0.7318 - val_precision_2: 0.3966\n",
            "Epoch 28/50\n",
            "16905/16905 [==============================] - 1188s 70ms/step - loss: 0.6361 - accuracy: 0.6710 - recall_2: 0.7132 - precision_2: 0.4815 - val_loss: 0.5803 - val_accuracy: 0.6887 - val_recall_2: 0.6878 - val_precision_2: 0.4313\n",
            "Epoch 29/50\n",
            "16905/16905 [==============================] - 1190s 70ms/step - loss: 0.6265 - accuracy: 0.6705 - recall_2: 0.7164 - precision_2: 0.4811 - val_loss: 0.6171 - val_accuracy: 0.6752 - val_recall_2: 0.7075 - val_precision_2: 0.4193\n",
            "Epoch 30/50\n",
            "16905/16905 [==============================] - 1186s 70ms/step - loss: 0.6397 - accuracy: 0.6690 - recall_2: 0.7166 - precision_2: 0.4796 - val_loss: 0.5859 - val_accuracy: 0.6914 - val_recall_2: 0.6813 - val_precision_2: 0.4336\n",
            "Epoch 31/50\n",
            "16905/16905 [==============================] - 1189s 70ms/step - loss: 0.6189 - accuracy: 0.6729 - recall_2: 0.7153 - precision_2: 0.4836 - val_loss: 0.5901 - val_accuracy: 0.6896 - val_recall_2: 0.6496 - val_precision_2: 0.4288\n",
            "Epoch 32/50\n",
            "16905/16905 [==============================] - 1184s 70ms/step - loss: 0.6078 - accuracy: 0.6721 - recall_2: 0.7161 - precision_2: 0.4827 - val_loss: 0.5850 - val_accuracy: 0.6848 - val_recall_2: 0.7029 - val_precision_2: 0.4285\n",
            "Epoch 33/50\n",
            "16905/16905 [==============================] - 1218s 72ms/step - loss: 0.6175 - accuracy: 0.6707 - recall_2: 0.7183 - precision_2: 0.4813 - val_loss: 0.5622 - val_accuracy: 0.7069 - val_recall_2: 0.6423 - val_precision_2: 0.4483\n",
            "Epoch 34/50\n",
            "16905/16905 [==============================] - 1219s 72ms/step - loss: 0.6019 - accuracy: 0.6731 - recall_2: 0.7175 - precision_2: 0.4839 - val_loss: 0.5966 - val_accuracy: 0.6978 - val_recall_2: 0.6746 - val_precision_2: 0.4401\n",
            "Epoch 35/50\n",
            "16905/16905 [==============================] - 1196s 71ms/step - loss: 0.6045 - accuracy: 0.6735 - recall_2: 0.7169 - precision_2: 0.4842 - val_loss: 0.5689 - val_accuracy: 0.7054 - val_recall_2: 0.6490 - val_precision_2: 0.4470\n",
            "Epoch 36/50\n",
            "16905/16905 [==============================] - 1186s 70ms/step - loss: 0.6197 - accuracy: 0.6723 - recall_2: 0.7176 - precision_2: 0.4830 - val_loss: 0.5815 - val_accuracy: 0.7157 - val_recall_2: 0.5734 - val_precision_2: 0.4549\n",
            "Epoch 37/50\n",
            "16905/16905 [==============================] - 1185s 70ms/step - loss: 0.6023 - accuracy: 0.6738 - recall_2: 0.7178 - precision_2: 0.4846 - val_loss: 0.5570 - val_accuracy: 0.7070 - val_recall_2: 0.6236 - val_precision_2: 0.4472\n",
            "Epoch 38/50\n",
            "16905/16905 [==============================] - 1194s 71ms/step - loss: 0.6236 - accuracy: 0.6704 - recall_2: 0.7186 - precision_2: 0.4811 - val_loss: 0.5328 - val_accuracy: 0.7430 - val_recall_2: 0.4659 - val_precision_2: 0.4965\n",
            "Epoch 39/50\n",
            "16905/16905 [==============================] - 1225s 72ms/step - loss: 0.6102 - accuracy: 0.6732 - recall_2: 0.7165 - precision_2: 0.4839 - val_loss: 0.6047 - val_accuracy: 0.6914 - val_recall_2: 0.6753 - val_precision_2: 0.4331\n",
            "Epoch 40/50\n",
            "16905/16905 [==============================] - 1200s 71ms/step - loss: 0.6121 - accuracy: 0.6730 - recall_2: 0.7180 - precision_2: 0.4837 - val_loss: 0.5982 - val_accuracy: 0.6662 - val_recall_2: 0.7450 - val_precision_2: 0.4145\n",
            "Epoch 41/50\n",
            "16905/16905 [==============================] - 1197s 71ms/step - loss: 0.6089 - accuracy: 0.6737 - recall_2: 0.7182 - precision_2: 0.4845 - val_loss: 0.5914 - val_accuracy: 0.6843 - val_recall_2: 0.6629 - val_precision_2: 0.4243\n",
            "Epoch 42/50\n",
            "16905/16905 [==============================] - 1193s 71ms/step - loss: 0.6172 - accuracy: 0.6707 - recall_2: 0.7067 - precision_2: 0.4810 - val_loss: 0.6006 - val_accuracy: 0.6928 - val_recall_2: 0.6283 - val_precision_2: 0.4304\n",
            "Epoch 43/50\n",
            "16905/16905 [==============================] - 1188s 70ms/step - loss: 0.6085 - accuracy: 0.6738 - recall_2: 0.7047 - precision_2: 0.4843 - val_loss: 0.5952 - val_accuracy: 0.6929 - val_recall_2: 0.6711 - val_precision_2: 0.4344\n",
            "Epoch 44/50\n",
            "16905/16905 [==============================] - 1213s 72ms/step - loss: 0.6414 - accuracy: 0.6643 - recall_2: 0.6967 - precision_2: 0.4741 - val_loss: 0.6525 - val_accuracy: 0.6496 - val_recall_2: 0.7355 - val_precision_2: 0.3990\n",
            "Epoch 45/50\n",
            "16905/16905 [==============================] - 1205s 71ms/step - loss: 0.7203 - accuracy: 0.6602 - recall_2: 0.6952 - precision_2: 0.4698 - val_loss: 0.7111 - val_accuracy: 0.6843 - val_recall_2: 0.5862 - val_precision_2: 0.4161\n",
            "Epoch 46/50\n",
            "16905/16905 [==============================] - 1191s 70ms/step - loss: 0.6373 - accuracy: 0.6712 - recall_2: 0.7063 - precision_2: 0.4816 - val_loss: 0.6102 - val_accuracy: 0.6747 - val_recall_2: 0.7212 - val_precision_2: 0.4202\n",
            "Epoch 47/50\n",
            "16905/16905 [==============================] - 1192s 70ms/step - loss: 0.6180 - accuracy: 0.6750 - recall_2: 0.7066 - precision_2: 0.4856 - val_loss: 0.8072 - val_accuracy: 0.6315 - val_recall_2: 0.6989 - val_precision_2: 0.3796\n",
            "Epoch 48/50\n",
            "16905/16905 [==============================] - 1188s 70ms/step - loss: 0.6543 - accuracy: 0.6708 - recall_2: 0.7073 - precision_2: 0.4812 - val_loss: 0.6085 - val_accuracy: 0.6870 - val_recall_2: 0.6782 - val_precision_2: 0.4287\n",
            "Epoch 49/50\n",
            "16905/16905 [==============================] - 1186s 70ms/step - loss: 0.7010 - accuracy: 0.6598 - recall_2: 0.6953 - precision_2: 0.4694 - val_loss: 0.6531 - val_accuracy: 0.6550 - val_recall_2: 0.7434 - val_precision_2: 0.4045\n",
            "Epoch 50/50\n",
            "16905/16905 [==============================] - 1187s 70ms/step - loss: 0.6356 - accuracy: 0.6718 - recall_2: 0.7015 - precision_2: 0.4821 - val_loss: 0.5839 - val_accuracy: 0.7028 - val_recall_2: 0.6469 - val_precision_2: 0.4438\n",
            "5635/5635 [==============================] - 124s 22ms/step - loss: 0.7249 - accuracy: 0.6122 - recall_2: 0.6364 - precision_2: 0.4497\n",
            "Test Loss: 0.7248522043228149\n",
            "Test Accuracy: 0.6122159957885742\n",
            "Test recall: 0.636433482170105\n",
            "Test precision: 0.44965654611587524\n",
            "5635/5635 [==============================] - 116s 20ms/step\n"
          ]
        }
      ],
      "source": [
        "# Define the LSTM model with adjustments\n",
        "model = Sequential([\n",
        "    GRU(500, return_sequences=True, input_shape=input_shape, kernel_regularizer=regularizers.l2(0.01)),\n",
        "    BatchNormalization(),\n",
        "    Dropout(0.5),\n",
        "\n",
        "    GRU(400, return_sequences=True, kernel_regularizer=regularizers.l2(0.01)),\n",
        "    BatchNormalization(),\n",
        "    Dropout(0.5),\n",
        "\n",
        "    GRU(300, return_sequences=True, kernel_regularizer=regularizers.l2(0.01)),\n",
        "    BatchNormalization(),\n",
        "    Dropout(0.5),\n",
        "\n",
        "    GRU(200, return_sequences=True, kernel_regularizer=regularizers.l2(0.01)),\n",
        "    BatchNormalization(),\n",
        "    Dropout(0.5),\n",
        "\n",
        "    GRU(100, kernel_regularizer=regularizers.l2(0.01)),\n",
        "    BatchNormalization(),\n",
        "    Dropout(0.5),\n",
        "\n",
        "    Dense(1, activation='sigmoid', kernel_regularizer=regularizers.l2(0.01))\n",
        "])\n",
        "\n",
        "# Compile the model with a lower learning rate\n",
        "model.compile(optimizer=tf.keras.optimizers.Adam(learning_rate=0.0001),\n",
        "              loss='binary_crossentropy',\n",
        "              metrics=['accuracy', tf.keras.metrics.Recall(), tf.keras.metrics.Precision()])\n",
        "\n",
        "# Define learning rate scheduler\n",
        "def lr_scheduler(epoch, lr):\n",
        "    if epoch < 5:\n",
        "        return lr\n",
        "    else:\n",
        "        return lr * tf.math.exp(-0.1)\n",
        "\n",
        "lr_callback = LearningRateScheduler(lr_scheduler)\n",
        "\n",
        "# Define early stopping criteria\n",
        "early_stopping = EarlyStopping(monitor='val_loss', patience=3, restore_best_weights=True)\n",
        "\n",
        "# Train the model with early stopping and learning rate scheduler\n",
        "history = model.fit(train_dataset, epochs=50,batch_size=128,\n",
        "                    validation_data=val_dataset, class_weight = class_weight)\n",
        "\n",
        "# Evaluate the model\n",
        "loss, accuracy,recall, precision = model.evaluate(test_dataset)\n",
        "print(\"Test Loss:\", loss)\n",
        "print(\"Test Accuracy:\", accuracy)\n",
        "print(\"Test recall:\", recall)\n",
        "print(\"Test precision:\", precision)\n",
        "\n",
        "# Make predictions\n",
        "predictions = model.predict(test_dataset)\n",
        "\n"
      ]
    },
    {
      "cell_type": "code",
      "source": [
        "from tensorflow.keras.models import load_model\n",
        "import pickle\n",
        "\n",
        "# Assuming you have trained your model and stored the training history in a variable called 'history'\n",
        "\n",
        "# Save the trained model\n",
        "model.save(\"your_model.keras\")\n",
        "\n",
        "# Save the training history\n",
        "with open('history.pkl', 'wb') as file:\n",
        "    pickle.dump(history.history, file)"
      ],
      "metadata": {
        "id": "DJWO_FUVewga"
      },
      "execution_count": null,
      "outputs": []
    },
    {
      "cell_type": "code",
      "source": [
        "from tensorflow.keras.models import load_model\n",
        "import pickle\n",
        "\n",
        "\n",
        "with open('history.pkl', 'rb') as file:\n",
        "    loaded_history = pickle.load(file)"
      ],
      "metadata": {
        "id": "NacRmbrNa_en",
        "outputId": "7b2dde37-d3fc-4616-c086-09ae9dfd79b0",
        "colab": {
          "base_uri": "https://localhost:8080/",
          "height": 193
        }
      },
      "execution_count": null,
      "outputs": [
        {
          "output_type": "error",
          "ename": "FileNotFoundError",
          "evalue": "[Errno 2] No such file or directory: 'history.pkl'",
          "traceback": [
            "\u001b[0;31m---------------------------------------------------------------------------\u001b[0m",
            "\u001b[0;31mFileNotFoundError\u001b[0m                         Traceback (most recent call last)",
            "\u001b[0;32m<ipython-input-5-797d89c16ded>\u001b[0m in \u001b[0;36m<cell line: 5>\u001b[0;34m()\u001b[0m\n\u001b[1;32m      3\u001b[0m \u001b[0;34m\u001b[0m\u001b[0m\n\u001b[1;32m      4\u001b[0m \u001b[0;34m\u001b[0m\u001b[0m\n\u001b[0;32m----> 5\u001b[0;31m \u001b[0;32mwith\u001b[0m \u001b[0mopen\u001b[0m\u001b[0;34m(\u001b[0m\u001b[0;34m'history.pkl'\u001b[0m\u001b[0;34m,\u001b[0m \u001b[0;34m'rb'\u001b[0m\u001b[0;34m)\u001b[0m \u001b[0;32mas\u001b[0m \u001b[0mfile\u001b[0m\u001b[0;34m:\u001b[0m\u001b[0;34m\u001b[0m\u001b[0;34m\u001b[0m\u001b[0m\n\u001b[0m\u001b[1;32m      6\u001b[0m     \u001b[0mloaded_history\u001b[0m \u001b[0;34m=\u001b[0m \u001b[0mpickle\u001b[0m\u001b[0;34m.\u001b[0m\u001b[0mload\u001b[0m\u001b[0;34m(\u001b[0m\u001b[0mfile\u001b[0m\u001b[0;34m)\u001b[0m\u001b[0;34m\u001b[0m\u001b[0;34m\u001b[0m\u001b[0m\n",
            "\u001b[0;31mFileNotFoundError\u001b[0m: [Errno 2] No such file or directory: 'history.pkl'"
          ]
        }
      ]
    },
    {
      "cell_type": "code",
      "source": [
        "import matplotlib.pyplot as plt\n",
        "\n",
        "plt.plot(history.history['loss'])\n",
        "plt.plot(history.history['val_loss'])\n",
        "plt.title('Model Loss')\n",
        "plt.ylabel('Loss')\n",
        "plt.xlabel('Epoch')\n",
        "plt.legend(['Train', 'Validation'], loc='upper left')\n",
        "plt.show()"
      ],
      "metadata": {
        "colab": {
          "base_uri": "https://localhost:8080/",
          "height": 211
        },
        "id": "vvvcy2akaj60",
        "outputId": "2871ecba-fba8-456a-c578-b6df606ff267"
      },
      "execution_count": null,
      "outputs": [
        {
          "output_type": "error",
          "ename": "NameError",
          "evalue": "name 'history' is not defined",
          "traceback": [
            "\u001b[0;31m---------------------------------------------------------------------------\u001b[0m",
            "\u001b[0;31mNameError\u001b[0m                                 Traceback (most recent call last)",
            "\u001b[0;32m<ipython-input-2-9027773ec968>\u001b[0m in \u001b[0;36m<cell line: 3>\u001b[0;34m()\u001b[0m\n\u001b[1;32m      1\u001b[0m \u001b[0;32mimport\u001b[0m \u001b[0mmatplotlib\u001b[0m\u001b[0;34m.\u001b[0m\u001b[0mpyplot\u001b[0m \u001b[0;32mas\u001b[0m \u001b[0mplt\u001b[0m\u001b[0;34m\u001b[0m\u001b[0;34m\u001b[0m\u001b[0m\n\u001b[1;32m      2\u001b[0m \u001b[0;34m\u001b[0m\u001b[0m\n\u001b[0;32m----> 3\u001b[0;31m \u001b[0mplt\u001b[0m\u001b[0;34m.\u001b[0m\u001b[0mplot\u001b[0m\u001b[0;34m(\u001b[0m\u001b[0mhistory\u001b[0m\u001b[0;34m.\u001b[0m\u001b[0mhistory\u001b[0m\u001b[0;34m[\u001b[0m\u001b[0;34m'loss'\u001b[0m\u001b[0;34m]\u001b[0m\u001b[0;34m)\u001b[0m\u001b[0;34m\u001b[0m\u001b[0;34m\u001b[0m\u001b[0m\n\u001b[0m\u001b[1;32m      4\u001b[0m \u001b[0mplt\u001b[0m\u001b[0;34m.\u001b[0m\u001b[0mplot\u001b[0m\u001b[0;34m(\u001b[0m\u001b[0mhistory\u001b[0m\u001b[0;34m.\u001b[0m\u001b[0mhistory\u001b[0m\u001b[0;34m[\u001b[0m\u001b[0;34m'val_loss'\u001b[0m\u001b[0;34m]\u001b[0m\u001b[0;34m)\u001b[0m\u001b[0;34m\u001b[0m\u001b[0;34m\u001b[0m\u001b[0m\n\u001b[1;32m      5\u001b[0m \u001b[0mplt\u001b[0m\u001b[0;34m.\u001b[0m\u001b[0mtitle\u001b[0m\u001b[0;34m(\u001b[0m\u001b[0;34m'Model Loss'\u001b[0m\u001b[0;34m)\u001b[0m\u001b[0;34m\u001b[0m\u001b[0;34m\u001b[0m\u001b[0m\n",
            "\u001b[0;31mNameError\u001b[0m: name 'history' is not defined"
          ]
        }
      ]
    }
  ]
}
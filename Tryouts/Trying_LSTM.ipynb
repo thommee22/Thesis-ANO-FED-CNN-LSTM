{
  "nbformat": 4,
  "nbformat_minor": 0,
  "metadata": {
    "colab": {
      "provenance": [],
      "gpuType": "T4"
    },
    "kernelspec": {
      "name": "python3",
      "display_name": "Python 3"
    },
    "language_info": {
      "name": "python"
    },
    "accelerator": "GPU"
  },
  "cells": [
    {
      "cell_type": "code",
      "execution_count": null,
      "metadata": {
        "colab": {
          "base_uri": "https://localhost:8080/"
        },
        "id": "19o65K4DiQ_k",
        "outputId": "36bf506b-ae54-4f6e-d9b8-6f249d81c0c8"
      },
      "outputs": [
        {
          "output_type": "stream",
          "name": "stdout",
          "text": [
            "Mounted at /content/drive\n"
          ]
        }
      ],
      "source": [
        "from google.colab import drive\n",
        "\n",
        "# Mount Google Drive\n",
        "drive.mount('/content/drive')"
      ]
    },
    {
      "cell_type": "code",
      "execution_count": null,
      "metadata": {
        "id": "vYrq4I03ydy8"
      },
      "outputs": [],
      "source": [
        "import matplotlib.pyplot as plt\n",
        "import pandas as pd\n",
        "import numpy as np\n",
        "from sklearn.preprocessing import StandardScaler\n",
        "from tensorflow.keras.layers import LSTM, Dense, Dropout, BatchNormalization, GRU\n",
        "from tensorflow.keras.models import Sequential\n",
        "from tensorflow.keras.regularizers import l2\n",
        "from tensorflow.keras.callbacks import TensorBoard, ModelCheckpoint, EarlyStopping, LearningRateScheduler\n",
        "from tensorflow.keras.metrics import Recall\n",
        "from tensorflow.keras.optimizers import Adam\n",
        "from sklearn.metrics import precision_score, recall_score\n",
        "from tensorflow.keras.initializers import HeUniform\n",
        "from tensorflow.keras import regularizers\n",
        "import os\n",
        "import sklearn.metrics\n",
        "import tensorflow as tf\n",
        "from sklearn.metrics import confusion_matrix\n",
        "import seaborn as sns\n",
        "import keras as ks\n"
      ]
    },
    {
      "cell_type": "code",
      "source": [
        "dataset = pd.read_csv('/content/drive/MyDrive/merged_data.csv', index_col='ts', parse_dates=True)"
      ],
      "metadata": {
        "id": "Ys19kGU9E-Wz"
      },
      "execution_count": null,
      "outputs": []
    },
    {
      "cell_type": "code",
      "source": [
        "# Class weights calculation\n",
        "neg, pos = np.bincount(dataset['anomaly_label'])\n",
        "total = neg + pos\n",
        "weight_for_0 = (1 / neg) * (total / 2.0)\n",
        "weight_for_1 = (1 / pos) * (total / 2.0)\n",
        "adjusted_weight_for_0 = weight_for_0 * 1.0  # Example: decrease if too many false positives\n",
        "adjusted_weight_for_1 = weight_for_1 * 1.0  # Example: increase if too many false negatives\n",
        "\n",
        "class_weight = {0: adjusted_weight_for_0, 1: adjusted_weight_for_1}\n",
        "time_steps = 50  # Adjust based on your sequence length\n",
        "batch_size = 128 # Adjust based on your batch size preference\n",
        "output_size = 1"
      ],
      "metadata": {
        "id": "eOm85gw2FaNH"
      },
      "execution_count": null,
      "outputs": []
    },
    {
      "cell_type": "code",
      "execution_count": null,
      "metadata": {
        "id": "dfeyg4xJyZro"
      },
      "outputs": [],
      "source": [
        "# Split data function\n",
        "def split_data_chronologically(data, test_ratio=0.2, val_ratio=0.2, target_column='anomaly_label'):\n",
        "    total_samples = len(data)\n",
        "    test_split_idx = int(total_samples * (1 - test_ratio))\n",
        "    val_split_idx = int(test_split_idx * (1 - val_ratio / (1 - test_ratio)))\n",
        "\n",
        "    train_data = data.iloc[:val_split_idx]\n",
        "    val_data = data.iloc[val_split_idx:test_split_idx]\n",
        "    test_data = data.iloc[test_split_idx:]\n",
        "\n",
        "    return train_data, val_data, test_data\n",
        "\n",
        "# Scale data function\n",
        "def scale_data(train_data, val_data, test_data, target_column='anomaly_label'):\n",
        "    scaler = StandardScaler()\n",
        "\n",
        "    # Fit on training data\n",
        "    train_features = train_data.drop(columns=[target_column])\n",
        "    scaler.fit(train_features)\n",
        "\n",
        "    # Transform features\n",
        "    train_scaled = scaler.transform(train_features)\n",
        "    val_scaled = scaler.transform(val_data.drop(columns=[target_column]))\n",
        "    test_scaled = scaler.transform(test_data.drop(columns=[target_column]))\n",
        "\n",
        "    # Extract labels\n",
        "    train_labels = train_data[target_column].values\n",
        "    val_labels = val_data[target_column].values\n",
        "    test_labels = test_data[target_column].values\n",
        "\n",
        "    return train_scaled, train_labels, val_scaled, val_labels, test_scaled, test_labels\n",
        "\n",
        "# Create TensorFlow dataset function\n",
        "def create_tf_dataset(features, labels, time_steps=100, batch_size=32, shuffle=False):\n",
        "    dataset = tf.keras.preprocessing.timeseries_dataset_from_array(\n",
        "        data=features,\n",
        "        targets=np.roll(labels, -time_steps),\n",
        "        sequence_length=time_steps,\n",
        "        sequence_stride=1,\n",
        "        shuffle=shuffle,\n",
        "        batch_size=batch_size,\n",
        "    )\n",
        "    return dataset\n",
        "\n",
        "# Define metrics\n",
        "METRICS = [\n",
        "      ks.metrics.MeanSquaredError(name='MSE'),\n",
        "      ks.metrics.TruePositives(name='tp'),\n",
        "      ks.metrics.FalsePositives(name='fp'),\n",
        "      ks.metrics.TrueNegatives(name='tn'),\n",
        "      ks.metrics.FalseNegatives(name='fn'),\n",
        "      ks.metrics.BinaryAccuracy(name='accuracy'),\n",
        "      ks.metrics.Precision(name='precision'),\n",
        "      ks.metrics.Recall(name='recall'),\n",
        "      ks.metrics.AUC(name='auc'),\n",
        "      ks.metrics.AUC(name='prc', curve='PR'), # precision-recall curve\n",
        "]"
      ]
    },
    {
      "cell_type": "code",
      "execution_count": null,
      "metadata": {
        "id": "3OhIEqx9hVb8"
      },
      "outputs": [],
      "source": [
        "train_data, val_data, test_data = split_data_chronologically(dataset)\n",
        "train_scaled, train_labels, val_scaled, val_labels, test_scaled, test_labels = scale_data(train_data, val_data, test_data)\n",
        "\n",
        "    # Dataset Creation\n",
        "train_dataset = create_tf_dataset(train_scaled, train_labels, time_steps=time_steps, batch_size=batch_size, shuffle=False)\n",
        "val_dataset = create_tf_dataset(val_scaled, val_labels, time_steps=time_steps, batch_size=batch_size, shuffle=False)\n",
        "test_dataset = create_tf_dataset(test_scaled, test_labels, time_steps=time_steps, batch_size=batch_size, shuffle=False)\n",
        "input_shape = (time_steps, train_scaled.shape[-1])"
      ]
    },
    {
      "cell_type": "code",
      "execution_count": null,
      "metadata": {
        "id": "e43Ie_Kf7Ify",
        "colab": {
          "base_uri": "https://localhost:8080/"
        },
        "outputId": "a20e4272-5919-4ee4-9e9b-3cf03e3a280a"
      },
      "outputs": [
        {
          "output_type": "stream",
          "name": "stdout",
          "text": [
            "Epoch 1/50\n",
            "16905/16905 [==============================] - 1471s 84ms/step - loss: 1.8739 - accuracy: 0.6210 - recall_1: 0.6621 - precision_1: 0.4301 - val_loss: 0.5954 - val_accuracy: 0.6983 - val_recall_1: 0.6045 - val_precision_1: 0.4348\n",
            "Epoch 2/50\n",
            "16905/16905 [==============================] - 1408s 83ms/step - loss: 0.6158 - accuracy: 0.6553 - recall_1: 0.7079 - precision_1: 0.4655 - val_loss: 0.5732 - val_accuracy: 0.6770 - val_recall_1: 0.6467 - val_precision_1: 0.4149\n",
            "Epoch 3/50\n",
            "16905/16905 [==============================] - 1413s 84ms/step - loss: 0.6087 - accuracy: 0.6590 - recall_1: 0.7102 - precision_1: 0.4692 - val_loss: 0.5896 - val_accuracy: 0.6621 - val_recall_1: 0.7010 - val_precision_1: 0.4062\n",
            "Epoch 4/50\n",
            "16905/16905 [==============================] - 1414s 84ms/step - loss: 0.6058 - accuracy: 0.6613 - recall_1: 0.7114 - precision_1: 0.4716 - val_loss: 0.5734 - val_accuracy: 0.6720 - val_recall_1: 0.6833 - val_precision_1: 0.4139\n",
            "Epoch 5/50\n",
            "16905/16905 [==============================] - 1412s 83ms/step - loss: 0.6037 - accuracy: 0.6626 - recall_1: 0.7110 - precision_1: 0.4729 - val_loss: 0.5692 - val_accuracy: 0.6825 - val_recall_1: 0.6482 - val_precision_1: 0.4209\n",
            "Epoch 6/50\n",
            "16905/16905 [==============================] - 1414s 84ms/step - loss: 0.6027 - accuracy: 0.6643 - recall_1: 0.7122 - precision_1: 0.4746 - val_loss: 0.6031 - val_accuracy: 0.6525 - val_recall_1: 0.7407 - val_precision_1: 0.4020\n",
            "Epoch 7/50\n",
            "16905/16905 [==============================] - 1415s 84ms/step - loss: 0.6018 - accuracy: 0.6656 - recall_1: 0.7120 - precision_1: 0.4760 - val_loss: 0.5831 - val_accuracy: 0.6724 - val_recall_1: 0.6826 - val_precision_1: 0.4142\n",
            "Epoch 8/50\n",
            "16905/16905 [==============================] - 1412s 84ms/step - loss: 0.6027 - accuracy: 0.6654 - recall_1: 0.7125 - precision_1: 0.4758 - val_loss: 0.6026 - val_accuracy: 0.6414 - val_recall_1: 0.7784 - val_precision_1: 0.3969\n",
            "Epoch 9/50\n",
            "16905/16905 [==============================] - 1406s 83ms/step - loss: 0.5998 - accuracy: 0.6676 - recall_1: 0.7125 - precision_1: 0.4780 - val_loss: 0.5581 - val_accuracy: 0.6968 - val_recall_1: 0.6158 - val_precision_1: 0.4339\n",
            "Epoch 10/50\n",
            "16905/16905 [==============================] - 1409s 83ms/step - loss: 0.6001 - accuracy: 0.6684 - recall_1: 0.7125 - precision_1: 0.4788 - val_loss: 0.5897 - val_accuracy: 0.6567 - val_recall_1: 0.7432 - val_precision_1: 0.4059\n",
            "Epoch 11/50\n",
            "16905/16905 [==============================] - 1401s 83ms/step - loss: 0.5989 - accuracy: 0.6696 - recall_1: 0.7128 - precision_1: 0.4800 - val_loss: 0.5685 - val_accuracy: 0.6850 - val_recall_1: 0.6875 - val_precision_1: 0.4273\n",
            "Epoch 12/50\n",
            "16905/16905 [==============================] - 1396s 83ms/step - loss: 0.5977 - accuracy: 0.6699 - recall_1: 0.7134 - precision_1: 0.4804 - val_loss: 0.5724 - val_accuracy: 0.6879 - val_recall_1: 0.6753 - val_precision_1: 0.4293\n",
            "Epoch 13/50\n",
            "16905/16905 [==============================] - 1401s 83ms/step - loss: 0.6047 - accuracy: 0.6711 - recall_1: 0.7123 - precision_1: 0.4817 - val_loss: 0.5761 - val_accuracy: 0.6877 - val_recall_1: 0.6851 - val_precision_1: 0.4300\n",
            "Epoch 14/50\n",
            "16905/16905 [==============================] - 1399s 83ms/step - loss: 0.5985 - accuracy: 0.6706 - recall_1: 0.7135 - precision_1: 0.4812 - val_loss: 0.6061 - val_accuracy: 0.6732 - val_recall_1: 0.6870 - val_precision_1: 0.4154\n",
            "Epoch 15/50\n",
            "16905/16905 [==============================] - 1406s 83ms/step - loss: 0.5986 - accuracy: 0.6702 - recall_1: 0.7126 - precision_1: 0.4807 - val_loss: 0.5827 - val_accuracy: 0.6780 - val_recall_1: 0.6894 - val_precision_1: 0.4204\n",
            "Epoch 16/50\n",
            "16905/16905 [==============================] - 1400s 83ms/step - loss: 0.5963 - accuracy: 0.6722 - recall_1: 0.7123 - precision_1: 0.4827 - val_loss: 0.5873 - val_accuracy: 0.6721 - val_recall_1: 0.7153 - val_precision_1: 0.4171\n",
            "Epoch 17/50\n",
            "16905/16905 [==============================] - 1405s 83ms/step - loss: 0.5960 - accuracy: 0.6726 - recall_1: 0.7120 - precision_1: 0.4832 - val_loss: 0.6062 - val_accuracy: 0.6554 - val_recall_1: 0.7622 - val_precision_1: 0.4067\n",
            "Epoch 18/50\n",
            "16905/16905 [==============================] - 1408s 83ms/step - loss: 0.5936 - accuracy: 0.6733 - recall_1: 0.7134 - precision_1: 0.4839 - val_loss: 0.5695 - val_accuracy: 0.6919 - val_recall_1: 0.6679 - val_precision_1: 0.4330\n",
            "Epoch 19/50\n",
            "16905/16905 [==============================] - 1410s 83ms/step - loss: 0.5957 - accuracy: 0.6737 - recall_1: 0.7140 - precision_1: 0.4844 - val_loss: 0.5462 - val_accuracy: 0.7324 - val_recall_1: 0.4674 - val_precision_1: 0.4755\n",
            "Epoch 20/50\n",
            "16905/16905 [==============================] - 1408s 83ms/step - loss: 0.5962 - accuracy: 0.6733 - recall_1: 0.7154 - precision_1: 0.4839 - val_loss: 0.6139 - val_accuracy: 0.6499 - val_recall_1: 0.7733 - val_precision_1: 0.4032\n",
            "Epoch 21/50\n",
            "16905/16905 [==============================] - 1413s 84ms/step - loss: 0.6051 - accuracy: 0.6707 - recall_1: 0.7150 - precision_1: 0.4813 - val_loss: 0.5842 - val_accuracy: 0.6673 - val_recall_1: 0.7526 - val_precision_1: 0.4162\n",
            "Epoch 22/50\n",
            "16905/16905 [==============================] - 1406s 83ms/step - loss: 0.5917 - accuracy: 0.6752 - recall_1: 0.7163 - precision_1: 0.4860 - val_loss: 0.5610 - val_accuracy: 0.6972 - val_recall_1: 0.6586 - val_precision_1: 0.4382\n",
            "Epoch 23/50\n",
            "16905/16905 [==============================] - 1408s 83ms/step - loss: 0.6220 - accuracy: 0.6710 - recall_1: 0.7120 - precision_1: 0.4816 - val_loss: 0.5883 - val_accuracy: 0.6626 - val_recall_1: 0.7493 - val_precision_1: 0.4117\n",
            "Epoch 24/50\n",
            "16905/16905 [==============================] - 1402s 83ms/step - loss: 0.5929 - accuracy: 0.6751 - recall_1: 0.7167 - precision_1: 0.4859 - val_loss: 0.6058 - val_accuracy: 0.6434 - val_recall_1: 0.8095 - val_precision_1: 0.4016\n",
            "Epoch 25/50\n",
            "16905/16905 [==============================] - 1407s 83ms/step - loss: 0.6038 - accuracy: 0.6685 - recall_1: 0.7187 - precision_1: 0.4791 - val_loss: 0.6246 - val_accuracy: 0.6286 - val_recall_1: 0.8049 - val_precision_1: 0.3899\n",
            "Epoch 26/50\n",
            "16905/16905 [==============================] - 1397s 83ms/step - loss: 0.5907 - accuracy: 0.6762 - recall_1: 0.7190 - precision_1: 0.4871 - val_loss: 0.5736 - val_accuracy: 0.6746 - val_recall_1: 0.7204 - val_precision_1: 0.4200\n",
            "Epoch 27/50\n",
            "16905/16905 [==============================] - 1404s 83ms/step - loss: 0.6090 - accuracy: 0.6700 - recall_1: 0.7159 - precision_1: 0.4806 - val_loss: 0.6152 - val_accuracy: 0.6437 - val_recall_1: 0.7877 - val_precision_1: 0.3997\n",
            "Epoch 28/50\n",
            "16905/16905 [==============================] - 1408s 83ms/step - loss: 0.5921 - accuracy: 0.6742 - recall_1: 0.7187 - precision_1: 0.4850 - val_loss: 0.5680 - val_accuracy: 0.6784 - val_recall_1: 0.7132 - val_precision_1: 0.4231\n",
            "Epoch 29/50\n",
            "16905/16905 [==============================] - 1411s 83ms/step - loss: 0.5935 - accuracy: 0.6767 - recall_1: 0.7176 - precision_1: 0.4876 - val_loss: 0.6039 - val_accuracy: 0.6542 - val_recall_1: 0.7780 - val_precision_1: 0.4073\n",
            "Epoch 30/50\n",
            "16905/16905 [==============================] - 1409s 83ms/step - loss: 0.6063 - accuracy: 0.6714 - recall_1: 0.7136 - precision_1: 0.4820 - val_loss: 0.5733 - val_accuracy: 0.6964 - val_recall_1: 0.6673 - val_precision_1: 0.4380\n",
            "Epoch 31/50\n",
            "16905/16905 [==============================] - 1406s 83ms/step - loss: 0.5910 - accuracy: 0.6768 - recall_1: 0.7179 - precision_1: 0.4877 - val_loss: 0.5788 - val_accuracy: 0.6795 - val_recall_1: 0.7244 - val_precision_1: 0.4252\n",
            "Epoch 32/50\n",
            "16905/16905 [==============================] - 1403s 83ms/step - loss: 0.6073 - accuracy: 0.6727 - recall_1: 0.7175 - precision_1: 0.4835 - val_loss: 0.5594 - val_accuracy: 0.7031 - val_recall_1: 0.6713 - val_precision_1: 0.4459\n",
            "Epoch 33/50\n",
            "16905/16905 [==============================] - 1404s 83ms/step - loss: 0.5923 - accuracy: 0.6765 - recall_1: 0.7192 - precision_1: 0.4874 - val_loss: 0.5496 - val_accuracy: 0.7064 - val_recall_1: 0.6462 - val_precision_1: 0.4480\n",
            "Epoch 34/50\n",
            "16905/16905 [==============================] - 1404s 83ms/step - loss: 0.5880 - accuracy: 0.6792 - recall_1: 0.7189 - precision_1: 0.4903 - val_loss: 0.5979 - val_accuracy: 0.6470 - val_recall_1: 0.7942 - val_precision_1: 0.4029\n",
            "Epoch 35/50\n",
            "16905/16905 [==============================] - 1405s 83ms/step - loss: 0.5907 - accuracy: 0.6782 - recall_1: 0.7187 - precision_1: 0.4893 - val_loss: 0.6568 - val_accuracy: 0.5960 - val_recall_1: 0.8343 - val_precision_1: 0.3707\n",
            "Epoch 36/50\n",
            "16905/16905 [==============================] - 1402s 83ms/step - loss: 0.5916 - accuracy: 0.6777 - recall_1: 0.7187 - precision_1: 0.4887 - val_loss: 0.5615 - val_accuracy: 0.6841 - val_recall_1: 0.7299 - val_precision_1: 0.4301\n",
            "Epoch 37/50\n",
            "16905/16905 [==============================] - 1403s 83ms/step - loss: 0.5874 - accuracy: 0.6798 - recall_1: 0.7201 - precision_1: 0.4910 - val_loss: 0.5730 - val_accuracy: 0.6664 - val_recall_1: 0.7670 - val_precision_1: 0.4168\n",
            "Epoch 38/50\n",
            "16905/16905 [==============================] - 1399s 83ms/step - loss: 0.5922 - accuracy: 0.6757 - recall_1: 0.7198 - precision_1: 0.4866 - val_loss: 0.6037 - val_accuracy: 0.6780 - val_recall_1: 0.6885 - val_precision_1: 0.4203\n",
            "Epoch 39/50\n",
            "16905/16905 [==============================] - 1402s 83ms/step - loss: 0.5873 - accuracy: 0.6799 - recall_1: 0.7187 - precision_1: 0.4910 - val_loss: 0.5683 - val_accuracy: 0.6825 - val_recall_1: 0.7222 - val_precision_1: 0.4279\n",
            "Epoch 40/50\n",
            "16905/16905 [==============================] - 1404s 83ms/step - loss: 0.5939 - accuracy: 0.6784 - recall_1: 0.7190 - precision_1: 0.4895 - val_loss: 0.5952 - val_accuracy: 0.6666 - val_recall_1: 0.7541 - val_precision_1: 0.4157\n",
            "Epoch 41/50\n",
            "16905/16905 [==============================] - 1400s 83ms/step - loss: 0.5905 - accuracy: 0.6797 - recall_1: 0.7196 - precision_1: 0.4908 - val_loss: 0.5948 - val_accuracy: 0.6623 - val_recall_1: 0.7634 - val_precision_1: 0.4128\n",
            "Epoch 42/50\n",
            "16905/16905 [==============================] - 1404s 83ms/step - loss: 0.5881 - accuracy: 0.6807 - recall_1: 0.7198 - precision_1: 0.4919 - val_loss: 0.5777 - val_accuracy: 0.6628 - val_recall_1: 0.7739 - val_precision_1: 0.4142\n",
            "Epoch 43/50\n",
            "16905/16905 [==============================] - 1404s 83ms/step - loss: 0.5906 - accuracy: 0.6778 - recall_1: 0.7206 - precision_1: 0.4888 - val_loss: 0.5730 - val_accuracy: 0.6688 - val_recall_1: 0.6862 - val_precision_1: 0.4110\n",
            "Epoch 44/50\n",
            "16905/16905 [==============================] - 1406s 83ms/step - loss: 0.5861 - accuracy: 0.6812 - recall_1: 0.7214 - precision_1: 0.4925 - val_loss: 0.5999 - val_accuracy: 0.6703 - val_recall_1: 0.6100 - val_precision_1: 0.4037\n",
            "Epoch 45/50\n",
            "16905/16905 [==============================] - 1404s 83ms/step - loss: 0.5887 - accuracy: 0.6799 - recall_1: 0.7197 - precision_1: 0.4910 - val_loss: 0.5547 - val_accuracy: 0.6902 - val_recall_1: 0.7185 - val_precision_1: 0.4354\n",
            "Epoch 46/50\n",
            "16905/16905 [==============================] - 1400s 83ms/step - loss: 0.5944 - accuracy: 0.6788 - recall_1: 0.7197 - precision_1: 0.4899 - val_loss: 0.5750 - val_accuracy: 0.6655 - val_recall_1: 0.7636 - val_precision_1: 0.4156\n",
            "Epoch 47/50\n",
            "10852/16905 [==================>...........] - ETA: 7:30 - loss: 0.5919 - accuracy: 0.6737 - recall_1: 0.7476 - precision_1: 0.5015"
          ]
        }
      ],
      "source": [
        "# Define the LSTM model with adjustments\n",
        "model = Sequential([\n",
        "    LSTM(500, return_sequences=True, input_shape=input_shape, kernel_regularizer=regularizers.l2(0.01)),\n",
        "    BatchNormalization(),\n",
        "    Dropout(0.5),\n",
        "\n",
        "    LSTM(400, return_sequences=True, kernel_regularizer=regularizers.l2(0.01)),\n",
        "    BatchNormalization(),\n",
        "    Dropout(0.5),\n",
        "\n",
        "    LSTM(300, return_sequences=True, kernel_regularizer=regularizers.l2(0.01)),\n",
        "    BatchNormalization(),\n",
        "    Dropout(0.5),\n",
        "\n",
        "    LSTM(200, return_sequences=True, kernel_regularizer=regularizers.l2(0.01)),\n",
        "    BatchNormalization(),\n",
        "    Dropout(0.5),\n",
        "\n",
        "    LSTM(100, kernel_regularizer=regularizers.l2(0.01)),\n",
        "    BatchNormalization(),\n",
        "    Dropout(0.5),\n",
        "\n",
        "    Dense(1, activation='sigmoid', kernel_regularizer=regularizers.l2(0.01))\n",
        "])\n",
        "\n",
        "# Compile the model with a lower learning rate\n",
        "model.compile(optimizer=tf.keras.optimizers.Adam(learning_rate=0.0001),\n",
        "              loss='binary_crossentropy',\n",
        "              metrics=['accuracy', tf.keras.metrics.Recall(), tf.keras.metrics.Precision()])\n",
        "\n",
        "# Define learning rate scheduler\n",
        "def lr_scheduler(epoch, lr):\n",
        "    if epoch < 5:\n",
        "        return lr\n",
        "    else:\n",
        "        return lr * tf.math.exp(-0.1)\n",
        "\n",
        "lr_callback = LearningRateScheduler(lr_scheduler)\n",
        "\n",
        "# Define early stopping criteria\n",
        "early_stopping = EarlyStopping(monitor='val_loss', patience=3, restore_best_weights=True)\n",
        "\n",
        "# Train the model with early stopping and learning rate scheduler\n",
        "history = model.fit(train_dataset, epochs=50,batch_size=128,\n",
        "                    validation_data=val_dataset, class_weight = class_weight)\n",
        "\n",
        "# Evaluate the model\n",
        "loss, accuracy,recall, precision = model.evaluate(test_dataset)\n",
        "print(\"Test Loss:\", loss)\n",
        "print(\"Test Accuracy:\", accuracy)\n",
        "print(\"Test recall:\", recall)\n",
        "print(\"Test precision:\", precision)\n",
        "\n",
        "# Make predictions\n",
        "predictions = model.predict(test_dataset)\n",
        "\n"
      ]
    },
    {
      "cell_type": "code",
      "source": [],
      "metadata": {
        "id": "H7nYnTNuecyg"
      },
      "execution_count": null,
      "outputs": []
    },
    {
      "cell_type": "code",
      "source": [
        "from tensorflow.keras.models import load_model\n",
        "import pickle\n",
        "\n",
        "# Assuming you have trained your model and stored the training history in a variable called 'history'\n",
        "\n",
        "# Save the trained model\n",
        "model.save(\"your_model.keras\")\n",
        "\n",
        "# Save the training history\n",
        "with open('history.pkl', 'wb') as file:\n",
        "    pickle.dump(history.history, file)"
      ],
      "metadata": {
        "id": "DJWO_FUVewga"
      },
      "execution_count": null,
      "outputs": []
    }
  ]
}
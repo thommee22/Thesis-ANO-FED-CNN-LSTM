{
  "cells": [
    {
      "cell_type": "code",
      "execution_count": null,
      "metadata": {
        "colab": {
          "base_uri": "https://localhost:8080/"
        },
        "id": "19o65K4DiQ_k",
        "outputId": "5362d1d5-502d-4906-cd73-0653c44af72b"
      },
      "outputs": [
        {
          "output_type": "stream",
          "name": "stdout",
          "text": [
            "Mounted at /content/drive\n"
          ]
        }
      ],
      "source": [
        "from google.colab import drive\n",
        "\n",
        "# Mount Google Drive\n",
        "drive.mount('/content/drive')"
      ]
    },
    {
      "cell_type": "code",
      "execution_count": null,
      "metadata": {
        "id": "vYrq4I03ydy8"
      },
      "outputs": [],
      "source": [
        "import matplotlib.pyplot as plt\n",
        "import pandas as pd\n",
        "import numpy as np\n",
        "from sklearn.preprocessing import StandardScaler\n",
        "from tensorflow.keras.layers import LSTM, Dense, Dropout, BatchNormalization,GRU, Conv1D, MaxPooling1D, Flatten\n",
        "from tensorflow.keras.models import Sequential\n",
        "from tensorflow.keras.regularizers import l2\n",
        "from tensorflow.keras.callbacks import TensorBoard, ModelCheckpoint, EarlyStopping, LearningRateScheduler\n",
        "from tensorflow.keras.metrics import Recall\n",
        "from tensorflow.keras.optimizers import Adam\n",
        "from sklearn.metrics import precision_score, recall_score\n",
        "from tensorflow.keras.initializers import HeUniform\n",
        "from tensorflow.keras import regularizers\n",
        "import os\n",
        "import sklearn.metrics\n",
        "import tensorflow as tf\n",
        "from sklearn.metrics import confusion_matrix\n",
        "import seaborn as sns\n",
        "import keras as ks\n"
      ]
    },
    {
      "cell_type": "code",
      "execution_count": null,
      "metadata": {
        "id": "Ys19kGU9E-Wz"
      },
      "outputs": [],
      "source": [
        "dataset = pd.read_csv('/content/drive/MyDrive/merged_data.csv', index_col='ts', parse_dates=True)"
      ]
    },
    {
      "cell_type": "code",
      "execution_count": null,
      "metadata": {
        "id": "eOm85gw2FaNH"
      },
      "outputs": [],
      "source": [
        "# Class weights calculation\n",
        "neg, pos = np.bincount(dataset['anomaly_label'])\n",
        "total = neg + pos\n",
        "weight_for_0 = (1 / neg) * (total / 2.0)\n",
        "weight_for_1 = (1 / pos) * (total / 2.0)\n",
        "adjusted_weight_for_0 = weight_for_0 * 1.0  # Example: decrease if too many false positives\n",
        "adjusted_weight_for_1 = weight_for_1 * 1.0  # Example: increase if too many false negatives\n",
        "\n",
        "class_weight = {0: adjusted_weight_for_0, 1: adjusted_weight_for_1}\n",
        "time_steps = 50  # Adjust based on your sequence length\n",
        "batch_size = 128 # Adjust based on your batch size preference\n",
        "output_size = 1"
      ]
    },
    {
      "cell_type": "code",
      "execution_count": null,
      "metadata": {
        "id": "dfeyg4xJyZro"
      },
      "outputs": [],
      "source": [
        "# Split data function\n",
        "def split_data_chronologically(data, test_ratio=0.2, val_ratio=0.2, target_column='anomaly_label'):\n",
        "    total_samples = len(data)\n",
        "    test_split_idx = int(total_samples * (1 - test_ratio))\n",
        "    val_split_idx = int(test_split_idx * (1 - val_ratio / (1 - test_ratio)))\n",
        "\n",
        "    train_data = data.iloc[:val_split_idx]\n",
        "    val_data = data.iloc[val_split_idx:test_split_idx]\n",
        "    test_data = data.iloc[test_split_idx:]\n",
        "\n",
        "    return train_data, val_data, test_data\n",
        "\n",
        "# Scale data function\n",
        "def scale_data(train_data, val_data, test_data, target_column='anomaly_label'):\n",
        "    scaler = StandardScaler()\n",
        "\n",
        "    # Fit on training data\n",
        "    train_features = train_data.drop(columns=[target_column])\n",
        "    scaler.fit(train_features)\n",
        "\n",
        "    # Transform features\n",
        "    train_scaled = scaler.transform(train_features)\n",
        "    val_scaled = scaler.transform(val_data.drop(columns=[target_column]))\n",
        "    test_scaled = scaler.transform(test_data.drop(columns=[target_column]))\n",
        "\n",
        "    # Extract labels\n",
        "    train_labels = train_data[target_column].values\n",
        "    val_labels = val_data[target_column].values\n",
        "    test_labels = test_data[target_column].values\n",
        "\n",
        "    return train_scaled, train_labels, val_scaled, val_labels, test_scaled, test_labels\n",
        "\n",
        "# Create TensorFlow dataset function\n",
        "def create_tf_dataset(features, labels, time_steps=100, batch_size=32, shuffle=False):\n",
        "    dataset = tf.keras.preprocessing.timeseries_dataset_from_array(\n",
        "        data=features,\n",
        "        targets=np.roll(labels, -time_steps),\n",
        "        sequence_length=time_steps,\n",
        "        sequence_stride=1,\n",
        "        shuffle=shuffle,\n",
        "        batch_size=batch_size,\n",
        "    )\n",
        "    return dataset\n",
        "\n",
        "# Define metrics\n",
        "METRICS = [\n",
        "      ks.metrics.MeanSquaredError(name='MSE'),\n",
        "      ks.metrics.TruePositives(name='tp'),\n",
        "      ks.metrics.FalsePositives(name='fp'),\n",
        "      ks.metrics.TrueNegatives(name='tn'),\n",
        "      ks.metrics.FalseNegatives(name='fn'),\n",
        "      ks.metrics.BinaryAccuracy(name='accuracy'),\n",
        "      ks.metrics.Precision(name='precision'),\n",
        "      ks.metrics.Recall(name='recall'),\n",
        "      ks.metrics.AUC(name='auc'),\n",
        "      ks.metrics.AUC(name='prc', curve='PR'), # precision-recall curve\n",
        "]"
      ]
    },
    {
      "cell_type": "code",
      "execution_count": null,
      "metadata": {
        "id": "3OhIEqx9hVb8"
      },
      "outputs": [],
      "source": [
        "train_data, val_data, test_data = split_data_chronologically(dataset)\n",
        "train_scaled, train_labels, val_scaled, val_labels, test_scaled, test_labels = scale_data(train_data, val_data, test_data)\n",
        "\n",
        "    # Dataset Creation\n",
        "train_dataset = create_tf_dataset(train_scaled, train_labels, time_steps=time_steps, batch_size=batch_size, shuffle=False)\n",
        "val_dataset = create_tf_dataset(val_scaled, val_labels, time_steps=time_steps, batch_size=batch_size, shuffle=False)\n",
        "test_dataset = create_tf_dataset(test_scaled, test_labels, time_steps=time_steps, batch_size=batch_size, shuffle=False)\n",
        "input_shape = (time_steps, train_scaled.shape[-1])"
      ]
    },
    {
      "cell_type": "code",
      "execution_count": null,
      "metadata": {
        "colab": {
          "base_uri": "https://localhost:8080/",
          "height": 373
        },
        "id": "e43Ie_Kf7Ify",
        "outputId": "c5f9fd98-1587-4223-d1e2-6efb8aca2648"
      },
      "outputs": [
        {
          "output_type": "stream",
          "name": "stdout",
          "text": [
            "Epoch 1/50\n"
          ]
        },
        {
          "output_type": "error",
          "ename": "KeyboardInterrupt",
          "evalue": "",
          "traceback": [
            "\u001b[0;31m---------------------------------------------------------------------------\u001b[0m",
            "\u001b[0;31mKeyboardInterrupt\u001b[0m                         Traceback (most recent call last)",
            "\u001b[0;32m<ipython-input-7-4045fe9b2a79>\u001b[0m in \u001b[0;36m<cell line: 49>\u001b[0;34m()\u001b[0m\n\u001b[1;32m     47\u001b[0m \u001b[0;34m\u001b[0m\u001b[0m\n\u001b[1;32m     48\u001b[0m \u001b[0;31m# Train the model with early stopping and learning rate scheduler\u001b[0m\u001b[0;34m\u001b[0m\u001b[0;34m\u001b[0m\u001b[0m\n\u001b[0;32m---> 49\u001b[0;31m history = model.fit(train_dataset, epochs=50, batch_size=128,\n\u001b[0m\u001b[1;32m     50\u001b[0m                     validation_data=val_dataset, class_weight=class_weight)\n\u001b[1;32m     51\u001b[0m \u001b[0;34m\u001b[0m\u001b[0m\n",
            "\u001b[0;32m/usr/local/lib/python3.10/dist-packages/keras/src/utils/traceback_utils.py\u001b[0m in \u001b[0;36merror_handler\u001b[0;34m(*args, **kwargs)\u001b[0m\n\u001b[1;32m     63\u001b[0m         \u001b[0mfiltered_tb\u001b[0m \u001b[0;34m=\u001b[0m \u001b[0;32mNone\u001b[0m\u001b[0;34m\u001b[0m\u001b[0;34m\u001b[0m\u001b[0m\n\u001b[1;32m     64\u001b[0m         \u001b[0;32mtry\u001b[0m\u001b[0;34m:\u001b[0m\u001b[0;34m\u001b[0m\u001b[0;34m\u001b[0m\u001b[0m\n\u001b[0;32m---> 65\u001b[0;31m             \u001b[0;32mreturn\u001b[0m \u001b[0mfn\u001b[0m\u001b[0;34m(\u001b[0m\u001b[0;34m*\u001b[0m\u001b[0margs\u001b[0m\u001b[0;34m,\u001b[0m \u001b[0;34m**\u001b[0m\u001b[0mkwargs\u001b[0m\u001b[0;34m)\u001b[0m\u001b[0;34m\u001b[0m\u001b[0;34m\u001b[0m\u001b[0m\n\u001b[0m\u001b[1;32m     66\u001b[0m         \u001b[0;32mexcept\u001b[0m \u001b[0mException\u001b[0m \u001b[0;32mas\u001b[0m \u001b[0me\u001b[0m\u001b[0;34m:\u001b[0m\u001b[0;34m\u001b[0m\u001b[0;34m\u001b[0m\u001b[0m\n\u001b[1;32m     67\u001b[0m             \u001b[0mfiltered_tb\u001b[0m \u001b[0;34m=\u001b[0m \u001b[0m_process_traceback_frames\u001b[0m\u001b[0;34m(\u001b[0m\u001b[0me\u001b[0m\u001b[0;34m.\u001b[0m\u001b[0m__traceback__\u001b[0m\u001b[0;34m)\u001b[0m\u001b[0;34m\u001b[0m\u001b[0;34m\u001b[0m\u001b[0m\n",
            "\u001b[0;32m/usr/local/lib/python3.10/dist-packages/keras/src/engine/training.py\u001b[0m in \u001b[0;36mfit\u001b[0;34m(self, x, y, batch_size, epochs, verbose, callbacks, validation_split, validation_data, shuffle, class_weight, sample_weight, initial_epoch, steps_per_epoch, validation_steps, validation_batch_size, validation_freq, max_queue_size, workers, use_multiprocessing)\u001b[0m\n\u001b[1;32m   1805\u001b[0m                         ):\n\u001b[1;32m   1806\u001b[0m                             \u001b[0mcallbacks\u001b[0m\u001b[0;34m.\u001b[0m\u001b[0mon_train_batch_begin\u001b[0m\u001b[0;34m(\u001b[0m\u001b[0mstep\u001b[0m\u001b[0;34m)\u001b[0m\u001b[0;34m\u001b[0m\u001b[0;34m\u001b[0m\u001b[0m\n\u001b[0;32m-> 1807\u001b[0;31m                             \u001b[0mtmp_logs\u001b[0m \u001b[0;34m=\u001b[0m \u001b[0mself\u001b[0m\u001b[0;34m.\u001b[0m\u001b[0mtrain_function\u001b[0m\u001b[0;34m(\u001b[0m\u001b[0miterator\u001b[0m\u001b[0;34m)\u001b[0m\u001b[0;34m\u001b[0m\u001b[0;34m\u001b[0m\u001b[0m\n\u001b[0m\u001b[1;32m   1808\u001b[0m                             \u001b[0;32mif\u001b[0m \u001b[0mdata_handler\u001b[0m\u001b[0;34m.\u001b[0m\u001b[0mshould_sync\u001b[0m\u001b[0;34m:\u001b[0m\u001b[0;34m\u001b[0m\u001b[0;34m\u001b[0m\u001b[0m\n\u001b[1;32m   1809\u001b[0m                                 \u001b[0mcontext\u001b[0m\u001b[0;34m.\u001b[0m\u001b[0masync_wait\u001b[0m\u001b[0;34m(\u001b[0m\u001b[0;34m)\u001b[0m\u001b[0;34m\u001b[0m\u001b[0;34m\u001b[0m\u001b[0m\n",
            "\u001b[0;32m/usr/local/lib/python3.10/dist-packages/tensorflow/python/util/traceback_utils.py\u001b[0m in \u001b[0;36merror_handler\u001b[0;34m(*args, **kwargs)\u001b[0m\n\u001b[1;32m    148\u001b[0m     \u001b[0mfiltered_tb\u001b[0m \u001b[0;34m=\u001b[0m \u001b[0;32mNone\u001b[0m\u001b[0;34m\u001b[0m\u001b[0;34m\u001b[0m\u001b[0m\n\u001b[1;32m    149\u001b[0m     \u001b[0;32mtry\u001b[0m\u001b[0;34m:\u001b[0m\u001b[0;34m\u001b[0m\u001b[0;34m\u001b[0m\u001b[0m\n\u001b[0;32m--> 150\u001b[0;31m       \u001b[0;32mreturn\u001b[0m \u001b[0mfn\u001b[0m\u001b[0;34m(\u001b[0m\u001b[0;34m*\u001b[0m\u001b[0margs\u001b[0m\u001b[0;34m,\u001b[0m \u001b[0;34m**\u001b[0m\u001b[0mkwargs\u001b[0m\u001b[0;34m)\u001b[0m\u001b[0;34m\u001b[0m\u001b[0;34m\u001b[0m\u001b[0m\n\u001b[0m\u001b[1;32m    151\u001b[0m     \u001b[0;32mexcept\u001b[0m \u001b[0mException\u001b[0m \u001b[0;32mas\u001b[0m \u001b[0me\u001b[0m\u001b[0;34m:\u001b[0m\u001b[0;34m\u001b[0m\u001b[0;34m\u001b[0m\u001b[0m\n\u001b[1;32m    152\u001b[0m       \u001b[0mfiltered_tb\u001b[0m \u001b[0;34m=\u001b[0m \u001b[0m_process_traceback_frames\u001b[0m\u001b[0;34m(\u001b[0m\u001b[0me\u001b[0m\u001b[0;34m.\u001b[0m\u001b[0m__traceback__\u001b[0m\u001b[0;34m)\u001b[0m\u001b[0;34m\u001b[0m\u001b[0;34m\u001b[0m\u001b[0m\n",
            "\u001b[0;32m/usr/local/lib/python3.10/dist-packages/tensorflow/python/eager/polymorphic_function/polymorphic_function.py\u001b[0m in \u001b[0;36m__call__\u001b[0;34m(self, *args, **kwds)\u001b[0m\n\u001b[1;32m    830\u001b[0m \u001b[0;34m\u001b[0m\u001b[0m\n\u001b[1;32m    831\u001b[0m       \u001b[0;32mwith\u001b[0m \u001b[0mOptionalXlaContext\u001b[0m\u001b[0;34m(\u001b[0m\u001b[0mself\u001b[0m\u001b[0;34m.\u001b[0m\u001b[0m_jit_compile\u001b[0m\u001b[0;34m)\u001b[0m\u001b[0;34m:\u001b[0m\u001b[0;34m\u001b[0m\u001b[0;34m\u001b[0m\u001b[0m\n\u001b[0;32m--> 832\u001b[0;31m         \u001b[0mresult\u001b[0m \u001b[0;34m=\u001b[0m \u001b[0mself\u001b[0m\u001b[0;34m.\u001b[0m\u001b[0m_call\u001b[0m\u001b[0;34m(\u001b[0m\u001b[0;34m*\u001b[0m\u001b[0margs\u001b[0m\u001b[0;34m,\u001b[0m \u001b[0;34m**\u001b[0m\u001b[0mkwds\u001b[0m\u001b[0;34m)\u001b[0m\u001b[0;34m\u001b[0m\u001b[0;34m\u001b[0m\u001b[0m\n\u001b[0m\u001b[1;32m    833\u001b[0m \u001b[0;34m\u001b[0m\u001b[0m\n\u001b[1;32m    834\u001b[0m       \u001b[0mnew_tracing_count\u001b[0m \u001b[0;34m=\u001b[0m \u001b[0mself\u001b[0m\u001b[0;34m.\u001b[0m\u001b[0mexperimental_get_tracing_count\u001b[0m\u001b[0;34m(\u001b[0m\u001b[0;34m)\u001b[0m\u001b[0;34m\u001b[0m\u001b[0;34m\u001b[0m\u001b[0m\n",
            "\u001b[0;32m/usr/local/lib/python3.10/dist-packages/tensorflow/python/eager/polymorphic_function/polymorphic_function.py\u001b[0m in \u001b[0;36m_call\u001b[0;34m(self, *args, **kwds)\u001b[0m\n\u001b[1;32m    903\u001b[0m         \u001b[0;31m# Lifting succeeded, so variables are initialized and we can run the\u001b[0m\u001b[0;34m\u001b[0m\u001b[0;34m\u001b[0m\u001b[0m\n\u001b[1;32m    904\u001b[0m         \u001b[0;31m# no_variable_creation function.\u001b[0m\u001b[0;34m\u001b[0m\u001b[0;34m\u001b[0m\u001b[0m\n\u001b[0;32m--> 905\u001b[0;31m         return tracing_compilation.call_function(\n\u001b[0m\u001b[1;32m    906\u001b[0m             \u001b[0margs\u001b[0m\u001b[0;34m,\u001b[0m \u001b[0mkwds\u001b[0m\u001b[0;34m,\u001b[0m \u001b[0mself\u001b[0m\u001b[0;34m.\u001b[0m\u001b[0m_no_variable_creation_config\u001b[0m\u001b[0;34m\u001b[0m\u001b[0;34m\u001b[0m\u001b[0m\n\u001b[1;32m    907\u001b[0m         )\n",
            "\u001b[0;32m/usr/local/lib/python3.10/dist-packages/tensorflow/python/eager/polymorphic_function/tracing_compilation.py\u001b[0m in \u001b[0;36mcall_function\u001b[0;34m(args, kwargs, tracing_options)\u001b[0m\n\u001b[1;32m    130\u001b[0m   \u001b[0margs\u001b[0m \u001b[0;34m=\u001b[0m \u001b[0margs\u001b[0m \u001b[0;32mif\u001b[0m \u001b[0margs\u001b[0m \u001b[0;32melse\u001b[0m \u001b[0;34m(\u001b[0m\u001b[0;34m)\u001b[0m\u001b[0;34m\u001b[0m\u001b[0;34m\u001b[0m\u001b[0m\n\u001b[1;32m    131\u001b[0m   \u001b[0mkwargs\u001b[0m \u001b[0;34m=\u001b[0m \u001b[0mkwargs\u001b[0m \u001b[0;32mif\u001b[0m \u001b[0mkwargs\u001b[0m \u001b[0;32melse\u001b[0m \u001b[0;34m{\u001b[0m\u001b[0;34m}\u001b[0m\u001b[0;34m\u001b[0m\u001b[0;34m\u001b[0m\u001b[0m\n\u001b[0;32m--> 132\u001b[0;31m   function = trace_function(\n\u001b[0m\u001b[1;32m    133\u001b[0m       \u001b[0margs\u001b[0m\u001b[0;34m=\u001b[0m\u001b[0margs\u001b[0m\u001b[0;34m,\u001b[0m \u001b[0mkwargs\u001b[0m\u001b[0;34m=\u001b[0m\u001b[0mkwargs\u001b[0m\u001b[0;34m,\u001b[0m \u001b[0mtracing_options\u001b[0m\u001b[0;34m=\u001b[0m\u001b[0mtracing_options\u001b[0m\u001b[0;34m\u001b[0m\u001b[0;34m\u001b[0m\u001b[0m\n\u001b[1;32m    134\u001b[0m   )\n",
            "\u001b[0;32m/usr/local/lib/python3.10/dist-packages/tensorflow/python/eager/polymorphic_function/tracing_compilation.py\u001b[0m in \u001b[0;36mtrace_function\u001b[0;34m(args, kwargs, tracing_options)\u001b[0m\n\u001b[1;32m    176\u001b[0m       \u001b[0mkwargs\u001b[0m \u001b[0;34m=\u001b[0m \u001b[0;34m{\u001b[0m\u001b[0;34m}\u001b[0m\u001b[0;34m\u001b[0m\u001b[0;34m\u001b[0m\u001b[0m\n\u001b[1;32m    177\u001b[0m \u001b[0;34m\u001b[0m\u001b[0m\n\u001b[0;32m--> 178\u001b[0;31m     concrete_function = _maybe_define_function(\n\u001b[0m\u001b[1;32m    179\u001b[0m         \u001b[0margs\u001b[0m\u001b[0;34m,\u001b[0m \u001b[0mkwargs\u001b[0m\u001b[0;34m,\u001b[0m \u001b[0mtracing_options\u001b[0m\u001b[0;34m\u001b[0m\u001b[0;34m\u001b[0m\u001b[0m\n\u001b[1;32m    180\u001b[0m     )\n",
            "\u001b[0;32m/usr/local/lib/python3.10/dist-packages/tensorflow/python/eager/polymorphic_function/tracing_compilation.py\u001b[0m in \u001b[0;36m_maybe_define_function\u001b[0;34m(args, kwargs, tracing_options)\u001b[0m\n\u001b[1;32m    281\u001b[0m         \u001b[0;32melse\u001b[0m\u001b[0;34m:\u001b[0m\u001b[0;34m\u001b[0m\u001b[0;34m\u001b[0m\u001b[0m\n\u001b[1;32m    282\u001b[0m           \u001b[0mtarget_func_type\u001b[0m \u001b[0;34m=\u001b[0m \u001b[0mlookup_func_type\u001b[0m\u001b[0;34m\u001b[0m\u001b[0;34m\u001b[0m\u001b[0m\n\u001b[0;32m--> 283\u001b[0;31m         concrete_function = _create_concrete_function(\n\u001b[0m\u001b[1;32m    284\u001b[0m             \u001b[0mtarget_func_type\u001b[0m\u001b[0;34m,\u001b[0m \u001b[0mlookup_func_context\u001b[0m\u001b[0;34m,\u001b[0m \u001b[0mfunc_graph\u001b[0m\u001b[0;34m,\u001b[0m \u001b[0mtracing_options\u001b[0m\u001b[0;34m\u001b[0m\u001b[0;34m\u001b[0m\u001b[0m\n\u001b[1;32m    285\u001b[0m         )\n",
            "\u001b[0;32m/usr/local/lib/python3.10/dist-packages/tensorflow/python/eager/polymorphic_function/tracing_compilation.py\u001b[0m in \u001b[0;36m_create_concrete_function\u001b[0;34m(function_type, type_context, func_graph, tracing_options)\u001b[0m\n\u001b[1;32m    308\u001b[0m       \u001b[0mattributes_lib\u001b[0m\u001b[0;34m.\u001b[0m\u001b[0mDISABLE_ACD\u001b[0m\u001b[0;34m,\u001b[0m \u001b[0;32mFalse\u001b[0m\u001b[0;34m\u001b[0m\u001b[0;34m\u001b[0m\u001b[0m\n\u001b[1;32m    309\u001b[0m   )\n\u001b[0;32m--> 310\u001b[0;31m   traced_func_graph = func_graph_module.func_graph_from_py_func(\n\u001b[0m\u001b[1;32m    311\u001b[0m       \u001b[0mtracing_options\u001b[0m\u001b[0;34m.\u001b[0m\u001b[0mname\u001b[0m\u001b[0;34m,\u001b[0m\u001b[0;34m\u001b[0m\u001b[0;34m\u001b[0m\u001b[0m\n\u001b[1;32m    312\u001b[0m       \u001b[0mtracing_options\u001b[0m\u001b[0;34m.\u001b[0m\u001b[0mpython_function\u001b[0m\u001b[0;34m,\u001b[0m\u001b[0;34m\u001b[0m\u001b[0;34m\u001b[0m\u001b[0m\n",
            "\u001b[0;32m/usr/local/lib/python3.10/dist-packages/tensorflow/python/framework/func_graph.py\u001b[0m in \u001b[0;36mfunc_graph_from_py_func\u001b[0;34m(name, python_func, args, kwargs, signature, func_graph, add_control_dependencies, arg_names, op_return_value, collections, capture_by_value, create_placeholders)\u001b[0m\n\u001b[1;32m   1057\u001b[0m \u001b[0;34m\u001b[0m\u001b[0m\n\u001b[1;32m   1058\u001b[0m     \u001b[0m_\u001b[0m\u001b[0;34m,\u001b[0m \u001b[0moriginal_func\u001b[0m \u001b[0;34m=\u001b[0m \u001b[0mtf_decorator\u001b[0m\u001b[0;34m.\u001b[0m\u001b[0munwrap\u001b[0m\u001b[0;34m(\u001b[0m\u001b[0mpython_func\u001b[0m\u001b[0;34m)\u001b[0m\u001b[0;34m\u001b[0m\u001b[0;34m\u001b[0m\u001b[0m\n\u001b[0;32m-> 1059\u001b[0;31m     \u001b[0mfunc_outputs\u001b[0m \u001b[0;34m=\u001b[0m \u001b[0mpython_func\u001b[0m\u001b[0;34m(\u001b[0m\u001b[0;34m*\u001b[0m\u001b[0mfunc_args\u001b[0m\u001b[0;34m,\u001b[0m \u001b[0;34m**\u001b[0m\u001b[0mfunc_kwargs\u001b[0m\u001b[0;34m)\u001b[0m\u001b[0;34m\u001b[0m\u001b[0;34m\u001b[0m\u001b[0m\n\u001b[0m\u001b[1;32m   1060\u001b[0m \u001b[0;34m\u001b[0m\u001b[0m\n\u001b[1;32m   1061\u001b[0m     \u001b[0;31m# invariant: `func_outputs` contains only Tensors, CompositeTensors,\u001b[0m\u001b[0;34m\u001b[0m\u001b[0;34m\u001b[0m\u001b[0m\n",
            "\u001b[0;32m/usr/local/lib/python3.10/dist-packages/tensorflow/python/eager/polymorphic_function/polymorphic_function.py\u001b[0m in \u001b[0;36mwrapped_fn\u001b[0;34m(*args, **kwds)\u001b[0m\n\u001b[1;32m    596\u001b[0m         \u001b[0;31m# the function a weak reference to itself to avoid a reference cycle.\u001b[0m\u001b[0;34m\u001b[0m\u001b[0;34m\u001b[0m\u001b[0m\n\u001b[1;32m    597\u001b[0m         \u001b[0;32mwith\u001b[0m \u001b[0mOptionalXlaContext\u001b[0m\u001b[0;34m(\u001b[0m\u001b[0mcompile_with_xla\u001b[0m\u001b[0;34m)\u001b[0m\u001b[0;34m:\u001b[0m\u001b[0;34m\u001b[0m\u001b[0;34m\u001b[0m\u001b[0m\n\u001b[0;32m--> 598\u001b[0;31m           \u001b[0mout\u001b[0m \u001b[0;34m=\u001b[0m \u001b[0mweak_wrapped_fn\u001b[0m\u001b[0;34m(\u001b[0m\u001b[0;34m)\u001b[0m\u001b[0;34m.\u001b[0m\u001b[0m__wrapped__\u001b[0m\u001b[0;34m(\u001b[0m\u001b[0;34m*\u001b[0m\u001b[0margs\u001b[0m\u001b[0;34m,\u001b[0m \u001b[0;34m**\u001b[0m\u001b[0mkwds\u001b[0m\u001b[0;34m)\u001b[0m\u001b[0;34m\u001b[0m\u001b[0;34m\u001b[0m\u001b[0m\n\u001b[0m\u001b[1;32m    599\u001b[0m         \u001b[0;32mreturn\u001b[0m \u001b[0mout\u001b[0m\u001b[0;34m\u001b[0m\u001b[0;34m\u001b[0m\u001b[0m\n\u001b[1;32m    600\u001b[0m \u001b[0;34m\u001b[0m\u001b[0m\n",
            "\u001b[0;32m/usr/local/lib/python3.10/dist-packages/tensorflow/python/eager/polymorphic_function/autograph_util.py\u001b[0m in \u001b[0;36mautograph_handler\u001b[0;34m(*args, **kwargs)\u001b[0m\n\u001b[1;32m     39\u001b[0m     \u001b[0;34m\"\"\"Calls a converted version of original_func.\"\"\"\u001b[0m\u001b[0;34m\u001b[0m\u001b[0;34m\u001b[0m\u001b[0m\n\u001b[1;32m     40\u001b[0m     \u001b[0;32mtry\u001b[0m\u001b[0;34m:\u001b[0m\u001b[0;34m\u001b[0m\u001b[0;34m\u001b[0m\u001b[0m\n\u001b[0;32m---> 41\u001b[0;31m       return api.converted_call(\n\u001b[0m\u001b[1;32m     42\u001b[0m           \u001b[0moriginal_func\u001b[0m\u001b[0;34m,\u001b[0m\u001b[0;34m\u001b[0m\u001b[0;34m\u001b[0m\u001b[0m\n\u001b[1;32m     43\u001b[0m           \u001b[0margs\u001b[0m\u001b[0;34m,\u001b[0m\u001b[0;34m\u001b[0m\u001b[0;34m\u001b[0m\u001b[0m\n",
            "\u001b[0;32m/usr/local/lib/python3.10/dist-packages/tensorflow/python/autograph/impl/api.py\u001b[0m in \u001b[0;36mconverted_call\u001b[0;34m(f, args, kwargs, caller_fn_scope, options)\u001b[0m\n\u001b[1;32m    437\u001b[0m     \u001b[0;32mtry\u001b[0m\u001b[0;34m:\u001b[0m\u001b[0;34m\u001b[0m\u001b[0;34m\u001b[0m\u001b[0m\n\u001b[1;32m    438\u001b[0m       \u001b[0;32mif\u001b[0m \u001b[0mkwargs\u001b[0m \u001b[0;32mis\u001b[0m \u001b[0;32mnot\u001b[0m \u001b[0;32mNone\u001b[0m\u001b[0;34m:\u001b[0m\u001b[0;34m\u001b[0m\u001b[0;34m\u001b[0m\u001b[0m\n\u001b[0;32m--> 439\u001b[0;31m         \u001b[0mresult\u001b[0m \u001b[0;34m=\u001b[0m \u001b[0mconverted_f\u001b[0m\u001b[0;34m(\u001b[0m\u001b[0;34m*\u001b[0m\u001b[0meffective_args\u001b[0m\u001b[0;34m,\u001b[0m \u001b[0;34m**\u001b[0m\u001b[0mkwargs\u001b[0m\u001b[0;34m)\u001b[0m\u001b[0;34m\u001b[0m\u001b[0;34m\u001b[0m\u001b[0m\n\u001b[0m\u001b[1;32m    440\u001b[0m       \u001b[0;32melse\u001b[0m\u001b[0;34m:\u001b[0m\u001b[0;34m\u001b[0m\u001b[0;34m\u001b[0m\u001b[0m\n\u001b[1;32m    441\u001b[0m         \u001b[0mresult\u001b[0m \u001b[0;34m=\u001b[0m \u001b[0mconverted_f\u001b[0m\u001b[0;34m(\u001b[0m\u001b[0;34m*\u001b[0m\u001b[0meffective_args\u001b[0m\u001b[0;34m)\u001b[0m\u001b[0;34m\u001b[0m\u001b[0;34m\u001b[0m\u001b[0m\n",
            "\u001b[0;32m/usr/local/lib/python3.10/dist-packages/keras/src/engine/training.py\u001b[0m in \u001b[0;36mtf__train_function\u001b[0;34m(iterator)\u001b[0m\n\u001b[1;32m     13\u001b[0m                 \u001b[0;32mtry\u001b[0m\u001b[0;34m:\u001b[0m\u001b[0;34m\u001b[0m\u001b[0;34m\u001b[0m\u001b[0m\n\u001b[1;32m     14\u001b[0m                     \u001b[0mdo_return\u001b[0m \u001b[0;34m=\u001b[0m \u001b[0;32mTrue\u001b[0m\u001b[0;34m\u001b[0m\u001b[0;34m\u001b[0m\u001b[0m\n\u001b[0;32m---> 15\u001b[0;31m                     \u001b[0mretval_\u001b[0m \u001b[0;34m=\u001b[0m \u001b[0mag__\u001b[0m\u001b[0;34m.\u001b[0m\u001b[0mconverted_call\u001b[0m\u001b[0;34m(\u001b[0m\u001b[0mag__\u001b[0m\u001b[0;34m.\u001b[0m\u001b[0mld\u001b[0m\u001b[0;34m(\u001b[0m\u001b[0mstep_function\u001b[0m\u001b[0;34m)\u001b[0m\u001b[0;34m,\u001b[0m \u001b[0;34m(\u001b[0m\u001b[0mag__\u001b[0m\u001b[0;34m.\u001b[0m\u001b[0mld\u001b[0m\u001b[0;34m(\u001b[0m\u001b[0mself\u001b[0m\u001b[0;34m)\u001b[0m\u001b[0;34m,\u001b[0m \u001b[0mag__\u001b[0m\u001b[0;34m.\u001b[0m\u001b[0mld\u001b[0m\u001b[0;34m(\u001b[0m\u001b[0miterator\u001b[0m\u001b[0;34m)\u001b[0m\u001b[0;34m)\u001b[0m\u001b[0;34m,\u001b[0m \u001b[0;32mNone\u001b[0m\u001b[0;34m,\u001b[0m \u001b[0mfscope\u001b[0m\u001b[0;34m)\u001b[0m\u001b[0;34m\u001b[0m\u001b[0;34m\u001b[0m\u001b[0m\n\u001b[0m\u001b[1;32m     16\u001b[0m                 \u001b[0;32mexcept\u001b[0m\u001b[0;34m:\u001b[0m\u001b[0;34m\u001b[0m\u001b[0;34m\u001b[0m\u001b[0m\n\u001b[1;32m     17\u001b[0m                     \u001b[0mdo_return\u001b[0m \u001b[0;34m=\u001b[0m \u001b[0;32mFalse\u001b[0m\u001b[0;34m\u001b[0m\u001b[0;34m\u001b[0m\u001b[0m\n",
            "\u001b[0;32m/usr/local/lib/python3.10/dist-packages/tensorflow/python/autograph/impl/api.py\u001b[0m in \u001b[0;36mconverted_call\u001b[0;34m(f, args, kwargs, caller_fn_scope, options)\u001b[0m\n\u001b[1;32m    329\u001b[0m   \u001b[0;32mif\u001b[0m \u001b[0mconversion\u001b[0m\u001b[0;34m.\u001b[0m\u001b[0mis_in_allowlist_cache\u001b[0m\u001b[0;34m(\u001b[0m\u001b[0mf\u001b[0m\u001b[0;34m,\u001b[0m \u001b[0moptions\u001b[0m\u001b[0;34m)\u001b[0m\u001b[0;34m:\u001b[0m\u001b[0;34m\u001b[0m\u001b[0;34m\u001b[0m\u001b[0m\n\u001b[1;32m    330\u001b[0m     \u001b[0mlogging\u001b[0m\u001b[0;34m.\u001b[0m\u001b[0mlog\u001b[0m\u001b[0;34m(\u001b[0m\u001b[0;36m2\u001b[0m\u001b[0;34m,\u001b[0m \u001b[0;34m'Allowlisted %s: from cache'\u001b[0m\u001b[0;34m,\u001b[0m \u001b[0mf\u001b[0m\u001b[0;34m)\u001b[0m\u001b[0;34m\u001b[0m\u001b[0;34m\u001b[0m\u001b[0m\n\u001b[0;32m--> 331\u001b[0;31m     \u001b[0;32mreturn\u001b[0m \u001b[0m_call_unconverted\u001b[0m\u001b[0;34m(\u001b[0m\u001b[0mf\u001b[0m\u001b[0;34m,\u001b[0m \u001b[0margs\u001b[0m\u001b[0;34m,\u001b[0m \u001b[0mkwargs\u001b[0m\u001b[0;34m,\u001b[0m \u001b[0moptions\u001b[0m\u001b[0;34m,\u001b[0m \u001b[0;32mFalse\u001b[0m\u001b[0;34m)\u001b[0m\u001b[0;34m\u001b[0m\u001b[0;34m\u001b[0m\u001b[0m\n\u001b[0m\u001b[1;32m    332\u001b[0m \u001b[0;34m\u001b[0m\u001b[0m\n\u001b[1;32m    333\u001b[0m   \u001b[0;32mif\u001b[0m \u001b[0mag_ctx\u001b[0m\u001b[0;34m.\u001b[0m\u001b[0mcontrol_status_ctx\u001b[0m\u001b[0;34m(\u001b[0m\u001b[0;34m)\u001b[0m\u001b[0;34m.\u001b[0m\u001b[0mstatus\u001b[0m \u001b[0;34m==\u001b[0m \u001b[0mag_ctx\u001b[0m\u001b[0;34m.\u001b[0m\u001b[0mStatus\u001b[0m\u001b[0;34m.\u001b[0m\u001b[0mDISABLED\u001b[0m\u001b[0;34m:\u001b[0m\u001b[0;34m\u001b[0m\u001b[0;34m\u001b[0m\u001b[0m\n",
            "\u001b[0;32m/usr/local/lib/python3.10/dist-packages/tensorflow/python/autograph/impl/api.py\u001b[0m in \u001b[0;36m_call_unconverted\u001b[0;34m(f, args, kwargs, options, update_cache)\u001b[0m\n\u001b[1;32m    458\u001b[0m   \u001b[0;32mif\u001b[0m \u001b[0mkwargs\u001b[0m \u001b[0;32mis\u001b[0m \u001b[0;32mnot\u001b[0m \u001b[0;32mNone\u001b[0m\u001b[0;34m:\u001b[0m\u001b[0;34m\u001b[0m\u001b[0;34m\u001b[0m\u001b[0m\n\u001b[1;32m    459\u001b[0m     \u001b[0;32mreturn\u001b[0m \u001b[0mf\u001b[0m\u001b[0;34m(\u001b[0m\u001b[0;34m*\u001b[0m\u001b[0margs\u001b[0m\u001b[0;34m,\u001b[0m \u001b[0;34m**\u001b[0m\u001b[0mkwargs\u001b[0m\u001b[0;34m)\u001b[0m\u001b[0;34m\u001b[0m\u001b[0;34m\u001b[0m\u001b[0m\n\u001b[0;32m--> 460\u001b[0;31m   \u001b[0;32mreturn\u001b[0m \u001b[0mf\u001b[0m\u001b[0;34m(\u001b[0m\u001b[0;34m*\u001b[0m\u001b[0margs\u001b[0m\u001b[0;34m)\u001b[0m\u001b[0;34m\u001b[0m\u001b[0;34m\u001b[0m\u001b[0m\n\u001b[0m\u001b[1;32m    461\u001b[0m \u001b[0;34m\u001b[0m\u001b[0m\n\u001b[1;32m    462\u001b[0m \u001b[0;34m\u001b[0m\u001b[0m\n",
            "\u001b[0;32m/usr/local/lib/python3.10/dist-packages/keras/src/engine/training.py\u001b[0m in \u001b[0;36mstep_function\u001b[0;34m(model, iterator)\u001b[0m\n\u001b[1;32m   1382\u001b[0m                 )\n\u001b[1;32m   1383\u001b[0m             \u001b[0mdata\u001b[0m \u001b[0;34m=\u001b[0m \u001b[0mnext\u001b[0m\u001b[0;34m(\u001b[0m\u001b[0miterator\u001b[0m\u001b[0;34m)\u001b[0m\u001b[0;34m\u001b[0m\u001b[0;34m\u001b[0m\u001b[0m\n\u001b[0;32m-> 1384\u001b[0;31m             \u001b[0moutputs\u001b[0m \u001b[0;34m=\u001b[0m \u001b[0mmodel\u001b[0m\u001b[0;34m.\u001b[0m\u001b[0mdistribute_strategy\u001b[0m\u001b[0;34m.\u001b[0m\u001b[0mrun\u001b[0m\u001b[0;34m(\u001b[0m\u001b[0mrun_step\u001b[0m\u001b[0;34m,\u001b[0m \u001b[0margs\u001b[0m\u001b[0;34m=\u001b[0m\u001b[0;34m(\u001b[0m\u001b[0mdata\u001b[0m\u001b[0;34m,\u001b[0m\u001b[0;34m)\u001b[0m\u001b[0;34m)\u001b[0m\u001b[0;34m\u001b[0m\u001b[0;34m\u001b[0m\u001b[0m\n\u001b[0m\u001b[1;32m   1385\u001b[0m             outputs = reduce_per_replica(\n\u001b[1;32m   1386\u001b[0m                 \u001b[0moutputs\u001b[0m\u001b[0;34m,\u001b[0m\u001b[0;34m\u001b[0m\u001b[0;34m\u001b[0m\u001b[0m\n",
            "\u001b[0;32m/usr/local/lib/python3.10/dist-packages/tensorflow/python/distribute/distribute_lib.py\u001b[0m in \u001b[0;36mrun\u001b[0;34m(***failed resolving arguments***)\u001b[0m\n\u001b[1;32m   1679\u001b[0m       fn = autograph.tf_convert(\n\u001b[1;32m   1680\u001b[0m           fn, autograph_ctx.control_status_ctx(), convert_by_default=False)\n\u001b[0;32m-> 1681\u001b[0;31m       \u001b[0;32mreturn\u001b[0m \u001b[0mself\u001b[0m\u001b[0;34m.\u001b[0m\u001b[0m_extended\u001b[0m\u001b[0;34m.\u001b[0m\u001b[0mcall_for_each_replica\u001b[0m\u001b[0;34m(\u001b[0m\u001b[0mfn\u001b[0m\u001b[0;34m,\u001b[0m \u001b[0margs\u001b[0m\u001b[0;34m=\u001b[0m\u001b[0margs\u001b[0m\u001b[0;34m,\u001b[0m \u001b[0mkwargs\u001b[0m\u001b[0;34m=\u001b[0m\u001b[0mkwargs\u001b[0m\u001b[0;34m)\u001b[0m\u001b[0;34m\u001b[0m\u001b[0;34m\u001b[0m\u001b[0m\n\u001b[0m\u001b[1;32m   1682\u001b[0m \u001b[0;34m\u001b[0m\u001b[0m\n\u001b[1;32m   1683\u001b[0m   \u001b[0;32mdef\u001b[0m \u001b[0mreduce\u001b[0m\u001b[0;34m(\u001b[0m\u001b[0mself\u001b[0m\u001b[0;34m,\u001b[0m \u001b[0mreduce_op\u001b[0m\u001b[0;34m,\u001b[0m \u001b[0mvalue\u001b[0m\u001b[0;34m,\u001b[0m \u001b[0maxis\u001b[0m\u001b[0;34m)\u001b[0m\u001b[0;34m:\u001b[0m\u001b[0;34m\u001b[0m\u001b[0;34m\u001b[0m\u001b[0m\n",
            "\u001b[0;32m/usr/local/lib/python3.10/dist-packages/tensorflow/python/distribute/distribute_lib.py\u001b[0m in \u001b[0;36mcall_for_each_replica\u001b[0;34m(self, fn, args, kwargs)\u001b[0m\n\u001b[1;32m   3269\u001b[0m       \u001b[0mkwargs\u001b[0m \u001b[0;34m=\u001b[0m \u001b[0;34m{\u001b[0m\u001b[0;34m}\u001b[0m\u001b[0;34m\u001b[0m\u001b[0;34m\u001b[0m\u001b[0m\n\u001b[1;32m   3270\u001b[0m     \u001b[0;32mwith\u001b[0m \u001b[0mself\u001b[0m\u001b[0;34m.\u001b[0m\u001b[0m_container_strategy\u001b[0m\u001b[0;34m(\u001b[0m\u001b[0;34m)\u001b[0m\u001b[0;34m.\u001b[0m\u001b[0mscope\u001b[0m\u001b[0;34m(\u001b[0m\u001b[0;34m)\u001b[0m\u001b[0;34m:\u001b[0m\u001b[0;34m\u001b[0m\u001b[0;34m\u001b[0m\u001b[0m\n\u001b[0;32m-> 3271\u001b[0;31m       \u001b[0;32mreturn\u001b[0m \u001b[0mself\u001b[0m\u001b[0;34m.\u001b[0m\u001b[0m_call_for_each_replica\u001b[0m\u001b[0;34m(\u001b[0m\u001b[0mfn\u001b[0m\u001b[0;34m,\u001b[0m \u001b[0margs\u001b[0m\u001b[0;34m,\u001b[0m \u001b[0mkwargs\u001b[0m\u001b[0;34m)\u001b[0m\u001b[0;34m\u001b[0m\u001b[0;34m\u001b[0m\u001b[0m\n\u001b[0m\u001b[1;32m   3272\u001b[0m \u001b[0;34m\u001b[0m\u001b[0m\n\u001b[1;32m   3273\u001b[0m   \u001b[0;32mdef\u001b[0m \u001b[0m_call_for_each_replica\u001b[0m\u001b[0;34m(\u001b[0m\u001b[0mself\u001b[0m\u001b[0;34m,\u001b[0m \u001b[0mfn\u001b[0m\u001b[0;34m,\u001b[0m \u001b[0margs\u001b[0m\u001b[0;34m,\u001b[0m \u001b[0mkwargs\u001b[0m\u001b[0;34m)\u001b[0m\u001b[0;34m:\u001b[0m\u001b[0;34m\u001b[0m\u001b[0;34m\u001b[0m\u001b[0m\n",
            "\u001b[0;32m/usr/local/lib/python3.10/dist-packages/tensorflow/python/distribute/distribute_lib.py\u001b[0m in \u001b[0;36m_call_for_each_replica\u001b[0;34m(self, fn, args, kwargs)\u001b[0m\n\u001b[1;32m   4067\u001b[0m   \u001b[0;32mdef\u001b[0m \u001b[0m_call_for_each_replica\u001b[0m\u001b[0;34m(\u001b[0m\u001b[0mself\u001b[0m\u001b[0;34m,\u001b[0m \u001b[0mfn\u001b[0m\u001b[0;34m,\u001b[0m \u001b[0margs\u001b[0m\u001b[0;34m,\u001b[0m \u001b[0mkwargs\u001b[0m\u001b[0;34m)\u001b[0m\u001b[0;34m:\u001b[0m\u001b[0;34m\u001b[0m\u001b[0;34m\u001b[0m\u001b[0m\n\u001b[1;32m   4068\u001b[0m     \u001b[0;32mwith\u001b[0m \u001b[0mReplicaContext\u001b[0m\u001b[0;34m(\u001b[0m\u001b[0mself\u001b[0m\u001b[0;34m.\u001b[0m\u001b[0m_container_strategy\u001b[0m\u001b[0;34m(\u001b[0m\u001b[0;34m)\u001b[0m\u001b[0;34m,\u001b[0m \u001b[0mreplica_id_in_sync_group\u001b[0m\u001b[0;34m=\u001b[0m\u001b[0;36m0\u001b[0m\u001b[0;34m)\u001b[0m\u001b[0;34m:\u001b[0m\u001b[0;34m\u001b[0m\u001b[0;34m\u001b[0m\u001b[0m\n\u001b[0;32m-> 4069\u001b[0;31m       \u001b[0;32mreturn\u001b[0m \u001b[0mfn\u001b[0m\u001b[0;34m(\u001b[0m\u001b[0;34m*\u001b[0m\u001b[0margs\u001b[0m\u001b[0;34m,\u001b[0m \u001b[0;34m**\u001b[0m\u001b[0mkwargs\u001b[0m\u001b[0;34m)\u001b[0m\u001b[0;34m\u001b[0m\u001b[0;34m\u001b[0m\u001b[0m\n\u001b[0m\u001b[1;32m   4070\u001b[0m \u001b[0;34m\u001b[0m\u001b[0m\n\u001b[1;32m   4071\u001b[0m   \u001b[0;32mdef\u001b[0m \u001b[0m_reduce_to\u001b[0m\u001b[0;34m(\u001b[0m\u001b[0mself\u001b[0m\u001b[0;34m,\u001b[0m \u001b[0mreduce_op\u001b[0m\u001b[0;34m,\u001b[0m \u001b[0mvalue\u001b[0m\u001b[0;34m,\u001b[0m \u001b[0mdestinations\u001b[0m\u001b[0;34m,\u001b[0m \u001b[0moptions\u001b[0m\u001b[0;34m)\u001b[0m\u001b[0;34m:\u001b[0m\u001b[0;34m\u001b[0m\u001b[0;34m\u001b[0m\u001b[0m\n",
            "\u001b[0;32m/usr/local/lib/python3.10/dist-packages/tensorflow/python/autograph/impl/api.py\u001b[0m in \u001b[0;36mwrapper\u001b[0;34m(*args, **kwargs)\u001b[0m\n\u001b[1;32m    688\u001b[0m       \u001b[0;32mtry\u001b[0m\u001b[0;34m:\u001b[0m\u001b[0;34m\u001b[0m\u001b[0;34m\u001b[0m\u001b[0m\n\u001b[1;32m    689\u001b[0m         \u001b[0;32mwith\u001b[0m \u001b[0mconversion_ctx\u001b[0m\u001b[0;34m:\u001b[0m\u001b[0;34m\u001b[0m\u001b[0;34m\u001b[0m\u001b[0m\n\u001b[0;32m--> 690\u001b[0;31m           \u001b[0;32mreturn\u001b[0m \u001b[0mconverted_call\u001b[0m\u001b[0;34m(\u001b[0m\u001b[0mf\u001b[0m\u001b[0;34m,\u001b[0m \u001b[0margs\u001b[0m\u001b[0;34m,\u001b[0m \u001b[0mkwargs\u001b[0m\u001b[0;34m,\u001b[0m \u001b[0moptions\u001b[0m\u001b[0;34m=\u001b[0m\u001b[0moptions\u001b[0m\u001b[0;34m)\u001b[0m\u001b[0;34m\u001b[0m\u001b[0;34m\u001b[0m\u001b[0m\n\u001b[0m\u001b[1;32m    691\u001b[0m       \u001b[0;32mexcept\u001b[0m \u001b[0mException\u001b[0m \u001b[0;32mas\u001b[0m \u001b[0me\u001b[0m\u001b[0;34m:\u001b[0m  \u001b[0;31m# pylint:disable=broad-except\u001b[0m\u001b[0;34m\u001b[0m\u001b[0;34m\u001b[0m\u001b[0m\n\u001b[1;32m    692\u001b[0m         \u001b[0;32mif\u001b[0m \u001b[0mhasattr\u001b[0m\u001b[0;34m(\u001b[0m\u001b[0me\u001b[0m\u001b[0;34m,\u001b[0m \u001b[0;34m'ag_error_metadata'\u001b[0m\u001b[0;34m)\u001b[0m\u001b[0;34m:\u001b[0m\u001b[0;34m\u001b[0m\u001b[0;34m\u001b[0m\u001b[0m\n",
            "\u001b[0;32m/usr/local/lib/python3.10/dist-packages/tensorflow/python/autograph/impl/api.py\u001b[0m in \u001b[0;36mconverted_call\u001b[0;34m(f, args, kwargs, caller_fn_scope, options)\u001b[0m\n\u001b[1;32m    375\u001b[0m \u001b[0;34m\u001b[0m\u001b[0m\n\u001b[1;32m    376\u001b[0m   \u001b[0;32mif\u001b[0m \u001b[0;32mnot\u001b[0m \u001b[0moptions\u001b[0m\u001b[0;34m.\u001b[0m\u001b[0muser_requested\u001b[0m \u001b[0;32mand\u001b[0m \u001b[0mconversion\u001b[0m\u001b[0;34m.\u001b[0m\u001b[0mis_allowlisted\u001b[0m\u001b[0;34m(\u001b[0m\u001b[0mf\u001b[0m\u001b[0;34m)\u001b[0m\u001b[0;34m:\u001b[0m\u001b[0;34m\u001b[0m\u001b[0;34m\u001b[0m\u001b[0m\n\u001b[0;32m--> 377\u001b[0;31m     \u001b[0;32mreturn\u001b[0m \u001b[0m_call_unconverted\u001b[0m\u001b[0;34m(\u001b[0m\u001b[0mf\u001b[0m\u001b[0;34m,\u001b[0m \u001b[0margs\u001b[0m\u001b[0;34m,\u001b[0m \u001b[0mkwargs\u001b[0m\u001b[0;34m,\u001b[0m \u001b[0moptions\u001b[0m\u001b[0;34m)\u001b[0m\u001b[0;34m\u001b[0m\u001b[0;34m\u001b[0m\u001b[0m\n\u001b[0m\u001b[1;32m    378\u001b[0m \u001b[0;34m\u001b[0m\u001b[0m\n\u001b[1;32m    379\u001b[0m   \u001b[0;31m# internal_convert_user_code is for example turned off when issuing a dynamic\u001b[0m\u001b[0;34m\u001b[0m\u001b[0;34m\u001b[0m\u001b[0m\n",
            "\u001b[0;32m/usr/local/lib/python3.10/dist-packages/tensorflow/python/autograph/impl/api.py\u001b[0m in \u001b[0;36m_call_unconverted\u001b[0;34m(f, args, kwargs, options, update_cache)\u001b[0m\n\u001b[1;32m    457\u001b[0m \u001b[0;34m\u001b[0m\u001b[0m\n\u001b[1;32m    458\u001b[0m   \u001b[0;32mif\u001b[0m \u001b[0mkwargs\u001b[0m \u001b[0;32mis\u001b[0m \u001b[0;32mnot\u001b[0m \u001b[0;32mNone\u001b[0m\u001b[0;34m:\u001b[0m\u001b[0;34m\u001b[0m\u001b[0;34m\u001b[0m\u001b[0m\n\u001b[0;32m--> 459\u001b[0;31m     \u001b[0;32mreturn\u001b[0m \u001b[0mf\u001b[0m\u001b[0;34m(\u001b[0m\u001b[0;34m*\u001b[0m\u001b[0margs\u001b[0m\u001b[0;34m,\u001b[0m \u001b[0;34m**\u001b[0m\u001b[0mkwargs\u001b[0m\u001b[0;34m)\u001b[0m\u001b[0;34m\u001b[0m\u001b[0;34m\u001b[0m\u001b[0m\n\u001b[0m\u001b[1;32m    460\u001b[0m   \u001b[0;32mreturn\u001b[0m \u001b[0mf\u001b[0m\u001b[0;34m(\u001b[0m\u001b[0;34m*\u001b[0m\u001b[0margs\u001b[0m\u001b[0;34m)\u001b[0m\u001b[0;34m\u001b[0m\u001b[0;34m\u001b[0m\u001b[0m\n\u001b[1;32m    461\u001b[0m \u001b[0;34m\u001b[0m\u001b[0m\n",
            "\u001b[0;32m/usr/local/lib/python3.10/dist-packages/keras/src/engine/training.py\u001b[0m in \u001b[0;36mrun_step\u001b[0;34m(data)\u001b[0m\n\u001b[1;32m   1371\u001b[0m \u001b[0;34m\u001b[0m\u001b[0m\n\u001b[1;32m   1372\u001b[0m             \u001b[0;32mdef\u001b[0m \u001b[0mrun_step\u001b[0m\u001b[0;34m(\u001b[0m\u001b[0mdata\u001b[0m\u001b[0;34m)\u001b[0m\u001b[0;34m:\u001b[0m\u001b[0;34m\u001b[0m\u001b[0;34m\u001b[0m\u001b[0m\n\u001b[0;32m-> 1373\u001b[0;31m                 \u001b[0moutputs\u001b[0m \u001b[0;34m=\u001b[0m \u001b[0mmodel\u001b[0m\u001b[0;34m.\u001b[0m\u001b[0mtrain_step\u001b[0m\u001b[0;34m(\u001b[0m\u001b[0mdata\u001b[0m\u001b[0;34m)\u001b[0m\u001b[0;34m\u001b[0m\u001b[0;34m\u001b[0m\u001b[0m\n\u001b[0m\u001b[1;32m   1374\u001b[0m                 \u001b[0;31m# Ensure counter is updated only if `train_step` succeeds.\u001b[0m\u001b[0;34m\u001b[0m\u001b[0;34m\u001b[0m\u001b[0m\n\u001b[1;32m   1375\u001b[0m                 \u001b[0;32mwith\u001b[0m \u001b[0mtf\u001b[0m\u001b[0;34m.\u001b[0m\u001b[0mcontrol_dependencies\u001b[0m\u001b[0;34m(\u001b[0m\u001b[0m_minimum_control_deps\u001b[0m\u001b[0;34m(\u001b[0m\u001b[0moutputs\u001b[0m\u001b[0;34m)\u001b[0m\u001b[0;34m)\u001b[0m\u001b[0;34m:\u001b[0m\u001b[0;34m\u001b[0m\u001b[0;34m\u001b[0m\u001b[0m\n",
            "\u001b[0;32m/usr/local/lib/python3.10/dist-packages/keras/src/engine/training.py\u001b[0m in \u001b[0;36mtrain_step\u001b[0;34m(self, data)\u001b[0m\n\u001b[1;32m   1152\u001b[0m         \u001b[0mself\u001b[0m\u001b[0;34m.\u001b[0m\u001b[0m_validate_target_and_loss\u001b[0m\u001b[0;34m(\u001b[0m\u001b[0my\u001b[0m\u001b[0;34m,\u001b[0m \u001b[0mloss\u001b[0m\u001b[0;34m)\u001b[0m\u001b[0;34m\u001b[0m\u001b[0;34m\u001b[0m\u001b[0m\n\u001b[1;32m   1153\u001b[0m         \u001b[0;31m# Run backwards pass.\u001b[0m\u001b[0;34m\u001b[0m\u001b[0;34m\u001b[0m\u001b[0m\n\u001b[0;32m-> 1154\u001b[0;31m         \u001b[0mself\u001b[0m\u001b[0;34m.\u001b[0m\u001b[0moptimizer\u001b[0m\u001b[0;34m.\u001b[0m\u001b[0mminimize\u001b[0m\u001b[0;34m(\u001b[0m\u001b[0mloss\u001b[0m\u001b[0;34m,\u001b[0m \u001b[0mself\u001b[0m\u001b[0;34m.\u001b[0m\u001b[0mtrainable_variables\u001b[0m\u001b[0;34m,\u001b[0m \u001b[0mtape\u001b[0m\u001b[0;34m=\u001b[0m\u001b[0mtape\u001b[0m\u001b[0;34m)\u001b[0m\u001b[0;34m\u001b[0m\u001b[0;34m\u001b[0m\u001b[0m\n\u001b[0m\u001b[1;32m   1155\u001b[0m         \u001b[0;32mreturn\u001b[0m \u001b[0mself\u001b[0m\u001b[0;34m.\u001b[0m\u001b[0mcompute_metrics\u001b[0m\u001b[0;34m(\u001b[0m\u001b[0mx\u001b[0m\u001b[0;34m,\u001b[0m \u001b[0my\u001b[0m\u001b[0;34m,\u001b[0m \u001b[0my_pred\u001b[0m\u001b[0;34m,\u001b[0m \u001b[0msample_weight\u001b[0m\u001b[0;34m)\u001b[0m\u001b[0;34m\u001b[0m\u001b[0;34m\u001b[0m\u001b[0m\n\u001b[1;32m   1156\u001b[0m \u001b[0;34m\u001b[0m\u001b[0m\n",
            "\u001b[0;32m/usr/local/lib/python3.10/dist-packages/keras/src/optimizers/optimizer.py\u001b[0m in \u001b[0;36mminimize\u001b[0;34m(self, loss, var_list, tape)\u001b[0m\n\u001b[1;32m    541\u001b[0m           \u001b[0;32mNone\u001b[0m\u001b[0;34m\u001b[0m\u001b[0;34m\u001b[0m\u001b[0m\n\u001b[1;32m    542\u001b[0m         \"\"\"\n\u001b[0;32m--> 543\u001b[0;31m         \u001b[0mgrads_and_vars\u001b[0m \u001b[0;34m=\u001b[0m \u001b[0mself\u001b[0m\u001b[0;34m.\u001b[0m\u001b[0mcompute_gradients\u001b[0m\u001b[0;34m(\u001b[0m\u001b[0mloss\u001b[0m\u001b[0;34m,\u001b[0m \u001b[0mvar_list\u001b[0m\u001b[0;34m,\u001b[0m \u001b[0mtape\u001b[0m\u001b[0;34m)\u001b[0m\u001b[0;34m\u001b[0m\u001b[0;34m\u001b[0m\u001b[0m\n\u001b[0m\u001b[1;32m    544\u001b[0m         \u001b[0mself\u001b[0m\u001b[0;34m.\u001b[0m\u001b[0mapply_gradients\u001b[0m\u001b[0;34m(\u001b[0m\u001b[0mgrads_and_vars\u001b[0m\u001b[0;34m)\u001b[0m\u001b[0;34m\u001b[0m\u001b[0;34m\u001b[0m\u001b[0m\n\u001b[1;32m    545\u001b[0m \u001b[0;34m\u001b[0m\u001b[0m\n",
            "\u001b[0;32m/usr/local/lib/python3.10/dist-packages/keras/src/optimizers/optimizer.py\u001b[0m in \u001b[0;36mcompute_gradients\u001b[0;34m(self, loss, var_list, tape)\u001b[0m\n\u001b[1;32m    274\u001b[0m                     \u001b[0mvar_list\u001b[0m \u001b[0;34m=\u001b[0m \u001b[0mvar_list\u001b[0m\u001b[0;34m(\u001b[0m\u001b[0;34m)\u001b[0m\u001b[0;34m\u001b[0m\u001b[0;34m\u001b[0m\u001b[0m\n\u001b[1;32m    275\u001b[0m \u001b[0;34m\u001b[0m\u001b[0m\n\u001b[0;32m--> 276\u001b[0;31m         \u001b[0mgrads\u001b[0m \u001b[0;34m=\u001b[0m \u001b[0mtape\u001b[0m\u001b[0;34m.\u001b[0m\u001b[0mgradient\u001b[0m\u001b[0;34m(\u001b[0m\u001b[0mloss\u001b[0m\u001b[0;34m,\u001b[0m \u001b[0mvar_list\u001b[0m\u001b[0;34m)\u001b[0m\u001b[0;34m\u001b[0m\u001b[0;34m\u001b[0m\u001b[0m\n\u001b[0m\u001b[1;32m    277\u001b[0m         \u001b[0;32mreturn\u001b[0m \u001b[0mlist\u001b[0m\u001b[0;34m(\u001b[0m\u001b[0mzip\u001b[0m\u001b[0;34m(\u001b[0m\u001b[0mgrads\u001b[0m\u001b[0;34m,\u001b[0m \u001b[0mvar_list\u001b[0m\u001b[0;34m)\u001b[0m\u001b[0;34m)\u001b[0m\u001b[0;34m\u001b[0m\u001b[0;34m\u001b[0m\u001b[0m\n\u001b[1;32m    278\u001b[0m \u001b[0;34m\u001b[0m\u001b[0m\n",
            "\u001b[0;32m/usr/local/lib/python3.10/dist-packages/tensorflow/python/eager/backprop.py\u001b[0m in \u001b[0;36mgradient\u001b[0;34m(self, target, sources, output_gradients, unconnected_gradients)\u001b[0m\n\u001b[1;32m   1064\u001b[0m                           for x in output_gradients]\n\u001b[1;32m   1065\u001b[0m \u001b[0;34m\u001b[0m\u001b[0m\n\u001b[0;32m-> 1066\u001b[0;31m     flat_grad = imperative_grad.imperative_grad(\n\u001b[0m\u001b[1;32m   1067\u001b[0m         \u001b[0mself\u001b[0m\u001b[0;34m.\u001b[0m\u001b[0m_tape\u001b[0m\u001b[0;34m,\u001b[0m\u001b[0;34m\u001b[0m\u001b[0;34m\u001b[0m\u001b[0m\n\u001b[1;32m   1068\u001b[0m         \u001b[0mflat_targets\u001b[0m\u001b[0;34m,\u001b[0m\u001b[0;34m\u001b[0m\u001b[0;34m\u001b[0m\u001b[0m\n",
            "\u001b[0;32m/usr/local/lib/python3.10/dist-packages/tensorflow/python/eager/imperative_grad.py\u001b[0m in \u001b[0;36mimperative_grad\u001b[0;34m(tape, target, sources, output_gradients, sources_raw, unconnected_gradients)\u001b[0m\n\u001b[1;32m     65\u001b[0m         \"Unknown value for unconnected_gradients: %r\" % unconnected_gradients)\n\u001b[1;32m     66\u001b[0m \u001b[0;34m\u001b[0m\u001b[0m\n\u001b[0;32m---> 67\u001b[0;31m   return pywrap_tfe.TFE_Py_TapeGradient(\n\u001b[0m\u001b[1;32m     68\u001b[0m       \u001b[0mtape\u001b[0m\u001b[0;34m.\u001b[0m\u001b[0m_tape\u001b[0m\u001b[0;34m,\u001b[0m  \u001b[0;31m# pylint: disable=protected-access\u001b[0m\u001b[0;34m\u001b[0m\u001b[0;34m\u001b[0m\u001b[0m\n\u001b[1;32m     69\u001b[0m       \u001b[0mtarget\u001b[0m\u001b[0;34m,\u001b[0m\u001b[0;34m\u001b[0m\u001b[0;34m\u001b[0m\u001b[0m\n",
            "\u001b[0;32m/usr/local/lib/python3.10/dist-packages/tensorflow/python/eager/backprop.py\u001b[0m in \u001b[0;36m_gradient_function\u001b[0;34m(op_name, attr_tuple, num_inputs, inputs, outputs, out_grads, skip_input_indices, forward_pass_name_scope)\u001b[0m\n\u001b[1;32m    146\u001b[0m       \u001b[0mgradient_name_scope\u001b[0m \u001b[0;34m+=\u001b[0m \u001b[0mforward_pass_name_scope\u001b[0m \u001b[0;34m+\u001b[0m \u001b[0;34m\"/\"\u001b[0m\u001b[0;34m\u001b[0m\u001b[0;34m\u001b[0m\u001b[0m\n\u001b[1;32m    147\u001b[0m     \u001b[0;32mwith\u001b[0m \u001b[0mops\u001b[0m\u001b[0;34m.\u001b[0m\u001b[0mname_scope\u001b[0m\u001b[0;34m(\u001b[0m\u001b[0mgradient_name_scope\u001b[0m\u001b[0;34m)\u001b[0m\u001b[0;34m:\u001b[0m\u001b[0;34m\u001b[0m\u001b[0;34m\u001b[0m\u001b[0m\n\u001b[0;32m--> 148\u001b[0;31m       \u001b[0;32mreturn\u001b[0m \u001b[0mgrad_fn\u001b[0m\u001b[0;34m(\u001b[0m\u001b[0mmock_op\u001b[0m\u001b[0;34m,\u001b[0m \u001b[0;34m*\u001b[0m\u001b[0mout_grads\u001b[0m\u001b[0;34m)\u001b[0m\u001b[0;34m\u001b[0m\u001b[0;34m\u001b[0m\u001b[0m\n\u001b[0m\u001b[1;32m    149\u001b[0m   \u001b[0;32melse\u001b[0m\u001b[0;34m:\u001b[0m\u001b[0;34m\u001b[0m\u001b[0;34m\u001b[0m\u001b[0m\n\u001b[1;32m    150\u001b[0m     \u001b[0;32mreturn\u001b[0m \u001b[0mgrad_fn\u001b[0m\u001b[0;34m(\u001b[0m\u001b[0mmock_op\u001b[0m\u001b[0;34m,\u001b[0m \u001b[0;34m*\u001b[0m\u001b[0mout_grads\u001b[0m\u001b[0;34m)\u001b[0m\u001b[0;34m\u001b[0m\u001b[0;34m\u001b[0m\u001b[0m\n",
            "\u001b[0;32m/usr/local/lib/python3.10/dist-packages/tensorflow/python/ops/math_grad.py\u001b[0m in \u001b[0;36m_MeanGrad\u001b[0;34m(op, grad)\u001b[0m\n\u001b[1;32m    265\u001b[0m \u001b[0;32mdef\u001b[0m \u001b[0m_MeanGrad\u001b[0m\u001b[0;34m(\u001b[0m\u001b[0mop\u001b[0m\u001b[0;34m:\u001b[0m \u001b[0mops\u001b[0m\u001b[0;34m.\u001b[0m\u001b[0mOperation\u001b[0m\u001b[0;34m,\u001b[0m \u001b[0mgrad\u001b[0m\u001b[0;34m)\u001b[0m\u001b[0;34m:\u001b[0m\u001b[0;34m\u001b[0m\u001b[0;34m\u001b[0m\u001b[0m\n\u001b[1;32m    266\u001b[0m   \u001b[0;34m\"\"\"Gradient for Mean.\"\"\"\u001b[0m\u001b[0;34m\u001b[0m\u001b[0;34m\u001b[0m\u001b[0m\n\u001b[0;32m--> 267\u001b[0;31m   \u001b[0msum_grad\u001b[0m \u001b[0;34m=\u001b[0m \u001b[0m_SumGrad\u001b[0m\u001b[0;34m(\u001b[0m\u001b[0mop\u001b[0m\u001b[0;34m,\u001b[0m \u001b[0mgrad\u001b[0m\u001b[0;34m)\u001b[0m\u001b[0;34m[\u001b[0m\u001b[0;36m0\u001b[0m\u001b[0;34m]\u001b[0m\u001b[0;34m\u001b[0m\u001b[0;34m\u001b[0m\u001b[0m\n\u001b[0m\u001b[1;32m    268\u001b[0m   \u001b[0minput_shape\u001b[0m \u001b[0;34m=\u001b[0m \u001b[0mop\u001b[0m\u001b[0;34m.\u001b[0m\u001b[0minputs\u001b[0m\u001b[0;34m[\u001b[0m\u001b[0;36m0\u001b[0m\u001b[0;34m]\u001b[0m\u001b[0;34m.\u001b[0m\u001b[0m_shape_tuple\u001b[0m\u001b[0;34m(\u001b[0m\u001b[0;34m)\u001b[0m  \u001b[0;31m# pylint: disable=protected-access\u001b[0m\u001b[0;34m\u001b[0m\u001b[0;34m\u001b[0m\u001b[0m\n\u001b[1;32m    269\u001b[0m   \u001b[0moutput_shape\u001b[0m \u001b[0;34m=\u001b[0m \u001b[0mop\u001b[0m\u001b[0;34m.\u001b[0m\u001b[0moutputs\u001b[0m\u001b[0;34m[\u001b[0m\u001b[0;36m0\u001b[0m\u001b[0;34m]\u001b[0m\u001b[0;34m.\u001b[0m\u001b[0m_shape_tuple\u001b[0m\u001b[0;34m(\u001b[0m\u001b[0;34m)\u001b[0m  \u001b[0;31m# pylint: disable=protected-access\u001b[0m\u001b[0;34m\u001b[0m\u001b[0;34m\u001b[0m\u001b[0m\n",
            "\u001b[0;32m/usr/local/lib/python3.10/dist-packages/tensorflow/python/ops/math_grad.py\u001b[0m in \u001b[0;36m_SumGrad\u001b[0;34m(op, grad)\u001b[0m\n\u001b[1;32m    218\u001b[0m         \u001b[0;32mreturn\u001b[0m \u001b[0;34m[\u001b[0m\u001b[0marray_ops\u001b[0m\u001b[0;34m.\u001b[0m\u001b[0mtile\u001b[0m\u001b[0;34m(\u001b[0m\u001b[0mgrad\u001b[0m\u001b[0;34m,\u001b[0m \u001b[0mtile_scaling\u001b[0m\u001b[0;34m)\u001b[0m\u001b[0;34m,\u001b[0m \u001b[0;32mNone\u001b[0m\u001b[0;34m]\u001b[0m\u001b[0;34m\u001b[0m\u001b[0;34m\u001b[0m\u001b[0m\n\u001b[1;32m    219\u001b[0m \u001b[0;34m\u001b[0m\u001b[0m\n\u001b[0;32m--> 220\u001b[0;31m   \u001b[0minput_shape\u001b[0m \u001b[0;34m=\u001b[0m \u001b[0marray_ops\u001b[0m\u001b[0;34m.\u001b[0m\u001b[0mshape\u001b[0m\u001b[0;34m(\u001b[0m\u001b[0mop\u001b[0m\u001b[0;34m.\u001b[0m\u001b[0minputs\u001b[0m\u001b[0;34m[\u001b[0m\u001b[0;36m0\u001b[0m\u001b[0;34m]\u001b[0m\u001b[0;34m)\u001b[0m\u001b[0;34m\u001b[0m\u001b[0;34m\u001b[0m\u001b[0m\n\u001b[0m\u001b[1;32m    221\u001b[0m \u001b[0;34m\u001b[0m\u001b[0m\n\u001b[1;32m    222\u001b[0m   \u001b[0;32mif\u001b[0m \u001b[0;32mnot\u001b[0m \u001b[0mop\u001b[0m\u001b[0;34m.\u001b[0m\u001b[0mget_attr\u001b[0m\u001b[0;34m(\u001b[0m\u001b[0;34m\"keep_dims\"\u001b[0m\u001b[0;34m)\u001b[0m\u001b[0;34m:\u001b[0m\u001b[0;34m\u001b[0m\u001b[0;34m\u001b[0m\u001b[0m\n",
            "\u001b[0;32m/usr/local/lib/python3.10/dist-packages/tensorflow/python/util/traceback_utils.py\u001b[0m in \u001b[0;36merror_handler\u001b[0;34m(*args, **kwargs)\u001b[0m\n\u001b[1;32m    148\u001b[0m     \u001b[0mfiltered_tb\u001b[0m \u001b[0;34m=\u001b[0m \u001b[0;32mNone\u001b[0m\u001b[0;34m\u001b[0m\u001b[0;34m\u001b[0m\u001b[0m\n\u001b[1;32m    149\u001b[0m     \u001b[0;32mtry\u001b[0m\u001b[0;34m:\u001b[0m\u001b[0;34m\u001b[0m\u001b[0;34m\u001b[0m\u001b[0m\n\u001b[0;32m--> 150\u001b[0;31m       \u001b[0;32mreturn\u001b[0m \u001b[0mfn\u001b[0m\u001b[0;34m(\u001b[0m\u001b[0;34m*\u001b[0m\u001b[0margs\u001b[0m\u001b[0;34m,\u001b[0m \u001b[0;34m**\u001b[0m\u001b[0mkwargs\u001b[0m\u001b[0;34m)\u001b[0m\u001b[0;34m\u001b[0m\u001b[0;34m\u001b[0m\u001b[0m\n\u001b[0m\u001b[1;32m    151\u001b[0m     \u001b[0;32mexcept\u001b[0m \u001b[0mException\u001b[0m \u001b[0;32mas\u001b[0m \u001b[0me\u001b[0m\u001b[0;34m:\u001b[0m\u001b[0;34m\u001b[0m\u001b[0;34m\u001b[0m\u001b[0m\n\u001b[1;32m    152\u001b[0m       \u001b[0mfiltered_tb\u001b[0m \u001b[0;34m=\u001b[0m \u001b[0m_process_traceback_frames\u001b[0m\u001b[0;34m(\u001b[0m\u001b[0me\u001b[0m\u001b[0;34m.\u001b[0m\u001b[0m__traceback__\u001b[0m\u001b[0;34m)\u001b[0m\u001b[0;34m\u001b[0m\u001b[0;34m\u001b[0m\u001b[0m\n",
            "\u001b[0;32m/usr/local/lib/python3.10/dist-packages/tensorflow/python/util/dispatch.py\u001b[0m in \u001b[0;36mop_dispatch_handler\u001b[0;34m(*args, **kwargs)\u001b[0m\n\u001b[1;32m   1258\u001b[0m       \u001b[0;31m# Fallback dispatch system (dispatch v1):\u001b[0m\u001b[0;34m\u001b[0m\u001b[0;34m\u001b[0m\u001b[0m\n\u001b[1;32m   1259\u001b[0m       \u001b[0;32mtry\u001b[0m\u001b[0;34m:\u001b[0m\u001b[0;34m\u001b[0m\u001b[0;34m\u001b[0m\u001b[0m\n\u001b[0;32m-> 1260\u001b[0;31m         \u001b[0;32mreturn\u001b[0m \u001b[0mdispatch_target\u001b[0m\u001b[0;34m(\u001b[0m\u001b[0;34m*\u001b[0m\u001b[0margs\u001b[0m\u001b[0;34m,\u001b[0m \u001b[0;34m**\u001b[0m\u001b[0mkwargs\u001b[0m\u001b[0;34m)\u001b[0m\u001b[0;34m\u001b[0m\u001b[0;34m\u001b[0m\u001b[0m\n\u001b[0m\u001b[1;32m   1261\u001b[0m       \u001b[0;32mexcept\u001b[0m \u001b[0;34m(\u001b[0m\u001b[0mTypeError\u001b[0m\u001b[0;34m,\u001b[0m \u001b[0mValueError\u001b[0m\u001b[0;34m)\u001b[0m\u001b[0;34m:\u001b[0m\u001b[0;34m\u001b[0m\u001b[0;34m\u001b[0m\u001b[0m\n\u001b[1;32m   1262\u001b[0m         \u001b[0;31m# Note: convert_to_eager_tensor currently raises a ValueError, not a\u001b[0m\u001b[0;34m\u001b[0m\u001b[0;34m\u001b[0m\u001b[0m\n",
            "\u001b[0;32m/usr/local/lib/python3.10/dist-packages/tensorflow/python/ops/array_ops.py\u001b[0m in \u001b[0;36mshape\u001b[0;34m(input, name, out_type)\u001b[0m\n\u001b[1;32m    686\u001b[0m     \u001b[0;32melse\u001b[0m\u001b[0;34m:\u001b[0m\u001b[0;34m\u001b[0m\u001b[0;34m\u001b[0m\u001b[0m\n\u001b[1;32m    687\u001b[0m       \u001b[0mout_type\u001b[0m \u001b[0;34m=\u001b[0m \u001b[0mdtypes\u001b[0m\u001b[0;34m.\u001b[0m\u001b[0mint32\u001b[0m\u001b[0;34m\u001b[0m\u001b[0;34m\u001b[0m\u001b[0m\n\u001b[0;32m--> 688\u001b[0;31m   \u001b[0;32mreturn\u001b[0m \u001b[0mshape_internal\u001b[0m\u001b[0;34m(\u001b[0m\u001b[0minput\u001b[0m\u001b[0;34m,\u001b[0m \u001b[0mname\u001b[0m\u001b[0;34m,\u001b[0m \u001b[0moptimize\u001b[0m\u001b[0;34m=\u001b[0m\u001b[0;32mTrue\u001b[0m\u001b[0;34m,\u001b[0m \u001b[0mout_type\u001b[0m\u001b[0;34m=\u001b[0m\u001b[0mout_type\u001b[0m\u001b[0;34m)\u001b[0m\u001b[0;34m\u001b[0m\u001b[0;34m\u001b[0m\u001b[0m\n\u001b[0m\u001b[1;32m    689\u001b[0m \u001b[0;34m\u001b[0m\u001b[0m\n\u001b[1;32m    690\u001b[0m \u001b[0;34m\u001b[0m\u001b[0m\n",
            "\u001b[0;32m/usr/local/lib/python3.10/dist-packages/tensorflow/python/ops/array_ops.py\u001b[0m in \u001b[0;36mshape_internal\u001b[0;34m(input, name, optimize, out_type)\u001b[0m\n\u001b[1;32m    727\u001b[0m       \u001b[0;32mif\u001b[0m \u001b[0;32mnot\u001b[0m \u001b[0mout_type\u001b[0m\u001b[0;34m:\u001b[0m\u001b[0;34m\u001b[0m\u001b[0;34m\u001b[0m\u001b[0m\n\u001b[1;32m    728\u001b[0m         \u001b[0mout_type\u001b[0m \u001b[0;34m=\u001b[0m \u001b[0mdtypes\u001b[0m\u001b[0;34m.\u001b[0m\u001b[0mint32\u001b[0m\u001b[0;34m\u001b[0m\u001b[0;34m\u001b[0m\u001b[0m\n\u001b[0;32m--> 729\u001b[0;31m       \u001b[0;32mreturn\u001b[0m \u001b[0mgen_array_ops\u001b[0m\u001b[0;34m.\u001b[0m\u001b[0mshape\u001b[0m\u001b[0;34m(\u001b[0m\u001b[0minput\u001b[0m\u001b[0;34m,\u001b[0m \u001b[0mname\u001b[0m\u001b[0;34m=\u001b[0m\u001b[0mname\u001b[0m\u001b[0;34m,\u001b[0m \u001b[0mout_type\u001b[0m\u001b[0;34m=\u001b[0m\u001b[0mout_type\u001b[0m\u001b[0;34m)\u001b[0m\u001b[0;34m\u001b[0m\u001b[0;34m\u001b[0m\u001b[0m\n\u001b[0m\u001b[1;32m    730\u001b[0m \u001b[0;34m\u001b[0m\u001b[0m\n\u001b[1;32m    731\u001b[0m \u001b[0;34m\u001b[0m\u001b[0m\n",
            "\u001b[0;32m/usr/local/lib/python3.10/dist-packages/tensorflow/python/ops/gen_array_ops.py\u001b[0m in \u001b[0;36mshape\u001b[0;34m(input, out_type, name)\u001b[0m\n\u001b[1;32m   9597\u001b[0m     \u001b[0mout_type\u001b[0m \u001b[0;34m=\u001b[0m \u001b[0m_dtypes\u001b[0m\u001b[0;34m.\u001b[0m\u001b[0mint32\u001b[0m\u001b[0;34m\u001b[0m\u001b[0;34m\u001b[0m\u001b[0m\n\u001b[1;32m   9598\u001b[0m   \u001b[0mout_type\u001b[0m \u001b[0;34m=\u001b[0m \u001b[0m_execute\u001b[0m\u001b[0;34m.\u001b[0m\u001b[0mmake_type\u001b[0m\u001b[0;34m(\u001b[0m\u001b[0mout_type\u001b[0m\u001b[0;34m,\u001b[0m \u001b[0;34m\"out_type\"\u001b[0m\u001b[0;34m)\u001b[0m\u001b[0;34m\u001b[0m\u001b[0;34m\u001b[0m\u001b[0m\n\u001b[0;32m-> 9599\u001b[0;31m   _, _, _op, _outputs = _op_def_library._apply_op_helper(\n\u001b[0m\u001b[1;32m   9600\u001b[0m         \"Shape\", input=input, out_type=out_type, name=name)\n\u001b[1;32m   9601\u001b[0m   \u001b[0m_result\u001b[0m \u001b[0;34m=\u001b[0m \u001b[0m_outputs\u001b[0m\u001b[0;34m[\u001b[0m\u001b[0;34m:\u001b[0m\u001b[0;34m]\u001b[0m\u001b[0;34m\u001b[0m\u001b[0;34m\u001b[0m\u001b[0m\n",
            "\u001b[0;32m/usr/local/lib/python3.10/dist-packages/tensorflow/python/framework/op_def_library.py\u001b[0m in \u001b[0;36m_apply_op_helper\u001b[0;34m(op_type_name, name, **keywords)\u001b[0m\n\u001b[1;32m    781\u001b[0m       _ExtractRemainingAttrs(op_type_name, op_def, keywords,\n\u001b[1;32m    782\u001b[0m                              default_type_attr_map, attrs)\n\u001b[0;32m--> 783\u001b[0;31m       \u001b[0m_ExtractAttrProto\u001b[0m\u001b[0;34m(\u001b[0m\u001b[0mop_type_name\u001b[0m\u001b[0;34m,\u001b[0m \u001b[0mop_def\u001b[0m\u001b[0;34m,\u001b[0m \u001b[0mattrs\u001b[0m\u001b[0;34m,\u001b[0m \u001b[0mattr_protos\u001b[0m\u001b[0;34m)\u001b[0m\u001b[0;34m\u001b[0m\u001b[0;34m\u001b[0m\u001b[0m\n\u001b[0m\u001b[1;32m    784\u001b[0m       \u001b[0;32mdel\u001b[0m \u001b[0mattrs\u001b[0m  \u001b[0;31m# attrs is no longer authoritative, use attr_protos instead\u001b[0m\u001b[0;34m\u001b[0m\u001b[0;34m\u001b[0m\u001b[0m\n\u001b[1;32m    785\u001b[0m       _ExtractOutputStructure(op_type_name, op_def, attr_protos,\n",
            "\u001b[0;32m/usr/local/lib/python3.10/dist-packages/tensorflow/python/framework/op_def_library.py\u001b[0m in \u001b[0;36m_ExtractAttrProto\u001b[0;34m(op_type_name, op_def, attrs, attr_protos)\u001b[0m\n\u001b[1;32m    327\u001b[0m       \u001b[0;32mcontinue\u001b[0m\u001b[0;34m\u001b[0m\u001b[0;34m\u001b[0m\u001b[0m\n\u001b[1;32m    328\u001b[0m \u001b[0;34m\u001b[0m\u001b[0m\n\u001b[0;32m--> 329\u001b[0;31m     \u001b[0mattr_value\u001b[0m \u001b[0;34m=\u001b[0m \u001b[0mvalue_to_attr_value\u001b[0m\u001b[0;34m(\u001b[0m\u001b[0mvalue\u001b[0m\u001b[0;34m,\u001b[0m \u001b[0mattr_def\u001b[0m\u001b[0;34m.\u001b[0m\u001b[0mtype\u001b[0m\u001b[0;34m,\u001b[0m \u001b[0mkey\u001b[0m\u001b[0;34m)\u001b[0m\u001b[0;34m\u001b[0m\u001b[0;34m\u001b[0m\u001b[0m\n\u001b[0m\u001b[1;32m    330\u001b[0m     \u001b[0;32mif\u001b[0m \u001b[0mattr_def\u001b[0m\u001b[0;34m.\u001b[0m\u001b[0mtype\u001b[0m\u001b[0;34m.\u001b[0m\u001b[0mstartswith\u001b[0m\u001b[0;34m(\u001b[0m\u001b[0;34m\"list(\"\u001b[0m\u001b[0;34m)\u001b[0m\u001b[0;34m:\u001b[0m\u001b[0;34m\u001b[0m\u001b[0;34m\u001b[0m\u001b[0m\n\u001b[1;32m    331\u001b[0m       \u001b[0m_SatisfiesLengthConstraint\u001b[0m\u001b[0;34m(\u001b[0m\u001b[0mlen\u001b[0m\u001b[0;34m(\u001b[0m\u001b[0mvalue\u001b[0m\u001b[0;34m)\u001b[0m\u001b[0;34m,\u001b[0m \u001b[0mattr_def\u001b[0m\u001b[0;34m,\u001b[0m \u001b[0mkey\u001b[0m\u001b[0;34m,\u001b[0m \u001b[0mop_type_name\u001b[0m\u001b[0;34m)\u001b[0m\u001b[0;34m\u001b[0m\u001b[0;34m\u001b[0m\u001b[0m\n",
            "\u001b[0;32m/usr/local/lib/python3.10/dist-packages/tensorflow/python/framework/op_def_library.py\u001b[0m in \u001b[0;36mvalue_to_attr_value\u001b[0;34m(value, attr_type, arg_name)\u001b[0m\n\u001b[1;32m    850\u001b[0m     \u001b[0mattr_value\u001b[0m\u001b[0;34m.\u001b[0m\u001b[0mlist\u001b[0m\u001b[0;34m.\u001b[0m\u001b[0mb\u001b[0m\u001b[0;34m.\u001b[0m\u001b[0mextend\u001b[0m\u001b[0;34m(\u001b[0m\u001b[0;34m[\u001b[0m\u001b[0m_MakeBool\u001b[0m\u001b[0;34m(\u001b[0m\u001b[0mx\u001b[0m\u001b[0;34m,\u001b[0m \u001b[0marg_name\u001b[0m\u001b[0;34m)\u001b[0m \u001b[0;32mfor\u001b[0m \u001b[0mx\u001b[0m \u001b[0;32min\u001b[0m \u001b[0mvalue\u001b[0m\u001b[0;34m]\u001b[0m\u001b[0;34m)\u001b[0m\u001b[0;34m\u001b[0m\u001b[0;34m\u001b[0m\u001b[0m\n\u001b[1;32m    851\u001b[0m   \u001b[0;32melif\u001b[0m \u001b[0mattr_type\u001b[0m \u001b[0;34m==\u001b[0m \u001b[0;34m\"type\"\u001b[0m\u001b[0;34m:\u001b[0m\u001b[0;34m\u001b[0m\u001b[0;34m\u001b[0m\u001b[0m\n\u001b[0;32m--> 852\u001b[0;31m     \u001b[0mattr_value\u001b[0m\u001b[0;34m.\u001b[0m\u001b[0mtype\u001b[0m \u001b[0;34m=\u001b[0m \u001b[0m_MakeType\u001b[0m\u001b[0;34m(\u001b[0m\u001b[0mvalue\u001b[0m\u001b[0;34m,\u001b[0m \u001b[0marg_name\u001b[0m\u001b[0;34m)\u001b[0m\u001b[0;34m\u001b[0m\u001b[0;34m\u001b[0m\u001b[0m\n\u001b[0m\u001b[1;32m    853\u001b[0m   \u001b[0;32melif\u001b[0m \u001b[0mattr_type\u001b[0m \u001b[0;34m==\u001b[0m \u001b[0;34m\"list(type)\"\u001b[0m\u001b[0;34m:\u001b[0m\u001b[0;34m\u001b[0m\u001b[0;34m\u001b[0m\u001b[0m\n\u001b[1;32m    854\u001b[0m     \u001b[0mattr_value\u001b[0m\u001b[0;34m.\u001b[0m\u001b[0mlist\u001b[0m\u001b[0;34m.\u001b[0m\u001b[0mtype\u001b[0m\u001b[0;34m.\u001b[0m\u001b[0mextend\u001b[0m\u001b[0;34m(\u001b[0m\u001b[0;34m[\u001b[0m\u001b[0m_MakeType\u001b[0m\u001b[0;34m(\u001b[0m\u001b[0mx\u001b[0m\u001b[0;34m,\u001b[0m \u001b[0marg_name\u001b[0m\u001b[0;34m)\u001b[0m \u001b[0;32mfor\u001b[0m \u001b[0mx\u001b[0m \u001b[0;32min\u001b[0m \u001b[0mvalue\u001b[0m\u001b[0;34m]\u001b[0m\u001b[0;34m)\u001b[0m\u001b[0;34m\u001b[0m\u001b[0;34m\u001b[0m\u001b[0m\n",
            "\u001b[0;32m/usr/local/lib/python3.10/dist-packages/tensorflow/python/framework/op_def_library.py\u001b[0m in \u001b[0;36m_MakeType\u001b[0;34m(v, arg_name)\u001b[0m\n\u001b[1;32m    188\u001b[0m \u001b[0;32mdef\u001b[0m \u001b[0m_MakeType\u001b[0m\u001b[0;34m(\u001b[0m\u001b[0mv\u001b[0m\u001b[0;34m,\u001b[0m \u001b[0marg_name\u001b[0m\u001b[0;34m)\u001b[0m\u001b[0;34m:\u001b[0m\u001b[0;34m\u001b[0m\u001b[0;34m\u001b[0m\u001b[0m\n\u001b[1;32m    189\u001b[0m   \u001b[0;32mtry\u001b[0m\u001b[0;34m:\u001b[0m\u001b[0;34m\u001b[0m\u001b[0;34m\u001b[0m\u001b[0m\n\u001b[0;32m--> 190\u001b[0;31m     \u001b[0mv\u001b[0m \u001b[0;34m=\u001b[0m \u001b[0mdtypes\u001b[0m\u001b[0;34m.\u001b[0m\u001b[0mas_dtype\u001b[0m\u001b[0;34m(\u001b[0m\u001b[0mv\u001b[0m\u001b[0;34m)\u001b[0m\u001b[0;34m.\u001b[0m\u001b[0mbase_dtype\u001b[0m\u001b[0;34m\u001b[0m\u001b[0;34m\u001b[0m\u001b[0m\n\u001b[0m\u001b[1;32m    191\u001b[0m   \u001b[0;32mexcept\u001b[0m \u001b[0mTypeError\u001b[0m\u001b[0;34m:\u001b[0m\u001b[0;34m\u001b[0m\u001b[0;34m\u001b[0m\u001b[0m\n\u001b[1;32m    192\u001b[0m     raise TypeError(f\"Expected DataType for argument '{arg_name}' not \"\n",
            "\u001b[0;32m/usr/local/lib/python3.10/dist-packages/tensorflow/python/framework/dtypes.py\u001b[0m in \u001b[0;36mas_dtype\u001b[0;34m(type_value)\u001b[0m\n\u001b[1;32m    791\u001b[0m \u001b[0;34m\u001b[0m\u001b[0m\n\u001b[1;32m    792\u001b[0m \u001b[0;34m\u001b[0m\u001b[0m\n\u001b[0;32m--> 793\u001b[0;31m \u001b[0;34m@\u001b[0m\u001b[0mtf_export\u001b[0m\u001b[0;34m(\u001b[0m\u001b[0;34m\"dtypes.as_dtype\"\u001b[0m\u001b[0;34m,\u001b[0m \u001b[0;34m\"as_dtype\"\u001b[0m\u001b[0;34m)\u001b[0m\u001b[0;34m\u001b[0m\u001b[0;34m\u001b[0m\u001b[0m\n\u001b[0m\u001b[1;32m    794\u001b[0m \u001b[0;32mdef\u001b[0m \u001b[0mas_dtype\u001b[0m\u001b[0;34m(\u001b[0m\u001b[0mtype_value\u001b[0m\u001b[0;34m)\u001b[0m\u001b[0;34m:\u001b[0m\u001b[0;34m\u001b[0m\u001b[0;34m\u001b[0m\u001b[0m\n\u001b[1;32m    795\u001b[0m   \"\"\"Converts the given `type_value` to a `tf.DType`.\n",
            "\u001b[0;31mKeyboardInterrupt\u001b[0m: "
          ]
        }
      ],
      "source": [
        "from tensorflow.keras.models import Sequential\n",
        "from tensorflow.keras.layers import Conv1D, MaxPooling1D, Flatten, Dense, Dropout, BatchNormalization\n",
        "from tensorflow.keras.callbacks import EarlyStopping, LearningRateScheduler\n",
        "import tensorflow as tf\n",
        "\n",
        "# Define the CNN model\n",
        "model = Sequential([\n",
        "    Conv1D(filters=32, kernel_size=3, activation='relu', input_shape=input_shape, padding='same'),\n",
        "    MaxPooling1D(pool_size=2),\n",
        "    BatchNormalization(),\n",
        "    Dropout(0.5),\n",
        "\n",
        "    Conv1D(filters=64, kernel_size=3, activation='relu', padding='same'),\n",
        "    MaxPooling1D(pool_size=2),\n",
        "    BatchNormalization(),\n",
        "    Dropout(0.5),\n",
        "\n",
        "    Conv1D(filters=128, kernel_size=3, activation='relu', padding='same'),\n",
        "    MaxPooling1D(pool_size=2),\n",
        "    BatchNormalization(),\n",
        "    Dropout(0.5),\n",
        "\n",
        "    Flatten(),\n",
        "\n",
        "    Dense(128, activation='relu'),\n",
        "    Dropout(0.5),\n",
        "\n",
        "    Dense(1, activation='sigmoid')\n",
        "])\n",
        "\n",
        "# Compile the model with the desired optimizer, loss function, and metrics\n",
        "model.compile(optimizer=tf.keras.optimizers.Adam(learning_rate=0.0001),\n",
        "              loss='binary_crossentropy',\n",
        "              metrics=['accuracy', tf.keras.metrics.Recall(), tf.keras.metrics.Precision()])\n",
        "\n",
        "# Define learning rate scheduler\n",
        "def lr_scheduler(epoch, lr):\n",
        "    if epoch < 5:\n",
        "        return lr\n",
        "    else:\n",
        "        return lr * tf.math.exp(-0.1)\n",
        "\n",
        "lr_callback = LearningRateScheduler(lr_scheduler)\n",
        "\n",
        "# Define early stopping criteria\n",
        "early_stopping = EarlyStopping(monitor='val_loss', patience=3, restore_best_weights=True)\n",
        "\n",
        "# Train the model with early stopping and learning rate scheduler\n",
        "history = model.fit(train_dataset, epochs=50, batch_size=128,\n",
        "                    validation_data=val_dataset, class_weight=class_weight)\n",
        "\n",
        "# Evaluate the model\n",
        "loss, accuracy, recall, precision = model.evaluate(test_dataset)\n",
        "print(\"Test Loss:\", loss)\n",
        "print(\"Test Accuracy:\", accuracy)\n",
        "print(\"Test recall:\", recall)\n",
        "print(\"Test precision:\", precision)\n",
        "\n",
        "\n",
        "\n"
      ]
    },
    {
      "cell_type": "code",
      "execution_count": null,
      "metadata": {
        "id": "DJWO_FUVewga"
      },
      "outputs": [],
      "source": [
        "from tensorflow.keras.models import load_model\n",
        "import pickle\n",
        "\n",
        "# Assuming you have trained your model and stored the training history in a variable called 'history'\n",
        "\n",
        "# Save the trained model\n",
        "model3.save(\"/content/drive/MyDrive/your_model2.keras\")\n",
        "\n",
        "# Save the training history\n",
        "with open('/content/drive/MyDrive/history2.pkl', 'wb') as file:\n",
        "    pickle.dump(history2.history, file)"
      ]
    },
    {
      "cell_type": "code",
      "execution_count": null,
      "metadata": {
        "id": "iPkfTymnE5I9"
      },
      "outputs": [],
      "source": [
        "# Define the CNN model\n",
        "model2 = Sequential([\n",
        "    Conv1D(filters=32, kernel_size=3, activation='relu', input_shape=input_shape, padding='same'),\n",
        "    MaxPooling1D(pool_size=2),\n",
        "    BatchNormalization(),\n",
        "    Dropout(0.5),\n",
        "\n",
        "    Conv1D(filters=64, kernel_size=3, activation='relu', padding='same'),\n",
        "    MaxPooling1D(pool_size=2),\n",
        "    BatchNormalization(),\n",
        "    Dropout(0.5),\n",
        "\n",
        "    Conv1D(filters=128, kernel_size=3, activation='relu', padding='same'),\n",
        "    MaxPooling1D(pool_size=2),\n",
        "    BatchNormalization(),\n",
        "    Dropout(0.5),\n",
        "\n",
        "    Flatten(),\n",
        "\n",
        "    Dense(128, activation='relu'),\n",
        "    Dropout(0.5),\n",
        "\n",
        "    Dense(1, activation='sigmoid')\n",
        "])\n",
        "\n",
        "# Compile the model with the desired optimizer, loss function, and metrics\n",
        "model2.compile(optimizer=tf.keras.optimizers.Adam(learning_rate=0.001),\n",
        "              loss='binary_crossentropy',\n",
        "              metrics=['accuracy', tf.keras.metrics.Recall(), tf.keras.metrics.Precision()])\n",
        "\n",
        "# Define learning rate scheduler\n",
        "def lr_scheduler(epoch, lr):\n",
        "    if epoch < 5:\n",
        "        return lr\n",
        "    else:\n",
        "        return lr * tf.math.exp(-0.1)\n",
        "\n",
        "lr_callback = LearningRateScheduler(lr_scheduler)\n",
        "\n",
        "# Define early stopping criteria\n",
        "early_stopping = EarlyStopping(monitor='val_loss', patience=3, restore_best_weights=True)\n",
        "\n",
        "# Train the model with early stopping and learning rate scheduler\n",
        "history1 = model2.fit(train_dataset, epochs=10, batch_size=128,\n",
        "                    validation_data=val_dataset, class_weight=class_weight)\n",
        "\n",
        "\n",
        "\n",
        "\n",
        "\n"
      ]
    },
    {
      "cell_type": "code",
      "execution_count": null,
      "metadata": {
        "colab": {
          "base_uri": "https://localhost:8080/"
        },
        "id": "-uQC1b3zW_vb",
        "outputId": "7c9e07f8-9c29-4e6a-9faf-9236c9bfb3cf"
      },
      "outputs": [
        {
          "name": "stdout",
          "output_type": "stream",
          "text": [
            "5635/5635 [==============================] - 93s 17ms/step - loss: 0.7509 - accuracy: 0.6001 - recall: 0.6946 - precision: 0.4431\n",
            "Test Loss: 0.7509377002716064\n",
            "Test Accuracy: 0.6000632047653198\n",
            "Test recall: 0.6946490406990051\n",
            "Test precision: 0.44312527775764465\n"
          ]
        }
      ],
      "source": [
        "# Evaluate the model\n",
        "loss, accuracy, recall, precision = model2.evaluate(test_dataset)\n",
        "print(\"Test Loss:\", loss)\n",
        "print(\"Test Accuracy:\", accuracy)\n",
        "print(\"Test recall:\", recall)\n",
        "print(\"Test precision:\", precision)"
      ]
    },
    {
      "cell_type": "code",
      "execution_count": null,
      "metadata": {
        "id": "9fX-3CKtX4eW"
      },
      "outputs": [],
      "source": [
        "# Define the CNN model\n",
        "model3 = Sequential([\n",
        "    Conv1D(filters=32, kernel_size=3, activation='relu', input_shape=input_shape, padding='same'),\n",
        "    MaxPooling1D(pool_size=2),\n",
        "    BatchNormalization(),\n",
        "    Dropout(0.2),\n",
        "\n",
        "    Conv1D(filters=64, kernel_size=3, activation='relu', padding='same'),\n",
        "    MaxPooling1D(pool_size=2),\n",
        "    BatchNormalization(),\n",
        "    Dropout(0.2),\n",
        "\n",
        "    Conv1D(filters=128, kernel_size=3, activation='relu', padding='same'),\n",
        "    MaxPooling1D(pool_size=2),\n",
        "    BatchNormalization(),\n",
        "    Dropout(0.2),\n",
        "\n",
        "    Flatten(),\n",
        "\n",
        "    Dense(128, activation='relu'),\n",
        "    Dropout(0.2),\n",
        "\n",
        "    Dense(1, activation='sigmoid')\n",
        "])\n",
        "\n",
        "# Compile the model with the desired optimizer, loss function, and metrics\n",
        "model3.compile(optimizer=tf.keras.optimizers.Adam(learning_rate=0.001),\n",
        "              loss='binary_crossentropy',\n",
        "              metrics=['accuracy', tf.keras.metrics.Recall(), tf.keras.metrics.Precision()])\n",
        "\n",
        "# Define learning rate scheduler\n",
        "def lr_scheduler(epoch, lr):\n",
        "    if epoch < 5:\n",
        "        return lr\n",
        "    else:\n",
        "        return lr * tf.math.exp(-0.1)\n",
        "\n",
        "lr_callback = LearningRateScheduler(lr_scheduler)\n",
        "\n",
        "# Define early stopping criteria\n",
        "early_stopping = EarlyStopping(monitor='val_loss', patience=3, restore_best_weights=True)\n",
        "\n",
        "# Train the model with early stopping and learning rate scheduler\n",
        "history2 = model3.fit(train_dataset, epochs=50, batch_size=128,\n",
        "                    validation_data=val_dataset, class_weight=class_weight)\n",
        "\n",
        "\n",
        "\n",
        "\n",
        "\n"
      ]
    },
    {
      "cell_type": "code",
      "execution_count": null,
      "metadata": {
        "id": "IMJykvSuIFLs"
      },
      "outputs": [],
      "source": []
    },
    {
      "cell_type": "code",
      "execution_count": null,
      "metadata": {
        "colab": {
          "base_uri": "https://localhost:8080/"
        },
        "id": "iMIHn-UXIGiK",
        "outputId": "a7861da0-7fc2-4527-94f6-67da71f1da22"
      },
      "outputs": [
        {
          "name": "stdout",
          "output_type": "stream",
          "text": [
            "5635/5635 [==============================] - 104s 18ms/step - loss: 0.7544 - accuracy: 0.6050 - recall_5: 0.6525 - precision_5: 0.4443\n",
            "Test Loss: 0.7544416785240173\n",
            "Test Accuracy: 0.605038046836853\n",
            "Test recall: 0.6524998545646667\n",
            "Test precision: 0.444283127784729\n"
          ]
        }
      ],
      "source": [
        "# Evaluate the model\n",
        "loss, accuracy, recall, precision = model3.evaluate(test_dataset)\n",
        "print(\"Test Loss:\", loss)\n",
        "print(\"Test Accuracy:\", accuracy)\n",
        "print(\"Test recall:\", recall)\n",
        "print(\"Test precision:\", precision)"
      ]
    },
    {
      "cell_type": "code",
      "execution_count": null,
      "metadata": {
        "colab": {
          "base_uri": "https://localhost:8080/",
          "height": 472
        },
        "id": "vvvcy2akaj60",
        "outputId": "59c0be47-23d8-4463-f398-9d33e9322591"
      },
      "outputs": [
        {
          "data": {
            "image/png": "[encoded data removed]",
            "text/plain": [
              "<Figure size 640x480 with 1 Axes>"
            ]
          },
          "metadata": {},
          "output_type": "display_data"
        }
      ],
      "source": [
        "import matplotlib.pyplot as plt\n",
        "\n",
        "plt.plot(history2.history['loss'])\n",
        "plt.plot(history2.history['val_loss'])\n",
        "plt.title('Model Loss')\n",
        "plt.ylabel('Loss')\n",
        "plt.xlabel('Epoch')\n",
        "plt.legend(['Train', 'Validation'], loc='upper left')\n",
        "plt.show()"
      ]
    },
    {
      "cell_type": "markdown",
      "metadata": {
        "id": "R1K80frPbUuP"
      },
      "source": [
        "Here i adjusted the class weights to 0.5 to see what i would get\n"
      ]
    },
    {
      "cell_type": "code",
      "execution_count": null,
      "metadata": {
        "colab": {
          "base_uri": "https://localhost:8080/"
        },
        "id": "1UYzd9-8JmCJ",
        "outputId": "cdd7a081-e278-47ef-c795-5d90a2c3ab31"
      },
      "outputs": [
        {
          "name": "stdout",
          "output_type": "stream",
          "text": [
            "Epoch 1/10\n",
            "16905/16905 [==============================] - 531s 31ms/step - loss: 0.4187 - accuracy: 0.7234 - recall_7: 0.3295 - precision_7: 0.6039 - val_loss: 0.5251 - val_accuracy: 0.7565 - val_recall_7: 0.3879 - val_precision_7: 0.5318\n",
            "Epoch 2/10\n",
            "16905/16905 [==============================] - 473s 28ms/step - loss: 0.4177 - accuracy: 0.7196 - recall_7: 0.3441 - precision_7: 0.5861 - val_loss: 0.5301 - val_accuracy: 0.7038 - val_recall_7: 0.6080 - val_precision_7: 0.4419\n",
            "Epoch 3/10\n",
            "16905/16905 [==============================] - 475s 28ms/step - loss: 0.4161 - accuracy: 0.7206 - recall_7: 0.3461 - precision_7: 0.5888 - val_loss: 0.5213 - val_accuracy: 0.7178 - val_recall_7: 0.5720 - val_precision_7: 0.4579\n",
            "Epoch 4/10\n",
            "16905/16905 [==============================] - 448s 27ms/step - loss: 0.4150 - accuracy: 0.7214 - recall_7: 0.3568 - precision_7: 0.5882 - val_loss: 0.5180 - val_accuracy: 0.7130 - val_recall_7: 0.6076 - val_precision_7: 0.4537\n",
            "Epoch 5/10\n",
            "16905/16905 [==============================] - 512s 30ms/step - loss: 0.4152 - accuracy: 0.7206 - recall_7: 0.3512 - precision_7: 0.5873 - val_loss: 0.5186 - val_accuracy: 0.7218 - val_recall_7: 0.5846 - val_precision_7: 0.4645\n",
            "Epoch 6/10\n",
            "16905/16905 [==============================] - 459s 27ms/step - loss: 0.4153 - accuracy: 0.7204 - recall_7: 0.3497 - precision_7: 0.5872 - val_loss: 0.5196 - val_accuracy: 0.7287 - val_recall_7: 0.5849 - val_precision_7: 0.4746\n",
            "Epoch 7/10\n",
            "16905/16905 [==============================] - 525s 31ms/step - loss: 0.4148 - accuracy: 0.7206 - recall_7: 0.3522 - precision_7: 0.5870 - val_loss: 0.5159 - val_accuracy: 0.7350 - val_recall_7: 0.5548 - val_precision_7: 0.4836\n",
            "Epoch 8/10\n",
            "16905/16905 [==============================] - 457s 27ms/step - loss: 0.4145 - accuracy: 0.7210 - recall_7: 0.3607 - precision_7: 0.5857 - val_loss: 0.5232 - val_accuracy: 0.7178 - val_recall_7: 0.6164 - val_precision_7: 0.4607\n",
            "Epoch 9/10\n",
            "16905/16905 [==============================] - 510s 30ms/step - loss: 0.4148 - accuracy: 0.7204 - recall_7: 0.3501 - precision_7: 0.5868 - val_loss: 0.5284 - val_accuracy: 0.7144 - val_recall_7: 0.6339 - val_precision_7: 0.4572\n",
            "Epoch 10/10\n",
            "16905/16905 [==============================] - 497s 29ms/step - loss: 0.4146 - accuracy: 0.7204 - recall_7: 0.3579 - precision_7: 0.5848 - val_loss: 0.5167 - val_accuracy: 0.7236 - val_recall_7: 0.6076 - val_precision_7: 0.4682\n"
          ]
        }
      ],
      "source": [
        "# Define the CNN model\n",
        "model4= Sequential([\n",
        "    Conv1D(filters=32, kernel_size=3, activation='relu', input_shape=input_shape, padding='same'),\n",
        "    MaxPooling1D(pool_size=2),\n",
        "    BatchNormalization(),\n",
        "    Dropout(0.2),\n",
        "\n",
        "    Conv1D(filters=64, kernel_size=3, activation='relu', padding='same'),\n",
        "    MaxPooling1D(pool_size=2),\n",
        "    BatchNormalization(),\n",
        "    Dropout(0.2),\n",
        "\n",
        "    Conv1D(filters=128, kernel_size=3, activation='relu', padding='same'),\n",
        "    MaxPooling1D(pool_size=2),\n",
        "    BatchNormalization(),\n",
        "    Dropout(0.2),\n",
        "\n",
        "    Flatten(),\n",
        "\n",
        "    Dense(128, activation='relu'),\n",
        "    Dropout(0.2),\n",
        "\n",
        "    Dense(1, activation='sigmoid')\n",
        "])\n",
        "\n",
        "# Compile the model with the desired optimizer, loss function, and metrics\n",
        "model4.compile(optimizer=tf.keras.optimizers.SGD(learning_rate=0.001, momentum=0.9),\n",
        "              loss='binary_crossentropy',\n",
        "              metrics=['accuracy', tf.keras.metrics.Recall(), tf.keras.metrics.Precision()])\n",
        "\n",
        "# Define learning rate scheduler\n",
        "def lr_scheduler(epoch, lr):\n",
        "    if epoch < 5:\n",
        "        return lr\n",
        "    else:\n",
        "        return lr * tf.math.exp(-0.1)\n",
        "\n",
        "lr_callback = LearningRateScheduler(lr_scheduler)\n",
        "\n",
        "# Define early stopping criteria\n",
        "early_stopping = EarlyStopping(monitor='val_loss', patience=3, restore_best_weights=True)\n",
        "\n",
        "# Train the model with early stopping and learning rate scheduler\n",
        "history4 = model4.fit(train_dataset, epochs=10, batch_size=128,\n",
        "                    validation_data=val_dataset, class_weight=class_weight)\n",
        "\n",
        "\n",
        "\n",
        "\n",
        "\n"
      ]
    },
    {
      "cell_type": "code",
      "execution_count": null,
      "metadata": {
        "colab": {
          "base_uri": "https://localhost:8080/"
        },
        "id": "D5dtcrRYJlk_",
        "outputId": "93788f36-9cb7-4f42-c2ed-c0ceb7eac276"
      },
      "outputs": [
        {
          "name": "stdout",
          "output_type": "stream",
          "text": [
            "5635/5635 [==============================] - 98s 17ms/step - loss: 0.6680 - accuracy: 0.6513 - recall_7: 0.5154 - precision_7: 0.4871\n",
            "Test Loss: 0.667978048324585\n",
            "Test Accuracy: 0.6513031721115112\n",
            "Test recall: 0.515373945236206\n",
            "Test precision: 0.4870762228965759\n"
          ]
        }
      ],
      "source": [
        "# Evaluate the model\n",
        "loss, accuracy, recall, precision = model4.evaluate(test_dataset)\n",
        "print(\"Test Loss:\", loss)\n",
        "print(\"Test Accuracy:\", accuracy)\n",
        "print(\"Test recall:\", recall)\n",
        "print(\"Test precision:\", precision)"
      ]
    },
    {
      "cell_type": "code",
      "execution_count": null,
      "metadata": {
        "colab": {
          "base_uri": "https://localhost:8080/",
          "height": 472
        },
        "id": "GJdKzcs78KH2",
        "outputId": "8ce4e228-cdde-4239-bb4b-fb883a8626ba"
      },
      "outputs": [
        {
          "data": {
            "image/png": "[encoded data removed]",
            "text/plain": [
              "<Figure size 640x480 with 1 Axes>"
            ]
          },
          "metadata": {},
          "output_type": "display_data"
        }
      ],
      "source": [
        "plt.plot(history4.history['loss'])\n",
        "plt.plot(history4.history['val_loss'])\n",
        "plt.title('Model Loss')\n",
        "plt.ylabel('Loss')\n",
        "plt.xlabel('Epoch')\n",
        "plt.legend(['Train', 'Validation'], loc='upper left')\n",
        "plt.show()"
      ]
    },
    {
      "cell_type": "markdown",
      "metadata": {
        "id": "-B3zDoQQbBRB"
      },
      "source": [
        "I tried to view the training without the class weights, to see the performance of the model , i only used 10 epochs to see how well it does"
      ]
    },
    {
      "cell_type": "code",
      "execution_count": null,
      "metadata": {
        "colab": {
          "base_uri": "https://localhost:8080/"
        },
        "id": "NnYS0HD3e_xT",
        "outputId": "63416ce8-41ab-4cf5-f05a-e61af38f57d8"
      },
      "outputs": [
        {
          "name": "stdout",
          "output_type": "stream",
          "text": [
            "Epoch 1/10\n",
            "8453/8453 [==============================] - 419s 49ms/step - loss: 0.5411 - accuracy: 0.7212 - recall_16: 0.2918 - precision_16: 0.6111 - val_loss: 0.4960 - val_accuracy: 0.7678 - val_recall_16: 0.3583 - val_precision_16: 0.5723\n",
            "Epoch 2/10\n",
            "8453/8453 [==============================] - 414s 49ms/step - loss: 0.5267 - accuracy: 0.7330 - recall_16: 0.3611 - precision_16: 0.6245 - val_loss: 0.4975 - val_accuracy: 0.7684 - val_recall_16: 0.3979 - val_precision_16: 0.5662\n",
            "Epoch 3/10\n",
            "8453/8453 [==============================] - 415s 49ms/step - loss: 0.5245 - accuracy: 0.7333 - recall_16: 0.3665 - precision_16: 0.6234 - val_loss: 0.4907 - val_accuracy: 0.7711 - val_recall_16: 0.3754 - val_precision_16: 0.5799\n",
            "Epoch 4/10\n",
            "8453/8453 [==============================] - 417s 49ms/step - loss: 0.5228 - accuracy: 0.7342 - recall_16: 0.3700 - precision_16: 0.6251 - val_loss: 0.4845 - val_accuracy: 0.7753 - val_recall_16: 0.3402 - val_precision_16: 0.6071\n",
            "Epoch 5/10\n",
            "8453/8453 [==============================] - 408s 48ms/step - loss: 0.5218 - accuracy: 0.7345 - recall_16: 0.3744 - precision_16: 0.6240 - val_loss: 0.4827 - val_accuracy: 0.7757 - val_recall_16: 0.3728 - val_precision_16: 0.5973\n",
            "Epoch 6/10\n",
            "8453/8453 [==============================] - 415s 49ms/step - loss: 0.5211 - accuracy: 0.7349 - recall_16: 0.3785 - precision_16: 0.6236 - val_loss: 0.4845 - val_accuracy: 0.7747 - val_recall_16: 0.3844 - val_precision_16: 0.5902\n",
            "Epoch 7/10\n",
            "8453/8453 [==============================] - 419s 50ms/step - loss: 0.5204 - accuracy: 0.7351 - recall_16: 0.3792 - precision_16: 0.6240 - val_loss: 0.4822 - val_accuracy: 0.7773 - val_recall_16: 0.3764 - val_precision_16: 0.6022\n",
            "Epoch 8/10\n",
            "8453/8453 [==============================] - 418s 49ms/step - loss: 0.5199 - accuracy: 0.7356 - recall_16: 0.3800 - precision_16: 0.6255 - val_loss: 0.4788 - val_accuracy: 0.7780 - val_recall_16: 0.3559 - val_precision_16: 0.6123\n",
            "Epoch 9/10\n",
            "8453/8453 [==============================] - 417s 49ms/step - loss: 0.5195 - accuracy: 0.7356 - recall_16: 0.3828 - precision_16: 0.6244 - val_loss: 0.4787 - val_accuracy: 0.7788 - val_recall_16: 0.3509 - val_precision_16: 0.6175\n",
            "Epoch 10/10\n",
            "8453/8453 [==============================] - 403s 48ms/step - loss: 0.5195 - accuracy: 0.7358 - recall_16: 0.3824 - precision_16: 0.6251 - val_loss: 0.4787 - val_accuracy: 0.7746 - val_recall_16: 0.4042 - val_precision_16: 0.5848\n"
          ]
        }
      ],
      "source": [
        "# Define the CNN model\n",
        "model5= Sequential([\n",
        "    Conv1D(filters=32, kernel_size=3, activation='relu', input_shape=input_shape, padding='same'),\n",
        "    MaxPooling1D(pool_size=2),\n",
        "    BatchNormalization(),\n",
        "    Dropout(0.2),\n",
        "\n",
        "    Conv1D(filters=64, kernel_size=3, activation='relu', padding='same'),\n",
        "    MaxPooling1D(pool_size=2),\n",
        "    BatchNormalization(),\n",
        "    Dropout(0.2),\n",
        "\n",
        "    Conv1D(filters=128, kernel_size=3, activation='relu', padding='same'),\n",
        "    MaxPooling1D(pool_size=2),\n",
        "    BatchNormalization(),\n",
        "    Dropout(0.2),\n",
        "\n",
        "    Conv1D(filters=256, kernel_size=3, activation='relu', padding='same'),\n",
        "    MaxPooling1D(pool_size=2),\n",
        "    BatchNormalization(),\n",
        "    Dropout(0.2),\n",
        "\n",
        "    Conv1D(filters=512, kernel_size=3, activation='relu', padding='same'),\n",
        "    MaxPooling1D(pool_size=2),\n",
        "    BatchNormalization(),\n",
        "    Dropout(0.2),\n",
        "    Flatten(),\n",
        "\n",
        "    Dense(512, activation='relu'),\n",
        "    Dropout(0.2),\n",
        "\n",
        "    Dense(256, activation='relu'),\n",
        "    Dropout(0.2),\n",
        "\n",
        "    Dense(128, activation='relu'),\n",
        "    Dropout(0.2),\n",
        "\n",
        "    Dense(64, activation='relu'),\n",
        "    Dropout(0.2),\n",
        "\n",
        "    Dense(1, activation='sigmoid')\n",
        "])\n",
        "\n",
        "# Compile the model with the desired optimizer, loss function, and metrics\n",
        "model5.compile(optimizer=tf.keras.optimizers.Adam(learning_rate=0.001),\n",
        "              loss='binary_crossentropy',\n",
        "              metrics=['accuracy', tf.keras.metrics.Recall(), tf.keras.metrics.Precision()])\n",
        "\n",
        "# Define learning rate scheduler\n",
        "def lr_scheduler(epoch, lr):\n",
        "    if epoch < 5:\n",
        "        return lr\n",
        "    else:\n",
        "        return lr * tf.math.exp(-0.1)\n",
        "\n",
        "lr_callback = LearningRateScheduler(lr_scheduler)\n",
        "\n",
        "# Define early stopping criteria\n",
        "early_stopping = EarlyStopping(monitor='val_loss', patience=3, restore_best_weights=True)\n",
        "\n",
        "# Train the model with early stopping and learning rate scheduler\n",
        "history5 = model5.fit(train_dataset, epochs=10, batch_size=64,\n",
        "                    validation_data=val_dataset)\n",
        "\n",
        "\n",
        "\n",
        "\n",
        "\n"
      ]
    },
    {
      "cell_type": "code",
      "execution_count": null,
      "metadata": {
        "colab": {
          "base_uri": "https://localhost:8080/"
        },
        "id": "Q9nm1FCyRN92",
        "outputId": "4d1cd82e-84a0-4be2-ad1d-8c605f3e2d66"
      },
      "outputs": [
        {
          "name": "stdout",
          "output_type": "stream",
          "text": [
            "2818/2818 [==============================] - 91s 32ms/step - loss: 0.6654 - accuracy: 0.6894 - recall_16: 0.3192 - precision_16: 0.5767\n",
            "Test Loss: 0.6653932332992554\n",
            "Test Accuracy: 0.6894198060035706\n",
            "Test recall: 0.3192481994628906\n",
            "Test precision: 0.5767346024513245\n"
          ]
        }
      ],
      "source": [
        "loss, accuracy, recall, precision = model5.evaluate(test_dataset)\n",
        "print(\"Test Loss:\", loss)\n",
        "print(\"Test Accuracy:\", accuracy)\n",
        "print(\"Test recall:\", recall)\n",
        "print(\"Test precision:\", precision)"
      ]
    },
    {
      "cell_type": "code",
      "execution_count": null,
      "metadata": {
        "colab": {
          "base_uri": "https://localhost:8080/",
          "height": 472
        },
        "id": "Pvyh5mc18U3y",
        "outputId": "d33dbf42-5d5a-4be3-bb11-450a74087ae7"
      },
      "outputs": [
        {
          "data": {
            "image/png": "[encoded data removed]",
            "text/plain": [
              "<Figure size 640x480 with 1 Axes>"
            ]
          },
          "metadata": {},
          "output_type": "display_data"
        }
      ],
      "source": [
        "plt.plot(history5.history['loss'])\n",
        "plt.plot(history5.history['val_loss'])\n",
        "plt.title('Model Loss')\n",
        "plt.ylabel('Loss')\n",
        "plt.xlabel('Epoch')\n",
        "plt.legend(['Train', 'Validation'], loc='upper left')\n",
        "plt.show()"
      ]
    },
    {
      "cell_type": "markdown",
      "metadata": {
        "id": "239L3LMlazDk"
      },
      "source": [
        "Here i first tried to implement the focal loss, but then i think the architecture was too complex and it ended up plateauing could also be that the learning rate was not good enough"
      ]
    },
    {
      "cell_type": "code",
      "execution_count": null,
      "metadata": {
        "colab": {
          "base_uri": "https://localhost:8080/"
        },
        "id": "m3uOk6PsRyDD",
        "outputId": "50fe6053-e6d8-4963-e7a4-7f1b60be2880"
      },
      "outputs": [
        {
          "output_type": "stream",
          "name": "stdout",
          "text": [
            "Using TensorFlow backend\n"
          ]
        }
      ],
      "source": [
        "import keras_cv"
      ]
    },
    {
      "cell_type": "code",
      "execution_count": null,
      "metadata": {
        "id": "zgxZ5T9VSkPw",
        "colab": {
          "base_uri": "https://localhost:8080/"
        },
        "outputId": "8f95a113-e95f-4b68-9e40-e030eb9124fd"
      },
      "outputs": [
        {
          "output_type": "stream",
          "name": "stdout",
          "text": [
            "Installing collected packages: namex, keras-core, keras_cv\n",
            "Successfully installed keras-core-0.1.7 keras_cv-0.8.2 namex-0.0.7\n"
          ]
        }
      ],
      "source": [
        "pip install keras_cv"
      ]
    },
    {
      "cell_type": "code",
      "execution_count": null,
      "metadata": {
        "colab": {
          "base_uri": "https://localhost:8080/"
        },
        "id": "ocKtqm-mSJ_F",
        "outputId": "864d45c6-2925-41c0-ccf0-eef9b1fa3e43"
      },
      "outputs": [
        {
          "name": "stdout",
          "output_type": "stream",
          "text": [
            "Epoch 1/30\n",
            "8453/8453 [==============================] - 442s 52ms/step - loss: 0.0090 - accuracy: 0.6888 - recall_24: 0.4451 - precision_24: 0.5014 - val_loss: 0.0082 - val_accuracy: 0.7470 - val_recall_24: 0.3884 - val_precision_24: 0.5059\n",
            "Epoch 2/30\n",
            "8453/8453 [==============================] - 432s 51ms/step - loss: 0.0086 - accuracy: 0.7189 - recall_24: 0.4943 - precision_24: 0.5555 - val_loss: 0.0081 - val_accuracy: 0.7092 - val_recall_24: 0.5947 - val_precision_24: 0.4478\n",
            "Epoch 3/30\n",
            "8453/8453 [==============================] - 428s 51ms/step - loss: 0.0085 - accuracy: 0.7230 - recall_24: 0.4905 - precision_24: 0.5645 - val_loss: 0.0081 - val_accuracy: 0.7368 - val_recall_24: 0.5471 - val_precision_24: 0.4863\n",
            "Epoch 4/30\n",
            "8453/8453 [==============================] - 429s 51ms/step - loss: 0.0085 - accuracy: 0.7232 - recall_24: 0.5037 - precision_24: 0.5630 - val_loss: 0.0080 - val_accuracy: 0.7489 - val_recall_24: 0.5055 - val_precision_24: 0.5084\n",
            "Epoch 5/30\n",
            "8453/8453 [==============================] - 436s 52ms/step - loss: 0.0085 - accuracy: 0.7228 - recall_24: 0.5040 - precision_24: 0.5622 - val_loss: 0.0080 - val_accuracy: 0.7398 - val_recall_24: 0.5536 - val_precision_24: 0.4916\n",
            "Epoch 6/30\n",
            "8453/8453 [==============================] - 424s 50ms/step - loss: 0.0085 - accuracy: 0.7217 - recall_24: 0.5167 - precision_24: 0.5583 - val_loss: 0.0080 - val_accuracy: 0.7394 - val_recall_24: 0.5614 - val_precision_24: 0.4910\n",
            "Epoch 7/30\n",
            "8453/8453 [==============================] - 430s 51ms/step - loss: 0.0085 - accuracy: 0.7221 - recall_24: 0.5142 - precision_24: 0.5594 - val_loss: 0.0080 - val_accuracy: 0.7365 - val_recall_24: 0.5744 - val_precision_24: 0.4864\n",
            "Epoch 8/30\n",
            "8453/8453 [==============================] - 432s 51ms/step - loss: 0.0084 - accuracy: 0.7231 - recall_24: 0.5175 - precision_24: 0.5609 - val_loss: 0.0080 - val_accuracy: 0.7472 - val_recall_24: 0.5372 - val_precision_24: 0.5046\n",
            "Epoch 9/30\n",
            "8453/8453 [==============================] - 441s 52ms/step - loss: 0.0084 - accuracy: 0.7240 - recall_24: 0.5159 - precision_24: 0.5628 - val_loss: 0.0079 - val_accuracy: 0.7417 - val_recall_24: 0.5641 - val_precision_24: 0.4949\n",
            "Epoch 10/30\n",
            "8453/8453 [==============================] - 435s 51ms/step - loss: 0.0084 - accuracy: 0.7231 - recall_24: 0.5156 - precision_24: 0.5610 - val_loss: 0.0080 - val_accuracy: 0.7424 - val_recall_24: 0.5581 - val_precision_24: 0.4961\n",
            "Epoch 11/30\n",
            "8453/8453 [==============================] - 431s 51ms/step - loss: 0.0085 - accuracy: 0.7216 - recall_24: 0.5111 - precision_24: 0.5587 - val_loss: 0.0079 - val_accuracy: 0.7498 - val_recall_24: 0.5198 - val_precision_24: 0.5099\n",
            "Epoch 12/30\n",
            "8453/8453 [==============================] - 427s 51ms/step - loss: 0.0085 - accuracy: 0.7195 - recall_24: 0.5439 - precision_24: 0.5511 - val_loss: 0.0080 - val_accuracy: 0.7496 - val_recall_24: 0.5344 - val_precision_24: 0.5093\n",
            "Epoch 13/30\n",
            "8453/8453 [==============================] - 432s 51ms/step - loss: 0.0085 - accuracy: 0.7186 - recall_24: 0.5332 - precision_24: 0.5506 - val_loss: 0.0079 - val_accuracy: 0.7405 - val_recall_24: 0.5585 - val_precision_24: 0.4928\n",
            "Epoch 14/30\n",
            "8453/8453 [==============================] - 431s 51ms/step - loss: 0.0085 - accuracy: 0.7175 - recall_24: 0.5477 - precision_24: 0.5472 - val_loss: 0.0079 - val_accuracy: 0.7327 - val_recall_24: 0.5940 - val_precision_24: 0.4811\n",
            "Epoch 15/30\n",
            "8453/8453 [==============================] - 429s 51ms/step - loss: 0.0085 - accuracy: 0.7187 - recall_24: 0.5471 - precision_24: 0.5493 - val_loss: 0.0080 - val_accuracy: 0.7575 - val_recall_24: 0.4843 - val_precision_24: 0.5274\n",
            "Epoch 16/30\n",
            "8453/8453 [==============================] - 429s 51ms/step - loss: 0.0085 - accuracy: 0.7177 - recall_24: 0.5524 - precision_24: 0.5471 - val_loss: 0.0080 - val_accuracy: 0.7588 - val_recall_24: 0.4748 - val_precision_24: 0.5311\n",
            "Epoch 17/30\n",
            "8453/8453 [==============================] - 428s 51ms/step - loss: 0.0085 - accuracy: 0.7168 - recall_24: 0.5506 - precision_24: 0.5456 - val_loss: 0.0080 - val_accuracy: 0.7312 - val_recall_24: 0.5943 - val_precision_24: 0.4788\n",
            "Epoch 18/30\n",
            "8453/8453 [==============================] - 434s 51ms/step - loss: 0.0085 - accuracy: 0.7146 - recall_24: 0.5756 - precision_24: 0.5399 - val_loss: 0.0080 - val_accuracy: 0.7172 - val_recall_24: 0.6397 - val_precision_24: 0.4612\n",
            "Epoch 19/30\n",
            "8453/8453 [==============================] - 431s 51ms/step - loss: 0.0085 - accuracy: 0.7143 - recall_24: 0.5714 - precision_24: 0.5398 - val_loss: 0.0079 - val_accuracy: 0.7201 - val_recall_24: 0.6276 - val_precision_24: 0.4644\n",
            "Epoch 20/30\n",
            "8453/8453 [==============================] - 422s 50ms/step - loss: 0.0085 - accuracy: 0.7146 - recall_24: 0.5701 - precision_24: 0.5403 - val_loss: 0.0080 - val_accuracy: 0.7214 - val_recall_24: 0.6247 - val_precision_24: 0.4661\n",
            "Epoch 21/30\n",
            "8453/8453 [==============================] - 417s 49ms/step - loss: 0.0085 - accuracy: 0.7148 - recall_24: 0.5705 - precision_24: 0.5406 - val_loss: 0.0080 - val_accuracy: 0.7300 - val_recall_24: 0.6024 - val_precision_24: 0.4773\n",
            "Epoch 22/30\n",
            "8453/8453 [==============================] - 426s 50ms/step - loss: 0.0085 - accuracy: 0.7142 - recall_24: 0.5681 - precision_24: 0.5397 - val_loss: 0.0080 - val_accuracy: 0.7343 - val_recall_24: 0.5845 - val_precision_24: 0.4833\n",
            "Epoch 23/30\n",
            "8453/8453 [==============================] - 417s 49ms/step - loss: 0.0086 - accuracy: 0.7120 - recall_24: 0.5661 - precision_24: 0.5364 - val_loss: 0.0080 - val_accuracy: 0.7290 - val_recall_24: 0.6001 - val_precision_24: 0.4758\n",
            "Epoch 24/30\n",
            "8453/8453 [==============================] - 432s 51ms/step - loss: 0.0086 - accuracy: 0.7118 - recall_24: 0.5716 - precision_24: 0.5356 - val_loss: 0.0080 - val_accuracy: 0.7338 - val_recall_24: 0.5875 - val_precision_24: 0.4826\n",
            "Epoch 25/30\n",
            "8453/8453 [==============================] - 421s 50ms/step - loss: 0.0086 - accuracy: 0.7099 - recall_24: 0.5732 - precision_24: 0.5324 - val_loss: 0.0080 - val_accuracy: 0.7340 - val_recall_24: 0.5957 - val_precision_24: 0.4831\n",
            "Epoch 26/30\n",
            "8453/8453 [==============================] - 426s 50ms/step - loss: 0.0086 - accuracy: 0.7123 - recall_24: 0.5694 - precision_24: 0.5366 - val_loss: 0.0080 - val_accuracy: 0.7234 - val_recall_24: 0.6255 - val_precision_24: 0.4689\n",
            "Epoch 27/30\n",
            "8453/8453 [==============================] - 420s 50ms/step - loss: 0.0086 - accuracy: 0.7106 - recall_24: 0.5752 - precision_24: 0.5336 - val_loss: 0.0083 - val_accuracy: 0.6105 - val_recall_24: 0.8436 - val_precision_24: 0.3813\n",
            "Epoch 28/30\n",
            "8453/8453 [==============================] - 430s 51ms/step - loss: 0.0087 - accuracy: 0.7065 - recall_24: 0.5729 - precision_24: 0.5272 - val_loss: 0.0081 - val_accuracy: 0.7327 - val_recall_24: 0.5833 - val_precision_24: 0.4806\n",
            "Epoch 29/30\n",
            "8453/8453 [==============================] - 429s 51ms/step - loss: 0.0088 - accuracy: 0.7045 - recall_24: 0.5667 - precision_24: 0.5244 - val_loss: 0.0081 - val_accuracy: 0.7213 - val_recall_24: 0.6171 - val_precision_24: 0.4655\n",
            "Epoch 30/30\n",
            "8453/8453 [==============================] - 428s 51ms/step - loss: 0.0088 - accuracy: 0.6999 - recall_24: 0.5816 - precision_24: 0.5168 - val_loss: 0.0084 - val_accuracy: 0.6983 - val_recall_24: 0.6576 - val_precision_24: 0.4393\n"
          ]
        }
      ],
      "source": [
        "# Define the CNN model\n",
        "model6= Sequential([\n",
        "    Conv1D(filters=32, kernel_size=3, activation='relu', input_shape=input_shape, padding='same'),\n",
        "    MaxPooling1D(pool_size=2),\n",
        "    BatchNormalization(),\n",
        "    Dropout(0.2),\n",
        "\n",
        "    Conv1D(filters=64, kernel_size=3, activation='relu', padding='same'),\n",
        "    MaxPooling1D(pool_size=2),\n",
        "    BatchNormalization(),\n",
        "    Dropout(0.2),\n",
        "\n",
        "    Conv1D(filters=128, kernel_size=3, activation='relu', padding='same'),\n",
        "    MaxPooling1D(pool_size=2),\n",
        "    BatchNormalization(),\n",
        "    Dropout(0.2),\n",
        "\n",
        "    Conv1D(filters=256, kernel_size=3, activation='relu', padding='same'),\n",
        "    MaxPooling1D(pool_size=2),\n",
        "    BatchNormalization(),\n",
        "    Dropout(0.2),\n",
        "\n",
        "    Conv1D(filters=512, kernel_size=3, activation='relu', padding='same'),\n",
        "    MaxPooling1D(pool_size=2),\n",
        "    BatchNormalization(),\n",
        "    Dropout(0.2),\n",
        "    Flatten(),\n",
        "\n",
        "    Dense(512, activation='relu'),\n",
        "    Dropout(0.2),\n",
        "\n",
        "    Dense(256, activation='relu'),\n",
        "    Dropout(0.2),\n",
        "\n",
        "    Dense(128, activation='relu'),\n",
        "    Dropout(0.2),\n",
        "\n",
        "    Dense(64, activation='relu'),\n",
        "    Dropout(0.2),\n",
        "\n",
        "    Dense(1, activation='sigmoid')\n",
        "])\n",
        "\n",
        "# Compile the model with the desired optimizer, loss function, and metrics\n",
        "model6.compile(optimizer=tf.keras.optimizers.Adam(learning_rate=0.001),\n",
        "              loss=keras_cv.losses.FocalLoss(alpha=0.6, gamma=5),\n",
        "              metrics=['accuracy', tf.keras.metrics.Recall(), tf.keras.metrics.Precision()])\n",
        "\n",
        "# Define learning rate scheduler\n",
        "def lr_scheduler(epoch, lr):\n",
        "    if epoch < 5:\n",
        "        return lr\n",
        "    else:\n",
        "        return lr * tf.math.exp(-0.1)\n",
        "\n",
        "lr_callback = LearningRateScheduler(lr_scheduler)\n",
        "\n",
        "# Define early stopping criteria\n",
        "early_stopping = EarlyStopping(monitor='val_loss', patience=3, restore_best_weights=True)\n",
        "\n",
        "# Train the model with early stopping and learning rate scheduler\n",
        "history6 = model6.fit(train_dataset, epochs=30, batch_size=64,\n",
        "                    validation_data=val_dataset)\n",
        "\n",
        "\n",
        "\n",
        "\n",
        "\n"
      ]
    },
    {
      "cell_type": "code",
      "execution_count": null,
      "metadata": {
        "colab": {
          "base_uri": "https://localhost:8080/"
        },
        "id": "jU2lShSheenz",
        "outputId": "a1cb2331-014e-4c23-af3a-797b45308ed3"
      },
      "outputs": [
        {
          "name": "stdout",
          "output_type": "stream",
          "text": [
            "2818/2818 [==============================] - 92s 33ms/step - loss: 0.0099 - accuracy: 0.6279 - recall_24: 0.5842 - precision_24: 0.4619\n",
            "Test Loss: 0.009872292168438435\n",
            "Test Accuracy: 0.6278614401817322\n",
            "Test recall: 0.5841820240020752\n",
            "Test precision: 0.4618847966194153\n"
          ]
        }
      ],
      "source": [
        "loss, accuracy, recall, precision = model6.evaluate(test_dataset)\n",
        "print(\"Test Loss:\", loss)\n",
        "print(\"Test Accuracy:\", accuracy)\n",
        "print(\"Test recall:\", recall)\n",
        "print(\"Test precision:\", precision)"
      ]
    },
    {
      "cell_type": "code",
      "execution_count": null,
      "metadata": {
        "colab": {
          "base_uri": "https://localhost:8080/",
          "height": 472
        },
        "id": "WxwLOZ3ferCt",
        "outputId": "1265f026-bf6a-44e0-f5de-063a211525af"
      },
      "outputs": [
        {
          "data": {
            "image/png": "[encoded data removed]",
            "text/plain": [
              "<Figure size 640x480 with 1 Axes>"
            ]
          },
          "metadata": {},
          "output_type": "display_data"
        }
      ],
      "source": [
        "plt.plot(history6.history['loss'])\n",
        "plt.plot(history6.history['val_loss'])\n",
        "plt.title('Model Loss')\n",
        "plt.ylabel('Loss')\n",
        "plt.xlabel('Epoch')\n",
        "plt.legend(['Train', 'Validation'], loc='upper left')\n",
        "plt.show()"
      ]
    },
    {
      "cell_type": "markdown",
      "metadata": {
        "id": "i3e9Pu4-aQJ7"
      },
      "source": [
        "This model implements Focal cross entropy loss, that tries to put more emphasis on observations that are hard to classify, you can also specify the what class to put higher weights on"
      ]
    },
    {
      "cell_type": "code",
      "execution_count": null,
      "metadata": {
        "colab": {
          "base_uri": "https://localhost:8080/"
        },
        "id": "vwGtuFb8vrto",
        "outputId": "70dfd11b-2a44-4fda-e6df-71ae3ea344a4"
      },
      "outputs": [
        {
          "name": "stdout",
          "output_type": "stream",
          "text": [
            "Epoch 1/10\n",
            "16905/16905 [==============================] - 452s 26ms/step - loss: 0.0747 - accuracy: 0.4215 - recall_4: 0.8629 - precision_4: 0.3344 - val_loss: 0.0577 - val_accuracy: 0.4368 - val_recall_4: 0.9449 - val_precision_4: 0.3052\n",
            "Epoch 2/10\n",
            "16905/16905 [==============================] - 428s 25ms/step - loss: 0.0573 - accuracy: 0.5024 - recall_4: 0.9072 - precision_4: 0.3765 - val_loss: 0.0566 - val_accuracy: 0.4610 - val_recall_4: 0.9397 - val_precision_4: 0.3143\n",
            "Epoch 3/10\n",
            "16905/16905 [==============================] - 440s 26ms/step - loss: 0.0564 - accuracy: 0.5104 - recall_4: 0.9127 - precision_4: 0.3811 - val_loss: 0.0556 - val_accuracy: 0.4842 - val_recall_4: 0.9252 - val_precision_4: 0.3223\n",
            "Epoch 4/10\n",
            "16905/16905 [==============================] - 432s 26ms/step - loss: 0.0559 - accuracy: 0.5170 - recall_4: 0.9129 - precision_4: 0.3845 - val_loss: 0.0548 - val_accuracy: 0.4976 - val_recall_4: 0.9203 - val_precision_4: 0.3277\n",
            "Epoch 5/10\n",
            "16905/16905 [==============================] - 430s 25ms/step - loss: 0.0555 - accuracy: 0.5236 - recall_4: 0.9131 - precision_4: 0.3880 - val_loss: 0.0540 - val_accuracy: 0.5035 - val_recall_4: 0.9255 - val_precision_4: 0.3310\n",
            "Epoch 6/10\n",
            "16905/16905 [==============================] - 440s 26ms/step - loss: 0.0552 - accuracy: 0.5269 - recall_4: 0.9139 - precision_4: 0.3898 - val_loss: 0.0537 - val_accuracy: 0.5212 - val_recall_4: 0.9208 - val_precision_4: 0.3390\n",
            "Epoch 7/10\n",
            "16905/16905 [==============================] - 441s 26ms/step - loss: 0.0550 - accuracy: 0.5304 - recall_4: 0.9137 - precision_4: 0.3917 - val_loss: 0.0532 - val_accuracy: 0.5360 - val_recall_4: 0.9157 - val_precision_4: 0.3457\n",
            "Epoch 8/10\n",
            "16905/16905 [==============================] - 438s 26ms/step - loss: 0.0548 - accuracy: 0.5333 - recall_4: 0.9138 - precision_4: 0.3932 - val_loss: 0.0526 - val_accuracy: 0.5442 - val_recall_4: 0.9154 - val_precision_4: 0.3499\n",
            "Epoch 9/10\n",
            "16905/16905 [==============================] - 435s 26ms/step - loss: 0.0548 - accuracy: 0.5344 - recall_4: 0.9134 - precision_4: 0.3938 - val_loss: 0.0526 - val_accuracy: 0.5451 - val_recall_4: 0.9173 - val_precision_4: 0.3506\n",
            "Epoch 10/10\n",
            "16905/16905 [==============================] - 440s 26ms/step - loss: 0.0546 - accuracy: 0.5360 - recall_4: 0.9132 - precision_4: 0.3947 - val_loss: 0.0521 - val_accuracy: 0.5475 - val_recall_4: 0.9167 - val_precision_4: 0.3518\n"
          ]
        }
      ],
      "source": [
        "from tensorflow.keras.models import Sequential\n",
        "from tensorflow.keras.layers import Conv1D, MaxPooling1D, Flatten, Dense, Dropout, BatchNormalization\n",
        "from tensorflow.keras.callbacks import EarlyStopping, LearningRateScheduler\n",
        "import tensorflow as tf\n",
        "\n",
        "# Define the CNN model\n",
        "model7 = Sequential([\n",
        "    Conv1D(filters=32, kernel_size=3, activation='relu', input_shape=input_shape, padding='same'),\n",
        "    MaxPooling1D(pool_size=2),\n",
        "    BatchNormalization(),\n",
        "    Dropout(0.5),\n",
        "\n",
        "    Conv1D(filters=64, kernel_size=3, activation='relu', padding='same'),\n",
        "    MaxPooling1D(pool_size=2),\n",
        "    BatchNormalization(),\n",
        "    Dropout(0.5),\n",
        "\n",
        "    Conv1D(filters=128, kernel_size=3, activation='relu', padding='same'),\n",
        "    MaxPooling1D(pool_size=2),\n",
        "    BatchNormalization(),\n",
        "    Dropout(0.5),\n",
        "\n",
        "    Flatten(),\n",
        "\n",
        "    Dense(128, activation='relu'),\n",
        "    Dropout(0.5),\n",
        "\n",
        "    Dense(1, activation='sigmoid')\n",
        "])\n",
        "\n",
        "# Compile the model with the desired optimizer, loss function, and metrics\n",
        "model7.compile(optimizer=tf.keras.optimizers.Adam(learning_rate=0.0001),\n",
        "              loss=keras_cv.losses.FocalLoss(alpha=0.8),\n",
        "              metrics=['accuracy', tf.keras.metrics.Recall(), tf.keras.metrics.Precision()])\n",
        "\n",
        "# Define learning rate scheduler\n",
        "def lr_scheduler(epoch, lr):\n",
        "    if epoch < 5:\n",
        "        return lr\n",
        "    else:\n",
        "        return lr * tf.math.exp(-0.1)\n",
        "\n",
        "lr_callback = LearningRateScheduler(lr_scheduler)\n",
        "\n",
        "# Define early stopping criteria\n",
        "early_stopping = EarlyStopping(monitor='val_loss', patience=3, restore_best_weights=True)\n",
        "\n",
        "# Train the model with early stopping and learning rate scheduler\n",
        "history7 = model7.fit(train_dataset, epochs=10, batch_size=128,\n",
        "                    validation_data=val_dataset)\n",
        "\n",
        "\n",
        "\n",
        "\n",
        "\n"
      ]
    },
    {
      "cell_type": "code",
      "execution_count": null,
      "metadata": {
        "id": "FNGW8LV3jHg7"
      },
      "outputs": [],
      "source": [
        "history8 = model7.fit(train_dataset, epochs=20, batch_size=128,\n",
        "                    validation_data=val_dataset)"
      ]
    },
    {
      "cell_type": "code",
      "execution_count": null,
      "metadata": {
        "colab": {
          "base_uri": "https://localhost:8080/"
        },
        "id": "uw8Bb0kuHJGS",
        "outputId": "dc14728b-e981-4219-9c02-3b15c7645b0f"
      },
      "outputs": [
        {
          "name": "stdout",
          "output_type": "stream",
          "text": [
            "5635/5635 [==============================] - 97s 17ms/step - loss: 0.0728 - accuracy: 0.5304 - recall_4: 0.8208 - precision_4: 0.4053\n",
            "Test Loss: 0.07278092205524445\n",
            "Test Accuracy: 0.5304270386695862\n",
            "Test recall: 0.8207943439483643\n",
            "Test precision: 0.4053165912628174\n"
          ]
        }
      ],
      "source": [
        "# Evaluate the model\n",
        "loss, accuracy, recall, precision = model7.evaluate(test_dataset)\n",
        "print(\"Test Loss:\", loss)\n",
        "print(\"Test Accuracy:\", accuracy)\n",
        "print(\"Test recall:\", recall)\n",
        "print(\"Test precision:\", precision)"
      ]
    },
    {
      "cell_type": "code",
      "execution_count": null,
      "metadata": {
        "colab": {
          "base_uri": "https://localhost:8080/",
          "height": 472
        },
        "id": "DGmMLDgYaEli",
        "outputId": "8f40dddf-e8ec-48e6-d0d6-dc43df9c4624"
      },
      "outputs": [
        {
          "data": {
            "image/png": "[encoded data removed]",
            "text/plain": [
              "<Figure size 640x480 with 1 Axes>"
            ]
          },
          "metadata": {},
          "output_type": "display_data"
        }
      ],
      "source": [
        "plt.plot(history7.history['loss'])\n",
        "plt.plot(history7.history['val_loss'])\n",
        "plt.title('Model Loss')\n",
        "plt.ylabel('Loss')\n",
        "plt.xlabel('Epoch')\n",
        "plt.legend(['Train', 'Validation'], loc='upper left')\n",
        "plt.show()"
      ]
    },
    {
      "cell_type": "code",
      "execution_count": null,
      "metadata": {
        "id": "sGi4lW2YD0_R"
      },
      "outputs": [],
      "source": [
        "from tensorflow.keras.models import load_model\n",
        "import pickle\n",
        "\n",
        "# Assuming you have trained your model and stored the training history in a variable called 'history'\n",
        "\n",
        "# Save the trained model\n",
        "model7.save(\"/content/drive/MyDrive/soon_best.keras\")\n",
        "\n",
        "# Save the training history\n",
        "with open('/content/drive/MyDrive/history7.pkl', 'wb') as file:\n",
        "    pickle.dump(history2.history, file)"
      ]
    },
    {
      "cell_type": "code",
      "execution_count": null,
      "metadata": {
        "colab": {
          "base_uri": "https://localhost:8080/"
        },
        "id": "2sGDqubnEQ2i",
        "outputId": "b92d25cf-f593-4fa5-805b-3b5c10af1625"
      },
      "outputs": [
        {
          "output_type": "stream",
          "name": "stdout",
          "text": [
            "Epoch 1/50\n",
            "16905/16905 [==============================] - 470s 28ms/step - loss: 0.0179 - accuracy: 0.5577 - recall_4: 0.4798 - precision_4: 0.3483 - val_loss: 0.0022 - val_accuracy: 0.4342 - val_recall_4: 0.7616 - val_precision_4: 0.2780\n",
            "Epoch 2/50\n",
            "16905/16905 [==============================] - 471s 28ms/step - loss: 0.0022 - accuracy: 0.6071 - recall_4: 0.6934 - precision_4: 0.4212 - val_loss: 0.0022 - val_accuracy: 0.4935 - val_recall_4: 0.9017 - val_precision_4: 0.3235\n",
            "Epoch 3/50\n",
            "16905/16905 [==============================] - 471s 28ms/step - loss: 0.0021 - accuracy: 0.6250 - recall_4: 0.7168 - precision_4: 0.4382 - val_loss: 0.0021 - val_accuracy: 0.5087 - val_recall_4: 0.9132 - val_precision_4: 0.3320\n",
            "Epoch 4/50\n",
            "16905/16905 [==============================] - 462s 27ms/step - loss: 0.0021 - accuracy: 0.6328 - recall_4: 0.7240 - precision_4: 0.4455 - val_loss: 0.0021 - val_accuracy: 0.5074 - val_recall_4: 0.9219 - val_precision_4: 0.3325\n",
            "Epoch 5/50\n",
            "16905/16905 [==============================] - 456s 27ms/step - loss: 0.0021 - accuracy: 0.6355 - recall_4: 0.7346 - precision_4: 0.4485 - val_loss: 0.0020 - val_accuracy: 0.5460 - val_recall_4: 0.8880 - val_precision_4: 0.3477\n",
            "Epoch 6/50\n",
            "16905/16905 [==============================] - 468s 28ms/step - loss: 0.0020 - accuracy: 0.6373 - recall_4: 0.7400 - precision_4: 0.4505 - val_loss: 0.0020 - val_accuracy: 0.5732 - val_recall_4: 0.8631 - val_precision_4: 0.3600\n",
            "Epoch 7/50\n",
            "16905/16905 [==============================] - 481s 28ms/step - loss: 0.0020 - accuracy: 0.6393 - recall_4: 0.7418 - precision_4: 0.4524 - val_loss: 0.0020 - val_accuracy: 0.5697 - val_recall_4: 0.8748 - val_precision_4: 0.3593\n",
            "Epoch 8/50\n",
            "16905/16905 [==============================] - 474s 28ms/step - loss: 0.0020 - accuracy: 0.6407 - recall_4: 0.7435 - precision_4: 0.4537 - val_loss: 0.0020 - val_accuracy: 0.5934 - val_recall_4: 0.8566 - val_precision_4: 0.3715\n",
            "Epoch 9/50\n",
            "16905/16905 [==============================] - 474s 28ms/step - loss: 0.0020 - accuracy: 0.6418 - recall_4: 0.7456 - precision_4: 0.4548 - val_loss: 0.0020 - val_accuracy: 0.5988 - val_recall_4: 0.8526 - val_precision_4: 0.3745\n",
            "Epoch 10/50\n",
            "16905/16905 [==============================] - 462s 27ms/step - loss: 0.0020 - accuracy: 0.6427 - recall_4: 0.7468 - precision_4: 0.4556 - val_loss: 0.0020 - val_accuracy: 0.6140 - val_recall_4: 0.8336 - val_precision_4: 0.3826\n",
            "Epoch 11/50\n",
            "16905/16905 [==============================] - 527s 31ms/step - loss: 0.0020 - accuracy: 0.6434 - recall_4: 0.7481 - precision_4: 0.4563 - val_loss: 0.0019 - val_accuracy: 0.6255 - val_recall_4: 0.8188 - val_precision_4: 0.3891\n",
            "Epoch 12/50\n",
            "16905/16905 [==============================] - 469s 28ms/step - loss: 0.0020 - accuracy: 0.6442 - recall_4: 0.7488 - precision_4: 0.4570 - val_loss: 0.0019 - val_accuracy: 0.6300 - val_recall_4: 0.8135 - val_precision_4: 0.3919\n",
            "Epoch 13/50\n",
            "16905/16905 [==============================] - 470s 28ms/step - loss: 0.0020 - accuracy: 0.6448 - recall_4: 0.7492 - precision_4: 0.4576 - val_loss: 0.0019 - val_accuracy: 0.6260 - val_recall_4: 0.8221 - val_precision_4: 0.3898\n",
            "Epoch 14/50\n",
            "16905/16905 [==============================] - 529s 31ms/step - loss: 0.0020 - accuracy: 0.6450 - recall_4: 0.7501 - precision_4: 0.4578 - val_loss: 0.0019 - val_accuracy: 0.6235 - val_recall_4: 0.8274 - val_precision_4: 0.3886\n",
            "Epoch 15/50\n",
            "16905/16905 [==============================] - 463s 27ms/step - loss: 0.0020 - accuracy: 0.6452 - recall_4: 0.7512 - precision_4: 0.4581 - val_loss: 0.0019 - val_accuracy: 0.6229 - val_recall_4: 0.8277 - val_precision_4: 0.3882\n",
            "Epoch 16/50\n",
            "16905/16905 [==============================] - 457s 27ms/step - loss: 0.0020 - accuracy: 0.6467 - recall_4: 0.7500 - precision_4: 0.4594 - val_loss: 0.0019 - val_accuracy: 0.6274 - val_recall_4: 0.8210 - val_precision_4: 0.3908\n",
            "Epoch 17/50\n",
            "16905/16905 [==============================] - 445s 26ms/step - loss: 0.0020 - accuracy: 0.6470 - recall_4: 0.7500 - precision_4: 0.4597 - val_loss: 0.0019 - val_accuracy: 0.6264 - val_recall_4: 0.8235 - val_precision_4: 0.3902\n",
            "Epoch 18/50\n",
            "16905/16905 [==============================] - 443s 26ms/step - loss: 0.0020 - accuracy: 0.6465 - recall_4: 0.7501 - precision_4: 0.4593 - val_loss: 0.0019 - val_accuracy: 0.6308 - val_recall_4: 0.8172 - val_precision_4: 0.3929\n",
            "Epoch 19/50\n",
            "16905/16905 [==============================] - 458s 27ms/step - loss: 0.0020 - accuracy: 0.6475 - recall_4: 0.7504 - precision_4: 0.4601 - val_loss: 0.0019 - val_accuracy: 0.6238 - val_recall_4: 0.8283 - val_precision_4: 0.3889\n",
            "Epoch 20/50\n",
            "16905/16905 [==============================] - 455s 27ms/step - loss: 0.0020 - accuracy: 0.6472 - recall_4: 0.7514 - precision_4: 0.4599 - val_loss: 0.0019 - val_accuracy: 0.6359 - val_recall_4: 0.8106 - val_precision_4: 0.3960\n",
            "Epoch 21/50\n",
            "16905/16905 [==============================] - 462s 27ms/step - loss: 0.0020 - accuracy: 0.6471 - recall_4: 0.7517 - precision_4: 0.4598 - val_loss: 0.0019 - val_accuracy: 0.6354 - val_recall_4: 0.8114 - val_precision_4: 0.3957\n",
            "Epoch 22/50\n",
            "16905/16905 [==============================] - 464s 27ms/step - loss: 0.0020 - accuracy: 0.6476 - recall_4: 0.7514 - precision_4: 0.4602 - val_loss: 0.0019 - val_accuracy: 0.6347 - val_recall_4: 0.8129 - val_precision_4: 0.3953\n",
            "Epoch 23/50\n",
            "16905/16905 [==============================] - 457s 27ms/step - loss: 0.0020 - accuracy: 0.6473 - recall_4: 0.7519 - precision_4: 0.4601 - val_loss: 0.0019 - val_accuracy: 0.6428 - val_recall_4: 0.7982 - val_precision_4: 0.4000\n",
            "Epoch 24/50\n",
            "16905/16905 [==============================] - 451s 27ms/step - loss: 0.0020 - accuracy: 0.6479 - recall_4: 0.7522 - precision_4: 0.4606 - val_loss: 0.0019 - val_accuracy: 0.6350 - val_recall_4: 0.8100 - val_precision_4: 0.3952\n",
            "Epoch 25/50\n",
            "16905/16905 [==============================] - 445s 26ms/step - loss: 0.0020 - accuracy: 0.6484 - recall_4: 0.7508 - precision_4: 0.4610 - val_loss: 0.0019 - val_accuracy: 0.6305 - val_recall_4: 0.8149 - val_precision_4: 0.3924\n",
            "Epoch 26/50\n",
            "16905/16905 [==============================] - 456s 27ms/step - loss: 0.0020 - accuracy: 0.6488 - recall_4: 0.7503 - precision_4: 0.4613 - val_loss: 0.0019 - val_accuracy: 0.6347 - val_recall_4: 0.8095 - val_precision_4: 0.3950\n",
            "Epoch 27/50\n",
            "16905/16905 [==============================] - 464s 27ms/step - loss: 0.0020 - accuracy: 0.6489 - recall_4: 0.7512 - precision_4: 0.4615 - val_loss: 0.0019 - val_accuracy: 0.6343 - val_recall_4: 0.8071 - val_precision_4: 0.3944\n",
            "Epoch 28/50\n",
            "16905/16905 [==============================] - 450s 27ms/step - loss: 0.0020 - accuracy: 0.6484 - recall_4: 0.7519 - precision_4: 0.4610 - val_loss: 0.0019 - val_accuracy: 0.6227 - val_recall_4: 0.8212 - val_precision_4: 0.3874\n",
            "Epoch 29/50\n",
            "16905/16905 [==============================] - 449s 27ms/step - loss: 0.0020 - accuracy: 0.6489 - recall_4: 0.7512 - precision_4: 0.4614 - val_loss: 0.0019 - val_accuracy: 0.6108 - val_recall_4: 0.8331 - val_precision_4: 0.3803\n",
            "Epoch 30/50\n",
            "16905/16905 [==============================] - 452s 27ms/step - loss: 0.0020 - accuracy: 0.6486 - recall_4: 0.7529 - precision_4: 0.4613 - val_loss: 0.0020 - val_accuracy: 0.6025 - val_recall_4: 0.8304 - val_precision_4: 0.3745\n",
            "Epoch 31/50\n",
            "16905/16905 [==============================] - 452s 27ms/step - loss: 0.0020 - accuracy: 0.6492 - recall_4: 0.7518 - precision_4: 0.4617 - val_loss: 0.0019 - val_accuracy: 0.6063 - val_recall_4: 0.8318 - val_precision_4: 0.3771\n",
            "Epoch 32/50\n",
            "16905/16905 [==============================] - 450s 27ms/step - loss: 0.0020 - accuracy: 0.6493 - recall_4: 0.7509 - precision_4: 0.4618 - val_loss: 0.0019 - val_accuracy: 0.6269 - val_recall_4: 0.8137 - val_precision_4: 0.3896\n",
            "Epoch 33/50\n",
            "16905/16905 [==============================] - 446s 26ms/step - loss: 0.0020 - accuracy: 0.6494 - recall_4: 0.7513 - precision_4: 0.4619 - val_loss: 0.0019 - val_accuracy: 0.6139 - val_recall_4: 0.8294 - val_precision_4: 0.3820\n",
            "Epoch 34/50\n",
            "16905/16905 [==============================] - 443s 26ms/step - loss: 0.0020 - accuracy: 0.6497 - recall_4: 0.7515 - precision_4: 0.4622 - val_loss: 0.0019 - val_accuracy: 0.6349 - val_recall_4: 0.8070 - val_precision_4: 0.3949\n",
            "Epoch 35/50\n",
            "16905/16905 [==============================] - 442s 26ms/step - loss: 0.0020 - accuracy: 0.6504 - recall_4: 0.7508 - precision_4: 0.4628 - val_loss: 0.0019 - val_accuracy: 0.6238 - val_recall_4: 0.8181 - val_precision_4: 0.3878\n",
            "Epoch 36/50\n",
            "16905/16905 [==============================] - 442s 26ms/step - loss: 0.0020 - accuracy: 0.6501 - recall_4: 0.7511 - precision_4: 0.4625 - val_loss: 0.0019 - val_accuracy: 0.6317 - val_recall_4: 0.8054 - val_precision_4: 0.3922\n",
            "Epoch 37/50\n",
            "16905/16905 [==============================] - 446s 26ms/step - loss: 0.0020 - accuracy: 0.6498 - recall_4: 0.7513 - precision_4: 0.4623 - val_loss: 0.0019 - val_accuracy: 0.6147 - val_recall_4: 0.8181 - val_precision_4: 0.3813\n",
            "Epoch 38/50\n",
            "16905/16905 [==============================] - 451s 27ms/step - loss: 0.0020 - accuracy: 0.6498 - recall_4: 0.7508 - precision_4: 0.4622 - val_loss: 0.0019 - val_accuracy: 0.6115 - val_recall_4: 0.8189 - val_precision_4: 0.3792\n",
            "Epoch 39/50\n",
            "16905/16905 [==============================] - 459s 27ms/step - loss: 0.0020 - accuracy: 0.6503 - recall_4: 0.7519 - precision_4: 0.4627 - val_loss: 0.0019 - val_accuracy: 0.6092 - val_recall_4: 0.8288 - val_precision_4: 0.3788\n",
            "Epoch 40/50\n",
            "16905/16905 [==============================] - 453s 27ms/step - loss: 0.0020 - accuracy: 0.6507 - recall_4: 0.7507 - precision_4: 0.4631 - val_loss: 0.0020 - val_accuracy: 0.6046 - val_recall_4: 0.8185 - val_precision_4: 0.3745\n",
            "Epoch 41/50\n",
            "16905/16905 [==============================] - 454s 27ms/step - loss: 0.0020 - accuracy: 0.6503 - recall_4: 0.7511 - precision_4: 0.4627 - val_loss: 0.0019 - val_accuracy: 0.6129 - val_recall_4: 0.8186 - val_precision_4: 0.3802\n",
            "Epoch 42/50\n",
            "16905/16905 [==============================] - 453s 27ms/step - loss: 0.0020 - accuracy: 0.6503 - recall_4: 0.7510 - precision_4: 0.4627 - val_loss: 0.0019 - val_accuracy: 0.6254 - val_recall_4: 0.8109 - val_precision_4: 0.3882\n",
            "Epoch 43/50\n",
            "16905/16905 [==============================] - 447s 26ms/step - loss: 0.0020 - accuracy: 0.6507 - recall_4: 0.7519 - precision_4: 0.4631 - val_loss: 0.0019 - val_accuracy: 0.6239 - val_recall_4: 0.8090 - val_precision_4: 0.3869\n",
            "Epoch 44/50\n",
            "16905/16905 [==============================] - 454s 27ms/step - loss: 0.0020 - accuracy: 0.6504 - recall_4: 0.7509 - precision_4: 0.4628 - val_loss: 0.0019 - val_accuracy: 0.6256 - val_recall_4: 0.8071 - val_precision_4: 0.3879\n",
            "Epoch 45/50\n",
            "16905/16905 [==============================] - 524s 31ms/step - loss: 0.0020 - accuracy: 0.6506 - recall_4: 0.7507 - precision_4: 0.4630 - val_loss: 0.0019 - val_accuracy: 0.6201 - val_recall_4: 0.8091 - val_precision_4: 0.3842\n",
            "Epoch 46/50\n",
            "16905/16905 [==============================] - 451s 27ms/step - loss: 0.0020 - accuracy: 0.6511 - recall_4: 0.7503 - precision_4: 0.4634 - val_loss: 0.0019 - val_accuracy: 0.6137 - val_recall_4: 0.8168 - val_precision_4: 0.3806\n",
            "Epoch 47/50\n",
            "16905/16905 [==============================] - 458s 27ms/step - loss: 0.0020 - accuracy: 0.6505 - recall_4: 0.7521 - precision_4: 0.4629 - val_loss: 0.0019 - val_accuracy: 0.6195 - val_recall_4: 0.8135 - val_precision_4: 0.3842\n",
            "Epoch 48/50\n",
            "16905/16905 [==============================] - 527s 31ms/step - loss: 0.0020 - accuracy: 0.6511 - recall_4: 0.7506 - precision_4: 0.4634 - val_loss: 0.0019 - val_accuracy: 0.6187 - val_recall_4: 0.8119 - val_precision_4: 0.3835\n",
            "Epoch 49/50\n",
            "16905/16905 [==============================] - 453s 27ms/step - loss: 0.0020 - accuracy: 0.6507 - recall_4: 0.7513 - precision_4: 0.4630 - val_loss: 0.0019 - val_accuracy: 0.6210 - val_recall_4: 0.8078 - val_precision_4: 0.3847\n",
            "Epoch 50/50\n",
            "16905/16905 [==============================] - 446s 26ms/step - loss: 0.0020 - accuracy: 0.6508 - recall_4: 0.7516 - precision_4: 0.4632 - val_loss: 0.0019 - val_accuracy: 0.6173 - val_recall_4: 0.8138 - val_precision_4: 0.3827\n"
          ]
        }
      ],
      "source": [
        "from tensorflow.keras.models import Sequential\n",
        "from tensorflow.keras.layers import Conv1D, MaxPooling1D, Flatten, Dense, Dropout, BatchNormalization\n",
        "from tensorflow.keras.callbacks import EarlyStopping, LearningRateScheduler\n",
        "import tensorflow as tf\n",
        "\n",
        "# Define the CNN model\n",
        "model9 = Sequential([\n",
        "    Conv1D(filters=32, kernel_size=3, activation='relu', input_shape=input_shape, padding='same'),\n",
        "    MaxPooling1D(pool_size=2),\n",
        "    BatchNormalization(),\n",
        "    Dropout(0.5),\n",
        "\n",
        "    Conv1D(filters=64, kernel_size=3, activation='relu', padding='same'),\n",
        "    MaxPooling1D(pool_size=2),\n",
        "    BatchNormalization(),\n",
        "    Dropout(0.5),\n",
        "\n",
        "    Conv1D(filters=128, kernel_size=3, activation='relu', padding='same'),\n",
        "    MaxPooling1D(pool_size=2),\n",
        "    BatchNormalization(),\n",
        "    Dropout(0.5),\n",
        "\n",
        "    Flatten(),\n",
        "\n",
        "    Dense(128, activation='relu'),\n",
        "    Dropout(0.5),\n",
        "\n",
        "    Dense(1, activation='sigmoid')\n",
        "])\n",
        "\n",
        "# Compile the model with the desired optimizer, loss function, and metrics\n",
        "model9.compile(optimizer=tf.keras.optimizers.Adam(learning_rate=0.0001),\n",
        "              loss=keras_cv.losses.FocalLoss(alpha=0.7, gamma=7),\n",
        "              metrics=['accuracy', tf.keras.metrics.Recall(), tf.keras.metrics.Precision()])\n",
        "\n",
        "# Define learning rate scheduler\n",
        "def lr_scheduler(epoch, lr):\n",
        "    if epoch < 5:\n",
        "        return lr\n",
        "    else:\n",
        "        return lr * tf.math.exp(-0.1)\n",
        "\n",
        "lr_callback = LearningRateScheduler(lr_scheduler)\n",
        "\n",
        "# Define early stopping criteria\n",
        "early_stopping = EarlyStopping(monitor='val_loss', patience=3, restore_best_weights=True)\n",
        "\n",
        "# Train the model with early stopping and learning rate scheduler\n",
        "history9 = model9.fit(train_dataset, epochs=50, batch_size=128,\n",
        "                    validation_data=val_dataset)"
      ]
    },
    {
      "cell_type": "code",
      "execution_count": null,
      "metadata": {
        "colab": {
          "base_uri": "https://localhost:8080/"
        },
        "id": "gJJncqFoa491",
        "outputId": "861d15d0-1706-4023-ee45-33e56a079369"
      },
      "outputs": [
        {
          "output_type": "stream",
          "name": "stdout",
          "text": [
            "5635/5635 [==============================] - 94s 17ms/step - loss: 0.0027 - accuracy: 0.5997 - recall_4: 0.6821 - precision_4: 0.4419\n",
            "Test Loss: 0.0026856474578380585\n",
            "Test Accuracy: 0.5997374057769775\n",
            "Test recall: 0.6821120977401733\n",
            "Test precision: 0.4419257640838623\n"
          ]
        }
      ],
      "source": [
        "# Evaluate the model\n",
        "loss, accuracy, recall, precision = model9.evaluate(test_dataset)\n",
        "print(\"Test Loss:\", loss)\n",
        "print(\"Test Accuracy:\", accuracy)\n",
        "print(\"Test recall:\", recall)\n",
        "print(\"Test precision:\", precision)"
      ]
    },
    {
      "cell_type": "code",
      "source": [
        "from tensorflow.keras.models import load_model\n",
        "import pickle\n",
        "\n",
        "# Assuming you have trained your model and stored the training history in a variable called 'history'\n",
        "\n",
        "# Save the trained model\n",
        "model9.save(\"/content/drive/MyDrive/your_model9.keras\")\n",
        "\n",
        "# Save the training history\n",
        "with open('/content/drive/MyDrive/history9.pkl', 'wb') as file:\n",
        "    pickle.dump(history9.history, file)"
      ],
      "metadata": {
        "id": "5zvE2GBw5Zxj"
      },
      "execution_count": null,
      "outputs": []
    }
  ],
  "metadata": {
    "accelerator": "GPU",
    "colab": {
      "gpuType": "T4",
      "provenance": []
    },
    "kernelspec": {
      "display_name": "Python 3",
      "name": "python3"
    },
    "language_info": {
      "name": "python"
    }
  },
  "nbformat": 4,
  "nbformat_minor": 0
}